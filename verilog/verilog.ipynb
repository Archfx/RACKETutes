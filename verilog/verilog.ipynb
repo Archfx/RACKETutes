{
 "cells": [
  {
   "attachments": {},
   "cell_type": "markdown",
   "metadata": {},
   "source": [
    "  <picture>\n",
    "  <source srcset=\"https://raw.githubusercontent.com/Archfx/RACKETutes/main/images/racketutes-w.svg\" media=\"(prefers-color-scheme: dark)\">\n",
    "    <img src=\"https://raw.githubusercontent.com/Archfx/RACKETutes/main/images/racketutes.svg\">\n",
    "  </picture>\n",
    "\n",
    "Veri(fy)log : Verifying Hardware with Rosette\n",
    "==="
   ]
  },
  {
   "attachments": {},
   "cell_type": "markdown",
   "metadata": {},
   "source": [
    "In previous posts, we discussed Racket and Rosette. This is the post where we are going to verify our hardware designs using the infrastructure we have developed so far. In a nutshell, we will be looking at verifying Verilog hardware designs with Rosette. First, we will be looking at `bitvectors` data type in Rosette. Then, we will use a Verilog implemented adder circuit to demonstrate how we can use Rosette for hardware verification. We need to follow several steps to convert Verilog designs to Racket (.rkt) native formats. For this purpose, we need [Yosys](https://yosyshq.readthedocs.io/) and [rtlv](https://github.com/anishathalye/rtlv)."
   ]
  },
  {
   "attachments": {},
   "cell_type": "markdown",
   "metadata": {},
   "source": [
    "### Bitvectors\n",
    "\n",
    "In Rosette, the bitvector data type represents a fixed-size sequence of binary digits, commonly known as bits. It is used to model and manipulate binary data at a low level, allowing precise control over the individual bits. Bitvectors in Rosette are defined with a specific width, determining the number of bits they can hold. The bitvector data type in Rosette supports various operations, including bitwise logical operations (AND, OR, XOR, NOT), arithmetic operations (addition, subtraction, multiplication), shifts (left shift, right shift), comparisons (equality, less than, greater than), as well as extraction and concatenation of bits. Bitvectors are especially useful for tasks such as low-level programming, cryptographic operations, hardware design, and other scenarios where precise bit-level manipulation is required. By providing native support for bitvectors, Rosette enables developers to work with binary data more efficiently and accurately within their programs.\n",
    "\n",
    "Rosette defines the following operation types, which might be come in handy for hardware verification\n",
    "\n",
    "- Comparison Operators (`bveq`,`bvstl`,`bvult`, ...)\n",
    "- Bitwise Operators (`bvnot`, `bvand`, `bvor`, ...)\n",
    "- Arithmetic Operators (`bvadd`, `bvsub`, `bvmul`, ...)\n",
    "- Conversion Operators (`concat`, `extract`, ...)\n",
    "- Additional Operators (`bit`, `bvzero`, ...)\n",
    "\n",
    "You can find more information about bitvector data type from [here](https://docs.racket-lang.org/rosette-guide/sec_bitvectors.html)"
   ]
  },
  {
   "attachments": {},
   "cell_type": "markdown",
   "metadata": {},
   "source": [
    "### Verilog to SMT (.v -> .smt2)\n",
    "\n",
    "Now that all the background is set, let's get into hardware verification. First, we will convert the hardware design into a formal model (which in this case it is going to be a smt2 model)  so that our underlying Z3 solver can understand the implementation. For this purpose we use [Yosys](). Let's look at a simple Verilog implementation of a 32-bit adder.\n",
    "\n",
    "```verilog\n",
    "module adder (\n",
    "    input [31:0] a,\n",
    "    input [31:0] b,\n",
    "    output [31:0] c\n",
    ");\n",
    "assign c = a + b;\n",
    "endmodule\n",
    "```\n",
    "\n",
    "In order to convert this into smt2 format we can use the following command\n",
    "\n",
    "```shell\n",
    "yosys -p 'read_verilog -defer adder.v' -p 'prep -flatten -top adder -nordff' -p 'write_smt2 -stdt adder.smt2'\n",
    "```\n",
    "\n",
    "You can generate the command similar commands for Yosys to convert hardware implementations in to different formats from [here](https://archfx.github.io/cad.html). \n",
    "\n",
    "### SMT to Racket (.smt2 -> .rkt)\n",
    "This will generate the smt2 transformed verilog implementation. We need to add the language definition from the `rtlv` to identify it via Rosette. For that, we can use the following command.\n",
    "\n",
    "```shell\n",
    "echo \"#lang yosys\" > adder.rkt\n",
    "cat adder.smt2 >> adder.rkt\n",
    "```\n",
    "\n",
    "This will generate the `adder.rkt` file which we will be used to refer to the implementation.\n"
   ]
  },
  {
   "attachments": {},
   "cell_type": "markdown",
   "metadata": {},
   "source": [
    "### Import the Design\n",
    "\n",
    "In order to import the hardware circuit into the rosette framework we use the `rtlv` library. We use the `require` construct with the following set of racket packages. Note that when specifying the path for the converted racket file of the implementation, you have the path relative to the place you launched the Jupyter Notebook."
   ]
  },
  {
   "cell_type": "code",
   "execution_count": 1,
   "metadata": {
    "vscode": {
     "languageId": "racket"
    }
   },
   "outputs": [],
   "source": [
    "#lang iracket/lang #:require rosette/safe "
   ]
  },
  {
   "cell_type": "code",
   "execution_count": 2,
   "metadata": {
    "vscode": {
     "languageId": "racket"
    }
   },
   "outputs": [],
   "source": [
    "(require rackunit\n",
    "         \"verilog/adder/adder.rkt\"\n",
    "         rosutil\n",
    "         yosys\n",
    "         (only-in racket/base string-append parameterize regexp-match))"
   ]
  },
  {
   "attachments": {},
   "cell_type": "markdown",
   "metadata": {},
   "source": [
    "### Specification\n",
    "\n",
    "Let's write a simple specification for the adder circuit that we have implemented in verilog. For defining the functionality, we will be using bitvector data type. The specification can be simple as below."
   ]
  },
  {
   "cell_type": "code",
   "execution_count": 3,
   "metadata": {
    "vscode": {
     "languageId": "racket"
    }
   },
   "outputs": [],
   "source": [
    ";spec\n",
    "(define (adder-spec x y)\n",
    "   display (bvadd x y))"
   ]
  },
  {
   "attachments": {},
   "cell_type": "markdown",
   "metadata": {},
   "source": [
    "### Test Cases\n",
    "Racket has an inbuilt struct called `test-case` which will be evaluated as a unit test. We can check our implementation against the specification by giving it some inputs and checking for output consistency with the `test-case` syntax as below."
   ]
  },
  {
   "cell_type": "code",
   "execution_count": 4,
   "metadata": {
    "vscode": {
     "languageId": "racket"
    }
   },
   "outputs": [],
   "source": [
    "(test-case \"eq1\"\n",
    "  (define s0 (update-adder_s\n",
    "              (new-symbolic-adder_s)\n",
    "              [a (bv 4 32)]\n",
    "              [b (bv 5 32)]))\n",
    "    (assert (check-equal? (|adder_n c| s0) (adder-spec (bv 4 32) (bv 5 32)))))"
   ]
  },
  {
   "cell_type": "code",
   "execution_count": 5,
   "metadata": {
    "vscode": {
     "languageId": "racket"
    }
   },
   "outputs": [],
   "source": [
    "(test-case \"eq2\"\n",
    "  (define s0 (update-adder_s\n",
    "              (new-symbolic-adder_s)\n",
    "              [a (bv 143 32)]\n",
    "              [b (bv 243 32)]))\n",
    "    (assert (check-equal? (|adder_n c| s0) (adder-spec (bv 143 32) (bv 243 32)))))"
   ]
  },
  {
   "attachments": {},
   "cell_type": "markdown",
   "metadata": {},
   "source": [
    "### Verification\n",
    "For the verification, we can write a wrapper around the implementation mapping the corresponding inputs and outputs between the implementation and formal model."
   ]
  },
  {
   "cell_type": "code",
   "execution_count": 6,
   "metadata": {
    "vscode": {
     "languageId": "racket"
    }
   },
   "outputs": [],
   "source": [
    "(define (adder-imp x y)\n",
    "  (define s0 (update-adder_s\n",
    "              (new-symbolic-adder_s)\n",
    "              [a x]\n",
    "              [b y]))\n",
    "    (|adder_n c| s0))"
   ]
  },
  {
   "attachments": {},
   "cell_type": "markdown",
   "metadata": {},
   "source": [
    "Then we can create a function to ask for the equivalence checking as below,"
   ]
  },
  {
   "cell_type": "code",
   "execution_count": 15,
   "metadata": {
    "vscode": {
     "languageId": "racket"
    }
   },
   "outputs": [],
   "source": [
    "(define (equivalence imp spec x y)\n",
    " (assert (equal? (imp x y) (spec x y) )))\n"
   ]
  },
  {
   "cell_type": "code",
   "execution_count": 16,
   "metadata": {
    "vscode": {
     "languageId": "racket"
    }
   },
   "outputs": [],
   "source": [
    "(define-symbolic x (bitvector 32))\n",
    "(define-symbolic y (bitvector 32))\n",
    "\n",
    "\n",
    "(define satcheck (verify (equivalence adder-imp adder-spec x y)))"
   ]
  },
  {
   "cell_type": "code",
   "execution_count": 19,
   "metadata": {
    "vscode": {
     "languageId": "racket"
    }
   },
   "outputs": [
    {
     "data": {
      "text/html": [
       "<code>(unsat)</code>"
      ],
      "text/plain": [
       "(unsat)"
      ]
     },
     "execution_count": 19,
     "metadata": {},
     "output_type": "execute_result"
    }
   ],
   "source": [
    "satcheck"
   ]
  },
  {
   "attachments": {},
   "cell_type": "markdown",
   "metadata": {},
   "source": [
    "`verify` query returns with `unsat` status, which basically means it does not find a counterexample to violate the assertion. Let's try to change the specification such that the assertion will fail."
   ]
  },
  {
   "cell_type": "code",
   "execution_count": 20,
   "metadata": {
    "vscode": {
     "languageId": "racket"
    }
   },
   "outputs": [],
   "source": [
    ";notspec\n",
    "(define (adder-not-spec x y)\n",
    "   display (bvsub x y)) "
   ]
  },
  {
   "cell_type": "code",
   "execution_count": 21,
   "metadata": {
    "vscode": {
     "languageId": "racket"
    }
   },
   "outputs": [],
   "source": [
    "(define satchecknot (verify (equivalence adder-imp adder-not-spec x y)))"
   ]
  },
  {
   "cell_type": "code",
   "execution_count": 22,
   "metadata": {
    "vscode": {
     "languageId": "racket"
    }
   },
   "outputs": [
    {
     "data": {
      "text/html": [
       "<code>(model\n",
       " [x (bv #x00000000 32)]\n",
       " [y (bv #x20000000 32)])</code>"
      ],
      "text/plain": [
       "(model\n",
       " [x (bv #x00000000 32)]\n",
       " [y (bv #x20000000 32)])"
      ]
     },
     "execution_count": 22,
     "metadata": {},
     "output_type": "execute_result"
    }
   ],
   "source": [
    "satchecknot"
   ]
  },
  {
   "cell_type": "code",
   "execution_count": 24,
   "metadata": {
    "vscode": {
     "languageId": "racket"
    }
   },
   "outputs": [
    {
     "data": {
      "text/html": [
       "<code>(list (bv #x00000000 32) (bv #x20000000 32))</code>"
      ],
      "text/plain": [
       "(list (bv #x00000000 32) (bv #x20000000 32))"
      ]
     },
     "execution_count": 24,
     "metadata": {},
     "output_type": "execute_result"
    }
   ],
   "source": [
    "(evaluate (list x y) satchecknot)"
   ]
  },
  {
   "cell_type": "code",
   "execution_count": 25,
   "metadata": {
    "vscode": {
     "languageId": "racket"
    }
   },
   "outputs": [],
   "source": [
    "(clear-vc!)"
   ]
  },
  {
   "attachments": {},
   "cell_type": "markdown",
   "metadata": {},
   "source": [
    "As you can see, Rosette will produce a counterexample to show that `adder-not-spec` is not consistent with `adder-imp`."
   ]
  },
  {
   "attachments": {},
   "cell_type": "markdown",
   "metadata": {},
   "source": [
    "In this tutorial, we looked at a simple hardware design verification procedure. Once the hardware is lifted into racket syntax by rtlv, all rosette verification constructs can be used to verify the implementations. Rosette + rtlv offers a powerful and effective solution for hardware verification. By leveraging solver-aided techniques and integrating with the Z3 solver, this combination enables engineers and designers to validate and verify hardware designs with confidence. Rosette's support for symbolic bitvectors, constraints, and logical operations allows for precise modeling and manipulation of hardware components at the bit level. This capability is particularly valuable in the context of hardware verification, where complex interactions and intricate behaviors need to be thoroughly examined. With Rosette, engineers can express and reason about hardware properties, perform extensive testing, and automatically generate inputs that satisfy desired conditions. By employing Rosette for hardware verification, professionals can significantly enhance the reliability, correctness, and quality of their hardware designs, reducing the risk of errors and ensuring optimal performance."
   ]
  }
 ],
 "metadata": {
  "kernelspec": {
   "display_name": "Racket",
   "language": "racket",
   "name": "racket"
  },
  "language_info": {
   "codemirror_mode": "scheme",
   "file_extension": ".rkt",
   "mimetype": "text/x-racket",
   "name": "Racket",
   "pygments_lexer": "racket",
   "version": "8.2"
  },
  "orig_nbformat": 4
 },
 "nbformat": 4,
 "nbformat_minor": 2
}
