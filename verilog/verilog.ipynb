{
 "cells": [
  {
   "attachments": {},
   "cell_type": "markdown",
   "metadata": {},
   "source": [
    "  <picture>\n",
    "  <source srcset=\"https://raw.githubusercontent.com/Archfx/RACKETutes/main/images/racketutes-w.svg\" media=\"(prefers-color-scheme: dark)\">\n",
    "    <img src=\"https://raw.githubusercontent.com/Archfx/RACKETutes/main/images/racketutes.svg\">\n",
    "  </picture>\n",
    "\n",
    "Veri(fy)log\n",
    "==="
   ]
  },
  {
   "attachments": {},
   "cell_type": "markdown",
   "metadata": {},
   "source": [
    "In previous posts, we discussed Racket and Rosette. This is the post where we are going to verify our hardware designs using the infrastructure we have developed so far. We will be looking at verifying Verilog hardware designs with Rosette. Later in this tutorial, we will be validating a simple design based on Verilog implemented picoRV processor that works with a simple firmware that we implemented in one of my previous blog posts."
   ]
  },
  {
   "attachments": {},
   "cell_type": "markdown",
   "metadata": {},
   "source": [
    "We need to follow several steps to convert Verilog designs to Racket (.rkt) native formats. For this purpose, we need [Yosys]() and [rtlv]().\n",
    "\n"
   ]
  },
  {
   "attachments": {},
   "cell_type": "markdown",
   "metadata": {},
   "source": [
    "### Verilog to SMT (.v -> .smt2)\n",
    "\n",
    "First, we need to convert the Verilog implementation into SMT space, so that our underlying Z3 solver can understand the implementation. For this purpose we use [Yosys](). Let's look at a simple Verilog implementation of a 32-bit adder.\n",
    "\n",
    "```verilog\n",
    "module adder (\n",
    "    input [31:0] a,\n",
    "    input [31:0] b,\n",
    "    output [31:0] c\n",
    ");\n",
    "assign c = a + b;\n",
    "endmodule\n",
    "```\n",
    "\n",
    "In order to convert this into smt2 format we can use the following command\n",
    "\n",
    "```shell\n",
    "yosys -p 'read_verilog -defer adder.v' -p 'prep -flatten -top adder -nordff' -p 'write_smt2 -stdt adder.smt2'\n",
    "```\n",
    "\n",
    "You can generate the command similar commands for Yosys from [here](https://archfx.github.io/cad.html). \n",
    "\n",
    "### SMT to rkt (.smt2 -> .rkt)\n",
    "This will generate the smt2 transformed verilog implementation. We need to add the language definition from the `rtlv` to identify it via Rosette. For that, we can use the following command.\n",
    "\n",
    "```shell\n",
    "echo #lang yosys $ cat adder.smt > adder.rkt\n",
    "```\n",
    "\n",
    "This will generate the `adder.rkt` file which we will be used to refer to the implementation.\n"
   ]
  },
  {
   "cell_type": "code",
   "execution_count": 1,
   "metadata": {
    "vscode": {
     "languageId": "racket"
    }
   },
   "outputs": [],
   "source": [
    "#lang iracket/lang #:require rosette/safe "
   ]
  },
  {
   "cell_type": "code",
   "execution_count": 4,
   "metadata": {
    "vscode": {
     "languageId": "racket"
    }
   },
   "outputs": [],
   "source": [
    "(require rackunit\n",
    "         \"racketutes/verilog/test/verilog/adder.rkt\"\n",
    "         rosutil\n",
    "         yosys\n",
    "         (only-in racket/base string-append parameterize regexp-match))"
   ]
  },
  {
   "attachments": {},
   "cell_type": "markdown",
   "metadata": {},
   "source": [
    "Specification"
   ]
  },
  {
   "cell_type": "code",
   "execution_count": 5,
   "metadata": {
    "vscode": {
     "languageId": "racket"
    }
   },
   "outputs": [],
   "source": [
    ";spec\n",
    "(define (abs-spec x y)\n",
    "   display (bvadd x y))"
   ]
  },
  {
   "cell_type": "code",
   "execution_count": 6,
   "metadata": {
    "vscode": {
     "languageId": "racket"
    }
   },
   "outputs": [],
   "source": [
    "(test-case \"eq1\"\n",
    "  (define s0 (update-adder_s\n",
    "              (new-symbolic-adder_s)\n",
    "              [a (bv 4 32)]\n",
    "              [b (bv 5 32)]))\n",
    "    (assert (check-equal? (|adder_n c| s0) (abs-spec (bv 4 32) (bv 5 32)))))"
   ]
  },
  {
   "cell_type": "code",
   "execution_count": null,
   "metadata": {
    "vscode": {
     "languageId": "racket"
    }
   },
   "outputs": [],
   "source": []
  }
 ],
 "metadata": {
  "kernelspec": {
   "display_name": "Racket",
   "language": "racket",
   "name": "racket"
  },
  "language_info": {
   "codemirror_mode": "scheme",
   "file_extension": ".rkt",
   "mimetype": "text/x-racket",
   "name": "Racket",
   "pygments_lexer": "racket",
   "version": "8.2"
  },
  "orig_nbformat": 4
 },
 "nbformat": 4,
 "nbformat_minor": 2
}
