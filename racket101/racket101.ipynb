{
 "cells": [
  {
   "attachments": {},
   "cell_type": "markdown",
   "id": "e0b3f782",
   "metadata": {},
   "source": [
    "  <p align=\"center\"><picture>\n",
    "  <source srcset=\"https://raw.githubusercontent.com/Archfx/RACKETutes/main/images/racketutes-w.svg\" media=\"(prefers-color-scheme: dark)\">\n",
    "    <img src=\"https://raw.githubusercontent.com/Archfx/RACKETutes/main/images/racketutes.svg\">\n",
    "  </picture></p>\n",
    "  \n",
    "In the previous post, we looked at setting up the environment for the tutorial series. In this post, we will be looking at basic Racket programming. At the end of the post, we will be doing some Racket programming exercises on the Jyputer environment.\n",
    "Racket is a functional programming language created to avoid confusion in programming semantics. People familiar with javascript might be familiar with confusion in programming languages. Due to the mathematical nature of the syntaxes used, Racket is popular with the formal verification community. Racket comes with three components,\n",
    "\n",
    "<img align=\"right\" width=\"80\" height=\"auto\" alt=\"\" src=\"{{ base_path }}/images/icons/racket.svg\"/>\n",
    "\n",
    "1. `racket` - compiler/ interpriter/ runtime\n",
    "2. `DrRacket` - IDE\n",
    "3. `raco` - package manager\n",
    "\n",
    "In our tutorials, we will be using Racket inside the Jupyter Notebook environment. Setting up the environment with ease is discussed in my [previous post]().\n",
    "\n",
    "This complete post is available as a Jupyter Notebook [here](https://github.com/Archfx/RACKETutes/blob/main/racket101/racket101.ipynb)\n",
    "\n",
    "Usually, we need to start the rkt script with specifying the language variant. "
   ]
  },
  {
   "cell_type": "code",
   "execution_count": 1,
   "id": "0ef2c5f2",
   "metadata": {
    "vscode": {
     "languageId": "racket"
    }
   },
   "outputs": [
    {
     "name": "stderr",
     "output_type": "stream",
     "text": [
      "eval:1:0: read-syntax: `#lang` not enabled\n",
      "  possible reason: not allowed again inside a module that already starts `#lang`, or not enabled for interactive evaluation\n",
      "  context...:\n",
      "   /usr/share/racket/pkgs/sandbox-lib/racket/sandbox.rkt:114:0: default-sandbox-reader\n",
      "   /usr/share/racket/pkgs/sandbox-lib/racket/sandbox.rkt:572:0: input->code\n",
      "   /usr/share/racket/pkgs/sandbox-lib/racket/sandbox.rkt:929:14\n"
     ]
    }
   ],
   "source": [
    "#lang racket"
   ]
  },
  {
   "attachments": {},
   "cell_type": "markdown",
   "id": "e04ef413",
   "metadata": {},
   "source": [
    "Ops! We got the error ``` read-syntax: `#lang` not enabled ```. This happens due to the kernel running behind the Jupyter. Therefore to use Racket on Jupyter Notebook, language variant specification should be like this."
   ]
  },
  {
   "cell_type": "code",
   "execution_count": 2,
   "id": "0a07b7e5",
   "metadata": {
    "vscode": {
     "languageId": "racket"
    }
   },
   "outputs": [],
   "source": [
    "#lang iracket/lang #:require rosette"
   ]
  },
  {
   "attachments": {},
   "cell_type": "markdown",
   "id": "82c1f035",
   "metadata": {},
   "source": [
    "Interactiveness\n",
    "----\n",
    "All the features that you can enjoy while using dr.Racket can be enjoyed on Jupyter Notebook. Let's see some examples of function definitions, and racket drawings."
   ]
  },
  {
   "attachments": {},
   "cell_type": "markdown",
   "id": "61e2168d",
   "metadata": {},
   "source": [
    "\n",
    "#### Function Outputs\n",
    "\n",
    "\n",
    "The final variable that appears on a Racket function is considered as it's return value. This value gets printed directly to the output when you run a cell. \n",
    "\n",
    "Let's see some examples,\n",
    "\n",
    "Racket has implementations of built-in functions for different [operations](https://docs.racket-lang.org/plait/built-ins-tutorial.html). Sample usage of built-in function `extract` given in the Racket documentation is as below."
   ]
  },
  {
   "cell_type": "code",
   "execution_count": 3,
   "id": "2307f891",
   "metadata": {
    "vscode": {
     "languageId": "racket"
    }
   },
   "outputs": [
    {
     "data": {
      "text/html": [
       "<code>\"gal\"</code>"
      ],
      "text/plain": [
       "\"gal\""
      ]
     },
     "execution_count": 3,
     "metadata": {},
     "output_type": "execute_result"
    }
   ],
   "source": [
    "(define (extract str)\n",
    "  (substring str 4 7))\n",
    "(extract \"the gal out of the city\")"
   ]
  },
  {
   "attachments": {},
   "cell_type": "markdown",
   "id": "842466a5",
   "metadata": {},
   "source": [
    "#### Graphics\n",
    "\n",
    "Racket has its own Drawing Toolkit. Output from the functions are directly displayed in Jupyter Notebook. First we need to import the modules as follows,\n",
    "\n"
   ]
  },
  {
   "cell_type": "code",
   "execution_count": 4,
   "id": "d5157658",
   "metadata": {
    "vscode": {
     "languageId": "racket"
    }
   },
   "outputs": [],
   "source": [
    " (require 2htdp/image)"
   ]
  },
  {
   "attachments": {},
   "cell_type": "markdown",
   "id": "e6b503fe",
   "metadata": {},
   "source": [
    "Then we can start drawing"
   ]
  },
  {
   "cell_type": "code",
   "execution_count": 5,
   "id": "86fbd2aa",
   "metadata": {
    "vscode": {
     "languageId": "racket"
    }
   },
   "outputs": [
    {
     "data": {
      "text/html": [
       "<code><img style=\"display: inline; vertical-align: baseline; padding: 0pt; margin: 0pt; border: 0pt\" src=\"data:image/png;base64,iVBORw0KGgoAAAANSUhEUgAAADwAAAA8CAYAAAA6/NlyAAAE2ElEQVRogeXbX6wdVRUG8N+e\r\n",
       "3lZiaemfGAitIq1tKcJDY2xpiKAvEoUCSSWGByAE/EMixNLGJgrxQaORBEwwEQj4QMRIgjE1\r\n",
       "UYygIBhBiFL+hNKmLShoKcWgtSg+CJ8PM1doL+Xee86cM3j4kslJZubs/X17rZnZe621SxID\r\n",
       "QSkz8WGsxnJ8AMdhLt7d/P4DL2M/dmEHtuE3kl0DodWq4FIW4jysxxq1iAewHTvxjFrcvyQH\r\n",
       "lDIXszFPPSjLcTI+huAX+AHul7zWCsck/R+cFraEv4cfhnPDUX22uSxsCI+EZ8NVYX6/XPsV\r\n",
       "+vHwQNgRPhuObGUAJ/ZzUvhe+Gu4ph/hvRJY0lh0R1gfqoEIndjv4nBDeD5c0ku/vXT6+fBi\r\n",
       "2BxmDUXoRA6rGs/6dVg0GMHMCz8Ovw/LOhF6MJ8qfLmx9lntCq5d6YlwfWdWPTy3teG5cEU7\r\n",
       "glkZ/hSu7Fzc4Tm+LzzZvNBK74I5vvkkXNC5qMlFzw8PhW/2Jpijw85wWedipi56QfPofWl6\r\n",
       "gpkR7glf61zE9EUfG/4Y1k1H8NfDr8KMzgX0Jnp12BuWTC6YNeEv4T2dE+9P9BXhwUMnJ9Uh\r\n",
       "k/8ZuAGbJC+2MlnvDt/BK/jcQWcPGZUvhLs6t057Vj4x7AvHjJ97fXlYyrvUy7mzJVuHbI3B\r\n",
       "oZTrUEm+iIMEX4ZPSM7ujt0AUMoxeBInS/a88Rm+HNd0w2qASPbi+2p9jYVLWY3bsML/TD5C\r\n",
       "KGUZ7sd7xy18AW4dSbGQ7MTTOGPcwruxTrKtY2qDQ/2OWlvC+9WBtkUja2Eo5Xj8tsLpuHek\r\n",
       "xULyDF6p8EE83jGdYeG+Cieo48bvBDxVYal6hvVOwPZKHfV/qWsmQ8LuSp3jOdA1kyFhfwmv\r\n",
       "Yqa2cjdvZ5Qyp4TXJNXkd48AShmrMPqWfR2za8uWUjomMizMqdT52gVdMxkSFlbYg2O7ZjIk\r\n",
       "rKjwZyzumsmQsLLCE1jVNZMhYVWFh9WFJ6ONUsZw+rjgU5Qy6t/iNXi6kjyLfTilY0KDxnr8\r\n",
       "bDzE81XMlWzsmtVAUMosPIdTx934DpzX+PkoYh22SXbVguvg3W612UcL9SxyszrXdFAy7dvY\r\n",
       "1AWnAeMsHIEt8MbEUxW2hU92ngRrL5k2Fh4L50xMl9br4U24tikMHQVswPOSn4yfmFhcWsrP\r\n",
       "8UvJtcPl1jJKWYKHsLoJ0dZ4EzdY2uRUT+rcJXt35SOaArrLD7325uXDpVyEjc3o/HtINmkP\r\n",
       "pdyEeZJPT7h02IRDKbdhDOf/X2UlStmIi7FWMjE4+RZuMaspXfpG5y46dVe+sKkaPO5w90zW\r\n",
       "wMLwVPhK52ImF3tpU330loWvU2no6PBo+NZkdYwdit0cdoflk907tT0PpSzAneo9C5+RvNzu\r\n",
       "g9cjSjkKN6s3j6yT7JvsL1NbAycv4aP4J36nlJW9s2wJpazBI9iL06YiFj1VxF/afKevCjM7\r\n",
       "cN/54bthTzh3uv+ffpQjuQUfUoeFtirlnKHEtUuZrZQN6n1N/8GJki3TbqfP0T4z/KE5PjWQ\r\n",
       "ankWhavDC+H2fmeAbRAqqfcp3dOQui6cGsb6aHNxuDjcnXrrzo1hRRsD2PbOtKW4CGdiCe7D\r\n",
       "1sYNt+NvOCDZ37xhj8Qc9Ta9E5rjI+qc9b34EX6qxentfwGeYLF3HKscIAAAAABJRU5ErkJg\r\n",
       "gg==\r\n",
       "\"/></code>"
      ],
      "text/plain": [
       "(object:image% #f #f #f #f 1 0 (object:image-snipclass% #f \"((lib \\\"image-core.ss\\\" \\\"mrlib\\\") (lib \\\"image-core-wxme.rkt\\\" \\\"mrlib\\\"))\" 1) #0=(object:style% (object:color% 0 0 0 1.0 #f) (object:color% 255 255 255 1.0 #f) (object:font% #f 'aligned '#(12.0 default normal normal #f default #f aligned) #f #f #f 'default 12.0 #f 'default 'normal 'normal 1 '#(1 12.0 normal normal #f default #f aligned)) 'bottom 0.0 0.0 0.0 0.0 (object:style-list% '#<hash> #0# '(#0#) 1 #<procedure:add-member>) \"Basic\" #f #f (object:style-delta% 'default #f 0 12 'normal 'base 'normal 'base 'default 'base #f #t #f #t #f #f 'bottom 'base (object:mult-color% 0 0 0) (object:mult-color% 0 0 0) (object:add-color% 0 0 0) (object:add-color% 255 255 255)) #t (object:pen% '#(0 0 0 1.0 0 solid round round) #t 0 #f (object:color% 0 0 0 1.0 #t) 'round 'round 'solid 0) (object:brush% '#(255 255 255 1.0 solid) (object:color% 255 255 255 1.0 #t) 'solid #t 0 #f #f #f #f) 0 '()) (translate 30 30 (ellipse 60 60 0 'outline \"red\" #f)) (bb 60 60 60) #f #f #f #f #t)"
      ]
     },
     "execution_count": 5,
     "metadata": {},
     "output_type": "execute_result"
    }
   ],
   "source": [
    "(circle 30 \"outline\" \"red\")"
   ]
  },
  {
   "cell_type": "code",
   "execution_count": 6,
   "id": "47288e04",
   "metadata": {
    "vscode": {
     "languageId": "racket"
    }
   },
   "outputs": [
    {
     "data": {
      "text/html": [
       "<code><img style=\"display: inline; vertical-align: baseline; padding: 0pt; margin: 0pt; border: 0pt\" src=\"data:image/png;base64,iVBORw0KGgoAAAANSUhEUgAAAGQAAABkCAYAAABw4pVUAAAEi0lEQVR4nO2dQW8bRRiGn7W9\r\n",
       "sZO4kMYXJxWouMJBTRHHBOXIsUpv0FbwD/hftFwpvSIhUSk5k7aqUUMlaOqL01Q4ie21vRxC\r\n",
       "IG0SMrue3Z3Z+Z57vO/42flmZq1863357WchgjEUsg4gvI0IMQwRYhgixDBEiGGIEMMQIYYh\r\n",
       "QgxDhBhGSeeHFT24NhfQnBtypTpmvjKiUjx6ENAbeez2irzsFmjtlXi+5zOSZwSn0CKkXIS1\r\n",
       "xR4r9QFV/+xvuVoIqfpDPrwEny8M6AYem+0pHu1U6I90pMgHEwu5URuy3jg4V8R5VP2QLz7o\r\n",
       "s1If8GB7hq2O1slqLbHXkIIXcqvR4+7SfmQZJ6n6IXeX9rnV6FHwpIbFElLwQm43D1ip97UF\r\n",
       "Wan3udM8pOhp+0griSXk5tU+N2pD3VlYrgXcWTpwWkpkIcu1gNUFfTPjXa7PB3zzyQElRzfk\r\n",
       "kYZdLsL6R4dJZfmX5uWAr5fclBJpyGuLPS5NpbPwNi8H3G66V76UhRQ9WKkPksxyChfLl/JQ\r\n",
       "r80FE21v4+LaTFEW0pzTv6tS5fq8O7svZSFXquMkc1yIK+VLeXjzlewfOLlQvpSFHD+1zZq8\r\n",
       "zxQrh5Xnc4rykHojs+pEXsuXspDdXjHJHLHIY/lSHsrLrpmjzttMUf6WW3vm/oCUp3OKspDn\r\n",
       "ez7dwNwR56V8KccfhbDZnkoyy8TkoXxFup9+2anw18Ds0do+UyLFHozgwe/TSWXRhs3nlMiR\r\n",
       "H3d8Nl6Vk8iiFVvLV6x76OGLMo87vu4s2rFx9xVLyDj0uN+a4emuHVJsWlNixxyH8N0zO6TY\r\n",
       "tKZMFFGk6GfieCJFL1qiiRR9aIslUvSgNZJImRztcUTKZCQSRaTEJ7EYIiUeiUYQKdFJ/PIi\r\n",
       "JRqpXFqkqJPaZUWKGqleUqRcTOr3gEj5fzKplCLlfDLbT4iUs8l01y1STpP52VSkvE3mQkCk\r\n",
       "nMQIISBSjjFGCIgUMEwIiBTjhIDbUowUAu5KMVYIuCnFaCHgnhTjhcCRlHvPZnhiiZSvPj6I\r\n",
       "3a7QCiFw9B9c9y2RslwLuHk1XpM3a4TAkZR7lpSv1YU+n9aCyH9nlRCwa01ZbxxSjtiSxDoh\r\n",
       "YM+aMuuHrC1GK11WCgF7ytdqfRBp12WtELBjpsz6IY331dcSq4WAHbuvKN34rBcC5pevxVn1\r\n",
       "5m+5EAJml6/atHp7xNwIAXNnSpRufLkSAnadU84id0LAvPIVpRtfLoWAWeWrc6j+NedWCJgz\r\n",
       "U3b21dsj5loImHFOidKNL/dCINvytR94bL9Rv64TQiC78rXRnmIYoUu7M0Ig/ZnSDTwe7UTr\r\n",
       "LeaUEEj3nPLj9jT9iA2onRMC6ZSvjVdlfo3R5M1JIfDf7iuJznhbnRIPX8Rrg+isEPhHSmua\r\n",
       "zba+HpKb7TLft2YYh/H6CprbrjolxqHHD9sVtt+UYr1C9phu4Gl5hazzQo7Z6pT4be+9C1+y\r\n",
       "/C66X7IsQk7QH8FPf1T4+c9KZq8hFyFnMAqh9dqn9Tr9k73Ti7qJiBDDECGGIUIMQ4QYhggx\r\n",
       "DBFiGCLEMESIYfwN+JFttSFHVkAAAAAASUVORK5CYII=\r\n",
       "\"/></code>"
      ],
      "text/plain": [
       "(object:image% #f #f #f #f 1 0 (object:image-snipclass% #f \"((lib \\\"image-core.ss\\\" \\\"mrlib\\\") (lib \\\"image-core-wxme.rkt\\\" \\\"mrlib\\\"))\" 1) #0=(object:style% (object:color% 0 0 0 1.0 #f) (object:color% 255 255 255 1.0 #f) (object:font% #f 'aligned '#(12.0 default normal normal #f default #f aligned) #f #f #f 'default 12.0 #f 'default 'normal 'normal 1 '#(1 12.0 normal normal #f default #f aligned)) 'bottom 0.0 0.0 0.0 0.0 (object:style-list% '#<hash> #0# '(#0#) 1 #<procedure:add-member>) \"Basic\" #f #f (object:style-delta% 'default #f 0 12 'normal 'base 'normal 'base 'default 'base #f #t #f #t #f #f 'bottom 'base (object:mult-color% 0 0 0) (object:mult-color% 0 0 0) (object:add-color% 0 0 0) (object:add-color% 255 255 255)) #t (object:pen% '#(0 0 0 1.0 0 solid round round) #t 0 #f (object:color% 0 0 0 1.0 #t) 'round 'round 'solid 0) (object:brush% '#(255 255 255 1.0 solid) (object:color% 255 255 255 1.0 #t) 'solid #t 0 #f #f #f #f) 0 '()) (translate 0 0 (overlay (line-segment (point 25 25) (point 75 75) (pen \"goldenrod\" 30 'solid 'round 'round)) (translate 0 0 (polygon (list (pulled-point 0 0 0 0 0 0) (pulled-point 0 0 100 0 0 0) (pulled-point 0 0 100 100 0 0) (pulled-point 0 0 0 100 0 0)) 255 \"darkolivegreen\")))) (bb 100 100 100) #f #f #f #f #t)"
      ]
     },
     "execution_count": 6,
     "metadata": {},
     "output_type": "execute_result"
    }
   ],
   "source": [
    "(add-line\n",
    "    (rectangle 100 100 \"solid\" \"darkolivegreen\")\n",
    "    25 25 75 75\n",
    "    (make-pen \"goldenrod\" 30 \"solid\" \"round\" \"round\"))"
   ]
  },
  {
   "cell_type": "code",
   "execution_count": 7,
   "id": "ea4555c3",
   "metadata": {
    "vscode": {
     "languageId": "racket"
    }
   },
   "outputs": [
    {
     "data": {
      "text/html": [
       "<code><img style=\"display: inline; vertical-align: baseline; padding: 0pt; margin: 0pt; border: 0pt\" src=\"data:image/png;base64,iVBORw0KGgoAAAANSUhEUgAAAFAAAABQCAYAAACOEfKtAAADNElEQVR4nO3cQWvbMBQH8L/T\r\n",
       "1A45NKHptlPuhayQQ+kK25faZ9tnGJSyQyEb5B7ooSyjySGJnaTeIfFWBit6epKenL7/ucbS\r\n",
       "D7uWnqQkn758LqGxTkO6AXWPAjKjgMwoIDMKyIwCMqOAzCggMwrITJN6wWayQDGa4elhhXJz\r\n",
       "GJOYpJmg8baF9KKDZr9NupYEWHz7hfzukXSDOqTclNjeL7G8XyIbdpFenhpfa/wKbyaLg8T7\r\n",
       "N/ndIzaThfHfGwMWo5lVg+oYSl+NAZ8eVlaNqWMofTX/CieJTVtqmbJh3ldjwMabzKoxdczR\r\n",
       "mXlfjQHTi45VY+oYSl+NAZv99qtApI4FSTOR7KqH9P3hIh6fnyC76pGuoc1EEiD7sLtB8Z0+\r\n",
       "rDk+P0Hr4xng63tUAvnNFMWPcG2jz4X3iDZP4no8x+rrT8DHDFAAD7AtJsSGKIQHcKoxsSAK\r\n",
       "4gHccpY0ojAe4KIeKIUYAR7gqqAaGjESPMBlRToUYkR4gOuSvm/EyPAAH2sivhAjxAN8LSq5\r\n",
       "RowUD7BYVDIOY9q3Hs8BYNdxxIsH+AQE/iKWIAOsx3MkR7ue2+Clgw6y655XPMA3ILBD3HeE\r\n",
       "+iTawAH7qkoAPCDUwjrjfyI1IV7b5wm3MyEAYmg8IPTWDo+IEniAxN4YD4hSeIDU5iKHiJJ4\r\n",
       "QIiv8P/CGOJUCTVUeSm13t5WbuV3h8kBMqZnVbyusRhGBtABXhVpxPCADvGqSCKGBfSAV0UK\r\n",
       "MRygR7wqEohhAAPgVQmN6B+QgZcOOkgHdkXZ/GYaBNHvQJpZSc6u9xt9LEth5bascUHVYRne\r\n",
       "SWXbE6KfV9j1Gob0DogX4h7Q1wJQpIhuAX2vnkWI6A4w1NJjZIhuAEOv20aEyAeUWvSOBJEH\r\n",
       "KL1jIAJEe0BpvCrCiHaAseBVEUSkA8aGV0UIkTaVY1ZV1uP5n+lVbLGd9pGewPw2TElKKuvx\r\n",
       "HPntlHQN6cT6azh0XYxmemKdGz2xzoyeWGdGT6wzoyfWmfF2Yj0bdq0aVKdkwy7pxDppIJ1e\r\n",
       "nqLxrqU//fQs5EWlZr9Nvskhp9bb22KIAjKjgMwoIDMKyIwCMqOAzCggMwrIzG/PDzkTTq4j\r\n",
       "2wAAAABJRU5ErkJggg==\r\n",
       "\"/></code>"
      ],
      "text/plain": [
       "(object:image% #f #f #f #f 1 0 (object:image-snipclass% #f \"((lib \\\"image-core.ss\\\" \\\"mrlib\\\") (lib \\\"image-core-wxme.rkt\\\" \\\"mrlib\\\"))\" 1) #0=(object:style% (object:color% 0 0 0 1.0 #f) (object:color% 255 255 255 1.0 #f) (object:font% #f 'aligned '#(12.0 default normal normal #f default #f aligned) #f #f #f 'default 12.0 #f 'default 'normal 'normal 1 '#(1 12.0 normal normal #f default #f aligned)) 'bottom 0.0 0.0 0.0 0.0 (object:style-list% '#<hash> #0# '(#0#) 1 #<procedure:add-member>) \"Basic\" #f #f (object:style-delta% 'default #f 0 12 'normal 'base 'normal 'base 'default 'base #f #t #f #t #f #f 'bottom 'base (object:mult-color% 0 0 0) (object:mult-color% 0 0 0) (object:add-color% 0 0 0) (object:add-color% 255 255 255)) #t (object:pen% '#(0 0 0 1.0 0 solid round round) #t 0 #f (object:color% 0 0 0 1.0 #t) 'round 'round 'solid 0) (object:brush% '#(255 255 255 1.0 solid) (object:color% 255 255 255 1.0 #t) 'solid #t 0 #f #f #f #f) 0 '()) (overlay (translate 15 15 (translate 0 0 (polygon (list (pulled-point 0 0 0 0 0 0) (pulled-point 0 0 50 0 0 0) (pulled-point 0 0 0 50 0 0) (pulled-point 0 0 50 50 0 0)) 'outline (pen \"darkslategray\" 10 'solid 'round 'round)))) (translate 0 0 (translate 0 0 (polygon (list (pulled-point 0 0 0 0 0 0) (pulled-point 0 0 80 0 0 0) (pulled-point 0 0 80 80 0 0) (pulled-point 0 0 0 80 0 0)) 255 \"mediumseagreen\")))) (bb 80 80 80) #f #f #f #f #t)"
      ]
     },
     "execution_count": 7,
     "metadata": {},
     "output_type": "execute_result"
    }
   ],
   "source": [
    " (require lang/posn)\n",
    "\n",
    "(underlay\n",
    "   (rectangle 80 80 \"solid\" \"mediumseagreen\")\n",
    "   (polygon\n",
    "    (list (make-posn 0 0)\n",
    "          (make-posn 50 0)\n",
    "          (make-posn 0 50)\n",
    "          (make-posn 50 50))\n",
    "    \"outline\"\n",
    "    (make-pen \"darkslategray\" 10 \"solid\" \"round\" \"round\")))"
   ]
  },
  {
   "attachments": {},
   "cell_type": "markdown",
   "id": "760068eb",
   "metadata": {},
   "source": [
    "Conclusion\n",
    "----\n",
    "\n",
    "From here onwards, we will be looking at a bunch of example Racket programs that you can try on the Jupyter Notebook environment. In the next post, we will look at [Rosette](https://docs.racket-lang.org/rosette-guide), which is a solver-aided programming language that is based on Racket."
   ]
  },
  {
   "attachments": {},
   "cell_type": "markdown",
   "id": "97575a4c",
   "metadata": {},
   "source": [
    "#### Racket Play Ground\n",
    "\n",
    "Constructing the popular Pascal triangle with Racket"
   ]
  },
  {
   "attachments": {},
   "cell_type": "markdown",
   "id": "48a00f40",
   "metadata": {},
   "source": [
    "> First we need to write a function to compute the factorial of a number"
   ]
  },
  {
   "cell_type": "code",
   "execution_count": 1,
   "id": "e40eb11e",
   "metadata": {
    "vscode": {
     "languageId": "racket"
    }
   },
   "outputs": [],
   "source": [
    "; Compute the factorial of a number\n",
    "(define (factorial n)\n",
    "    (define mult 1)\n",
    "    (for ([i (in-range 1 n)]) \n",
    "        (set! mult (* i mult)))\n",
    "        mult)\n"
   ]
  },
  {
   "attachments": {},
   "cell_type": "markdown",
   "id": "e0ef0d6b",
   "metadata": {},
   "source": [
    "> Then, we can construct the Pascal triangle"
   ]
  },
  {
   "cell_type": "code",
   "execution_count": 2,
   "id": "77d84c6c",
   "metadata": {
    "vscode": {
     "languageId": "racket"
    }
   },
   "outputs": [],
   "source": [
    "; Construct the Pascal triangle\n",
    "(define (pascal n)\n",
    "    (for ([i (in-range 0 n)])\n",
    "        (for ([q (in-range 0 (+ (- n i) 1))])\n",
    "            (display \" \") )\n",
    "        (for ([j (in-range 0 (+ i 1))])\n",
    "            (display (/ (factorial i) (* (factorial j) (factorial (- i j))))) \n",
    "            (display \" \"))\n",
    "            \n",
    "    (displayln \"\" )))"
   ]
  },
  {
   "attachments": {},
   "cell_type": "markdown",
   "id": "2d144f87",
   "metadata": {},
   "source": [
    "> Ofcource we need to test it"
   ]
  },
  {
   "cell_type": "code",
   "execution_count": 5,
   "id": "0ba1997c",
   "metadata": {
    "vscode": {
     "languageId": "racket"
    }
   },
   "outputs": [
    {
     "name": "stdout",
     "output_type": "stream",
     "text": [
      "      1 \n",
      "     1 1 \n",
      "    1 1 1 \n",
      "   1 2 2 1 \n",
      "  1 3 6 3 1 \n"
     ]
    }
   ],
   "source": [
    "(pascal 5)"
   ]
  },
  {
   "attachments": {},
   "cell_type": "markdown",
   "id": "6d09a984",
   "metadata": {},
   "source": [
    "#### Answers to the problems from [here](https://cs.brown.edu/courses/cs019/2010/assignments/practice.html)\n"
   ]
  },
  {
   "cell_type": "markdown",
   "id": "262c5ff4",
   "metadata": {},
   "source": [
    "The local supermarket needs a program that can compute the value of a bag of coins. Define the program sum-coins. It consumes four numbers: the number of pennies, nickels, dimes, and quarters in the bag; it produces the amount of money in the bag."
   ]
  },
  {
   "cell_type": "code",
   "execution_count": 1,
   "id": "e2291645",
   "metadata": {
    "vscode": {
     "languageId": "racket"
    }
   },
   "outputs": [],
   "source": [
    "(define (coin_sum p n d q) (display \"$\")(+ (* p 0.01)  (* n 0.05) (* d 0.1) (* q 0.25)))"
   ]
  },
  {
   "cell_type": "code",
   "execution_count": 2,
   "id": "bc79daaf",
   "metadata": {
    "vscode": {
     "languageId": "racket"
    }
   },
   "outputs": [
    {
     "name": "stdout",
     "output_type": "stream",
     "text": [
      "$"
     ]
    },
    {
     "data": {
      "text/html": [
       "<code>14.1</code>"
      ],
      "text/plain": [
       "14.1"
      ]
     },
     "execution_count": 2,
     "metadata": {},
     "output_type": "execute_result"
    }
   ],
   "source": [
    "(coin_sum 10 20 30 40)"
   ]
  },
  {
   "cell_type": "markdown",
   "id": "f7792ba2",
   "metadata": {},
   "source": [
    "An old-style movie theater has a simple profit function. Each customer pays `$5` per ticket.\n",
    "Every performance costs the theater `$20`, plus `$.50` per attendee. Develop the function \n",
    "total-profit. It consumes the number of attendees (of a show) and produces how much income \n",
    "the attendees produce."
   ]
  },
  {
   "cell_type": "code",
   "execution_count": 3,
   "id": "1cdd3a68",
   "metadata": {
    "vscode": {
     "languageId": "racket"
    }
   },
   "outputs": [],
   "source": [
    "(define (th_profit n) (display \"profit of $\") (- (* n 5) 20 (* 0.5 n)))"
   ]
  },
  {
   "cell_type": "code",
   "execution_count": 4,
   "id": "239332f1",
   "metadata": {
    "vscode": {
     "languageId": "racket"
    }
   },
   "outputs": [
    {
     "name": "stdout",
     "output_type": "stream",
     "text": [
      "profit of $"
     ]
    },
    {
     "data": {
      "text/html": [
       "<code>25.0</code>"
      ],
      "text/plain": [
       "25.0"
      ]
     },
     "execution_count": 4,
     "metadata": {},
     "output_type": "execute_result"
    }
   ],
   "source": [
    "(th_profit 10)"
   ]
  },
  {
   "attachments": {},
   "cell_type": "markdown",
   "id": "da5655ae",
   "metadata": {},
   "source": [
    "Develop the function tax, which consumes the gross pay and produces the amount of tax owed.\n",
    "For a gross pay of `$240` or less, the tax is 0%; for over `$240` and `$480` or less, the tax rate\n",
    "is 15%; and for any pay over `$480`, the tax rate is 28%."
   ]
  },
  {
   "cell_type": "code",
   "execution_count": 5,
   "id": "561e3621",
   "metadata": {
    "vscode": {
     "languageId": "racket"
    }
   },
   "outputs": [],
   "source": [
    "(define (tax p) (display \"owed tax $\") \n",
    "    (if (< p 240) 0 \n",
    "        (if (< p 480) (* p 0.15) (* p 0.28) )))"
   ]
  },
  {
   "cell_type": "code",
   "execution_count": 6,
   "id": "eaf8882f",
   "metadata": {
    "vscode": {
     "languageId": "racket"
    }
   },
   "outputs": [
    {
     "name": "stdout",
     "output_type": "stream",
     "text": [
      "owed tax $owed tax $owed tax $"
     ]
    },
    {
     "data": {
      "text/html": [
       "<code>140.0</code>"
      ],
      "text/plain": [
       "140.0"
      ]
     },
     "execution_count": 6,
     "metadata": {},
     "output_type": "execute_result"
    }
   ],
   "source": [
    "(tax 100)\n",
    "(tax 300)\n",
    "(tax 500)"
   ]
  },
  {
   "cell_type": "markdown",
   "id": "8e02d3ed",
   "metadata": {},
   "source": [
    "Write the program discount, which takes the name of an organization that someone belongs to\n",
    "and produces the discount (a percentage) that the person should receive on a purchase. \n",
    "Members of AAA get %10, members of ACM or IEEE get %15, and members of UPE get %20. \n",
    "All other organizations get no discount."
   ]
  },
  {
   "cell_type": "code",
   "execution_count": 9,
   "id": "d126d45c",
   "metadata": {
    "vscode": {
     "languageId": "racket"
    }
   },
   "outputs": [],
   "source": [
    "(define (discount m) (display \"Discount is \")\n",
    "    (if (string=? m \"AAA\") (displayln \"%10\")\n",
    "        (if (or (string=? m \"ACM\") (string=? m \"IEEE\")) (displayln \"%15\") \n",
    "            (if (string=? m \"UPE\") (displayln \"%20\") 0))))\n"
   ]
  },
  {
   "cell_type": "code",
   "execution_count": 10,
   "id": "29636aa2",
   "metadata": {
    "vscode": {
     "languageId": "racket"
    }
   },
   "outputs": [
    {
     "name": "stdout",
     "output_type": "stream",
     "text": [
      "Discount is %10\n",
      "Discount is %15\n",
      "Discount is %15\n",
      "Discount is %20\n"
     ]
    }
   ],
   "source": [
    "(discount \"AAA\")\n",
    "(discount \"ACM\")\n",
    "(discount \"IEEE\")\n",
    "(discount \"UPE\")"
   ]
  },
  {
   "cell_type": "code",
   "execution_count": null,
   "id": "2624311a",
   "metadata": {
    "vscode": {
     "languageId": "racket"
    }
   },
   "outputs": [],
   "source": []
  }
 ],
 "metadata": {
  "kernelspec": {
   "display_name": "Racket",
   "language": "racket",
   "name": "racket"
  },
  "language_info": {
   "codemirror_mode": "scheme",
   "file_extension": ".rkt",
   "mimetype": "text/x-racket",
   "name": "Racket",
   "pygments_lexer": "racket",
   "version": "8.2"
  }
 },
 "nbformat": 4,
 "nbformat_minor": 5
}
