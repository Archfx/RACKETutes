{
 "cells": [
  {
   "attachments": {},
   "cell_type": "markdown",
   "id": "e0b3f782",
   "metadata": {},
   "source": [
    "Racket Exercises on Jupyter\n",
    "-----"
   ]
  },
  {
   "cell_type": "markdown",
   "id": "97575a4c",
   "metadata": {},
   "source": [
    "Constructing the popular pascal triangle with Racket"
   ]
  },
  {
   "cell_type": "code",
   "execution_count": 2,
   "id": "e40eb11e",
   "metadata": {},
   "outputs": [],
   "source": [
    "; Compute the factorial of a number\n",
    "(define (factorial n)\n",
    "    (define mult 1)\n",
    "    (for ([i (in-range 1 n)]) \n",
    "        (set! mult (* i mult)))\n",
    "        mult)\n"
   ]
  },
  {
   "cell_type": "code",
   "execution_count": 3,
   "id": "77d84c6c",
   "metadata": {},
   "outputs": [],
   "source": [
    "; Construct the pascal triangle\n",
    "(define (pascal n)\n",
    "    (for ([i (in-range 0 n)])\n",
    "        (for ([q (in-range 0 (+ (- n i) 1))])\n",
    "            (display \" \") )\n",
    "        (for ([j (in-range 0 (+ i 1))])\n",
    "            (display (/ (factorial i) (* (factorial j) (factorial (- i j))))) \n",
    "            (display \" \"))\n",
    "            \n",
    "    (displayln \"\" )))"
   ]
  },
  {
   "cell_type": "code",
   "execution_count": 4,
   "id": "0ba1997c",
   "metadata": {},
   "outputs": [
    {
     "name": "stdout",
     "output_type": "stream",
     "text": [
      "         1 \n",
      "        1 1 \n",
      "       1 1 1 \n",
      "      1 2 2 1 \n",
      "     1 3 6 3 1 \n",
      "    1 4 12 12 4 1 \n",
      "   1 5 20 30 20 5 1 \n",
      "  1 6 30 60 60 30 6 1 \n"
     ]
    }
   ],
   "source": [
    "(pascal 8)"
   ]
  },
  {
   "attachments": {},
   "cell_type": "markdown",
   "id": "6d09a984",
   "metadata": {},
   "source": [
    "Answers to the problems from [here](https://cs.brown.edu/courses/cs019/2010/assignments/practice.html)"
   ]
  },
  {
   "attachments": {},
   "cell_type": "markdown",
   "id": "262c5ff4",
   "metadata": {},
   "source": [
    "1. The local supermarket needs a program that can compute the value of a bag of coins. Define the program sum-coins. It consumes four numbers: the number of pennies, nickels, dimes, and quarters in the bag; it produces the amount of money in the bag."
   ]
  },
  {
   "cell_type": "code",
   "execution_count": 1,
   "id": "e2291645",
   "metadata": {},
   "outputs": [],
   "source": [
    "(define (coin_sum p n d q) (display \"$\")(+ (* p 0.01)  (* n 0.05) (* d 0.1) (* q 0.25)))"
   ]
  },
  {
   "cell_type": "code",
   "execution_count": 2,
   "id": "bc79daaf",
   "metadata": {},
   "outputs": [
    {
     "name": "stdout",
     "output_type": "stream",
     "text": [
      "$"
     ]
    },
    {
     "data": {
      "text/html": [
       "<code>14.1</code>"
      ],
      "text/plain": [
       "14.1"
      ]
     },
     "execution_count": 2,
     "metadata": {},
     "output_type": "execute_result"
    }
   ],
   "source": [
    "(coin_sum 10 20 30 40)"
   ]
  },
  {
   "attachments": {},
   "cell_type": "markdown",
   "id": "f7792ba2",
   "metadata": {},
   "source": [
    "2. An old-style movie theater has a simple profit function. Each customer pays $5 per ticket.\n",
    "Every performance costs the theater $20, plus $.50 per attendee. Develop the function \n",
    "total-profit. It consumes the number of attendees (of a show) and produces how much income \n",
    "the attendees produce."
   ]
  },
  {
   "cell_type": "code",
   "execution_count": 3,
   "id": "1cdd3a68",
   "metadata": {},
   "outputs": [],
   "source": [
    "(define (th_profit n) (display \"profit of $\") (- (* n 5) 20 (* 0.5 n)))"
   ]
  },
  {
   "cell_type": "code",
   "execution_count": 4,
   "id": "239332f1",
   "metadata": {},
   "outputs": [
    {
     "name": "stdout",
     "output_type": "stream",
     "text": [
      "profit of $"
     ]
    },
    {
     "data": {
      "text/html": [
       "<code>25.0</code>"
      ],
      "text/plain": [
       "25.0"
      ]
     },
     "execution_count": 4,
     "metadata": {},
     "output_type": "execute_result"
    }
   ],
   "source": [
    "(th_profit 10)"
   ]
  },
  {
   "attachments": {},
   "cell_type": "markdown",
   "id": "da5655ae",
   "metadata": {},
   "source": [
    "3. Develop the function tax, which consumes the gross pay and produces the amount of tax owed.\n",
    "For a gross pay of $240 or less, the tax is 0%; for over $240 and $480 or less, the tax rate\n",
    "is 15%; and for any pay over $480, the tax rate is 28%."
   ]
  },
  {
   "cell_type": "code",
   "execution_count": 5,
   "id": "561e3621",
   "metadata": {},
   "outputs": [],
   "source": [
    "(define (tax p) (display \"owed tax $\") \n",
    "    (if (< p 240) 0 \n",
    "        (if (< p 480) (* p 0.15) (* p 0.28) )))"
   ]
  },
  {
   "cell_type": "code",
   "execution_count": 6,
   "id": "eaf8882f",
   "metadata": {},
   "outputs": [
    {
     "name": "stdout",
     "output_type": "stream",
     "text": [
      "owed tax $owed tax $owed tax $"
     ]
    },
    {
     "data": {
      "text/html": [
       "<code>140.0</code>"
      ],
      "text/plain": [
       "140.0"
      ]
     },
     "execution_count": 6,
     "metadata": {},
     "output_type": "execute_result"
    }
   ],
   "source": [
    "(tax 100)\n",
    "(tax 300)\n",
    "(tax 500)"
   ]
  },
  {
   "attachments": {},
   "cell_type": "markdown",
   "id": "8e02d3ed",
   "metadata": {},
   "source": [
    "4. Write the program discount, which takes the name of an organization that someone belongs to\n",
    "and produces the discount (a percentage) that the person should receive on a purchase. \n",
    "Members of AAA get %10, members of ACM or IEEE get %15, and members of UPE get %20. \n",
    "All other organizations get no discount."
   ]
  },
  {
   "cell_type": "code",
   "execution_count": 9,
   "id": "d126d45c",
   "metadata": {},
   "outputs": [],
   "source": [
    "(define (discount m) (display \"Discount is \")\n",
    "    (if (string=? m \"AAA\") (displayln \"%10\")\n",
    "        (if (or (string=? m \"ACM\") (string=? m \"IEEE\")) (displayln \"%15\") \n",
    "            (if (string=? m \"UPE\") (displayln \"%20\") 0))))\n"
   ]
  },
  {
   "cell_type": "code",
   "execution_count": 10,
   "id": "29636aa2",
   "metadata": {},
   "outputs": [
    {
     "name": "stdout",
     "output_type": "stream",
     "text": [
      "Discount is %10\n",
      "Discount is %15\n",
      "Discount is %15\n",
      "Discount is %20\n"
     ]
    }
   ],
   "source": [
    "(discount \"AAA\")\n",
    "(discount \"ACM\")\n",
    "(discount \"IEEE\")\n",
    "(discount \"UPE\")"
   ]
  },
  {
   "cell_type": "code",
   "execution_count": null,
   "id": "2624311a",
   "metadata": {},
   "outputs": [],
   "source": []
  }
 ],
 "metadata": {
  "kernelspec": {
   "display_name": "Racket",
   "language": "racket",
   "name": "racket"
  },
  "language_info": {
   "codemirror_mode": "scheme",
   "file_extension": ".rkt",
   "mimetype": "text/x-racket",
   "name": "racket",
   "pygments_lexer": "racket",
   "version": "8.2"
  }
 },
 "nbformat": 4,
 "nbformat_minor": 5
}
