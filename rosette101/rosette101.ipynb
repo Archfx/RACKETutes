{
 "cells": [
  {
   "cell_type": "markdown",
   "metadata": {},
   "source": [
    "  <picture>\n",
    "  <source srcset=\"https://raw.githubusercontent.com/Archfx/RACKETutes/main/images/racketutes-w.svg\" media=\"(prefers-color-scheme: dark)\">\n",
    "    <img src=\"https://raw.githubusercontent.com/Archfx/RACKETutes/main/images/racketutes.svg\">\n",
    "  </picture>\n",
    "\n",
    "Rosette101\n",
    "==="
   ]
  },
  {
   "cell_type": "markdown",
   "metadata": {},
   "source": [
    "The previous post was about getting familiar with Racket. To make things more interesting we have used Jupyter notebook interactive environment. This time was are going to use Rosette in the same environment.\n",
    "\n",
    "Rosette is a solver-aided programming language. To be specific popular [Z3](https://github.com/Z3Prover/z3) is behind the curtains of Rosette. With the power of Z3, Rosette programs can understand and handle symbolic values, assertions, assumptions, and queries. Which is a vital part of verifying firmware and hardware designs. Lets go through example use cases provided in the [Rosette documentation](https://docs.racket-lang.org/rosette-guide/index.html). "
   ]
  },
  {
   "cell_type": "markdown",
   "metadata": {},
   "source": [
    "> Note: Rosette's symbolic evaluation engine operates on the program states. Instead of operating on one path at a time, it keeps track of all assumptions and assertions in the path at the beginning.  This is done through the `verification` condition (VC)`.  During the tutorial, we will be switching contexts between different examples and problems. Since we are using the same kernel to run different examples, we need to clean the VC when we switch the context."
   ]
  },
  {
   "cell_type": "markdown",
   "metadata": {},
   "source": [
    "First we start with the language definition,"
   ]
  },
  {
   "cell_type": "code",
   "execution_count": 1,
   "metadata": {
    "vscode": {
     "languageId": "racket"
    }
   },
   "outputs": [],
   "source": [
    "#lang iracket/lang #:require rosette/safe "
   ]
  },
  {
   "cell_type": "markdown",
   "metadata": {},
   "source": [
    "Symbolic Values\n",
    "---\n",
    "\n",
    "When it comes to validating designs and implementations, one thing is we can't visualize all the internal variables. These variables are sometimes constrained by different conditions. With Rosette, we can keep these variables as unknown variable variables which refers to the technical term of ```symbolic variables```. These variables are symbolically evaluated on the constraints that act on them. "
   ]
  },
  {
   "cell_type": "code",
   "execution_count": 2,
   "metadata": {
    "vscode": {
     "languageId": "racket"
    }
   },
   "outputs": [
    {
     "name": "stdout",
     "output_type": "stream",
     "text": [
      "b\n"
     ]
    }
   ],
   "source": [
    "(define-symbolic b boolean?)\n",
    "(displayln b)"
   ]
  },
  {
   "cell_type": "code",
   "execution_count": 3,
   "metadata": {},
   "outputs": [
    {
     "name": "stdout",
     "output_type": "stream",
     "text": [
      "#t\n"
     ]
    }
   ],
   "source": [
    "(displayln (boolean? b))"
   ]
  },
  {
   "cell_type": "code",
   "execution_count": 4,
   "metadata": {},
   "outputs": [
    {
     "name": "stdout",
     "output_type": "stream",
     "text": [
      "#f\n"
     ]
    }
   ],
   "source": [
    "(displayln (integer? b))"
   ]
  },
  {
   "cell_type": "code",
   "execution_count": 5,
   "metadata": {
    "vscode": {
     "languageId": "racket"
    }
   },
   "outputs": [
    {
     "name": "stdout",
     "output_type": "stream",
     "text": [
      "#(b 1)\n"
     ]
    }
   ],
   "source": [
    "(displayln (vector b 1))"
   ]
  },
  {
   "cell_type": "code",
   "execution_count": 6,
   "metadata": {},
   "outputs": [
    {
     "name": "stdout",
     "output_type": "stream",
     "text": [
      "(! b)\n"
     ]
    }
   ],
   "source": [
    "(displayln (not b))"
   ]
  },
  {
   "cell_type": "markdown",
   "metadata": {},
   "source": [
    "(displayln (boolean? (not b)))"
   ]
  },
  {
   "cell_type": "markdown",
   "metadata": {},
   "source": [
    "Assertions and Assumptions\n",
    "---\n",
    "\n",
    "As the name suggests, Rosette's assertions work exactly similarly to assertions used in other languages. If the assertion is failed, it will terminate the exection with an exception."
   ]
  },
  {
   "cell_type": "code",
   "execution_count": 10,
   "metadata": {
    "vscode": {
     "languageId": "racket"
    }
   },
   "outputs": [
    {
     "name": "stderr",
     "output_type": "stream",
     "text": [
      "[assert] failed\n",
      "  context...:\n",
      "   /root/.local/share/racket/8.2/pkgs/rosette/rosette/base/core/exn.rkt:59:11: body of top-level\n"
     ]
    }
   ],
   "source": [
    "(assert #t)\n",
    "(assert #f)"
   ]
  },
  {
   "cell_type": "markdown",
   "metadata": {},
   "source": [
    "Since the assertion is failed, this wiil be consistant within the verification context. Therefore, we need to clear the verification conditions if they are no longer valid for the verifcation scenario under consideration."
   ]
  },
  {
   "cell_type": "code",
   "execution_count": 11,
   "metadata": {
    "vscode": {
     "languageId": "racket"
    }
   },
   "outputs": [],
   "source": [
    "(clear-vc!)"
   ]
  },
  {
   "cell_type": "code",
   "execution_count": 12,
   "metadata": {
    "vscode": {
     "languageId": "racket"
    }
   },
   "outputs": [
    {
     "data": {
      "text/html": [
       "<code>(&lt; 0 j)</code>"
      ],
      "text/plain": [
       "(< 0 j)"
      ]
     },
     "execution_count": 12,
     "metadata": {},
     "output_type": "execute_result"
    }
   ],
   "source": [
    "(define-symbolic i j integer?)\n",
    "(assume (> j 0))     ; Add the assumption (> j 0) to the VC.\n",
    "(vc-assumes (vc))"
   ]
  },
  {
   "cell_type": "code",
   "execution_count": 13,
   "metadata": {
    "vscode": {
     "languageId": "racket"
    }
   },
   "outputs": [
    {
     "name": "stdout",
     "output_type": "stream",
     "text": [
      "#(struct:vc (< 0 j) (|| (! (< 0 j)) (< (+ i (- j)) i)))"
     ]
    }
   ],
   "source": [
    "(assert (< (- i j) i))\n",
    "(vc-asserts (vc))    ; The assertions must hold when the assumptions hold.\n",
    "\n",
    "(display (vc))"
   ]
  },
  {
   "cell_type": "markdown",
   "metadata": {},
   "source": []
  },
  {
   "cell_type": "code",
   "execution_count": 15,
   "metadata": {
    "vscode": {
     "languageId": "racket"
    }
   },
   "outputs": [],
   "source": [
    "(clear-vc!)"
   ]
  },
  {
   "cell_type": "markdown",
   "metadata": {},
   "source": [
    "Solver-Aided Queries\n",
    "---"
   ]
  },
  {
   "cell_type": "markdown",
   "metadata": {},
   "source": [
    "Assertions can be performed on solver queries. As as example we define the function below utilizing two different methods. First one define the polynomial and second one define the factorized polynomial. We can assert the function for equivelence using rosette in following manner."
   ]
  },
  {
   "cell_type": "code",
   "execution_count": 19,
   "metadata": {
    "vscode": {
     "languageId": "racket"
    }
   },
   "outputs": [],
   "source": [
    "(define (poly x)\n",
    " (+ (* x x x x) (* 6 x x x) (* 11 x x) (* 6 x)))\n",
    " \n",
    "(define (factored x)\n",
    " (* x (+ x 1) (+ x 2) (+ x 2)))\n",
    " \n",
    "(define (same p f x)\n",
    " (assert (= (p x) (f x))))"
   ]
  },
  {
   "cell_type": "code",
   "execution_count": 20,
   "metadata": {
    "vscode": {
     "languageId": "racket"
    }
   },
   "outputs": [],
   "source": [
    "(same poly factored 0)\n",
    "(same poly factored -1)\n",
    "(same poly factored -2)"
   ]
  },
  {
   "cell_type": "markdown",
   "metadata": {},
   "source": [
    "Now let's try this with two different functions, to check whether the assetion will fail."
   ]
  },
  {
   "cell_type": "code",
   "execution_count": 23,
   "metadata": {},
   "outputs": [],
   "source": [
    "(define (factored-2 x)\n",
    " (* x (+ x 3) (+ x 2) (+ x 2)))"
   ]
  },
  {
   "cell_type": "code",
   "execution_count": 24,
   "metadata": {},
   "outputs": [
    {
     "name": "stderr",
     "output_type": "stream",
     "text": [
      "[assert] failed\n",
      "  context...:\n",
      "   /root/.local/share/racket/8.2/pkgs/rosette/rosette/base/core/exn.rkt:59:11: body of top-level\n",
      "   eval:7:0: same\n",
      "   /usr/share/racket/pkgs/sandbox-lib/racket/sandbox.rkt:703:9: loop\n"
     ]
    }
   ],
   "source": [
    "(same poly factored-2 0)\n",
    "(same poly factored-2 -1)\n",
    "(same poly factored-2 -2)"
   ]
  },
  {
   "cell_type": "markdown",
   "metadata": {},
   "source": [
    "As expected assertion fails. Remember we need to clear the `vc` to avoid confusion later."
   ]
  },
  {
   "cell_type": "code",
   "execution_count": 26,
   "metadata": {
    "vscode": {
     "languageId": "racket"
    }
   },
   "outputs": [],
   "source": [
    "(clear-vc!)"
   ]
  },
  {
   "cell_type": "markdown",
   "metadata": {},
   "source": [
    "Verification\n",
    "---\n",
    "\n",
    "Program verification solves the problem of verifying the program for all the legal inputs. The brute force approach would be to iterate through all the values one by one. Although this sounds promising at capturing any bug if exists, in the case of a 32-bit adder circuit, input space would be $2^{64}$ which is a large number.\n",
    "Instead of going through the brute force path, Rosette delegates this task to `z3 constraint solver` with the help of `verify` query.\n"
   ]
  },
  {
   "cell_type": "code",
   "execution_count": 27,
   "metadata": {
    "vscode": {
     "languageId": "racket"
    }
   },
   "outputs": [],
   "source": [
    "(define-symbolic i integer?)\n",
    "(define cex (verify (same poly factored i)))"
   ]
  },
  {
   "cell_type": "code",
   "execution_count": 28,
   "metadata": {
    "vscode": {
     "languageId": "racket"
    }
   },
   "outputs": [
    {
     "data": {
      "text/html": [
       "<code>480</code>"
      ],
      "text/plain": [
       "480"
      ]
     },
     "execution_count": 28,
     "metadata": {},
     "output_type": "execute_result"
    }
   ],
   "source": [
    "(evaluate i cex)\n",
    "(poly -6)\n",
    "(factored -6)\n",
    "; (same poly factored -6)"
   ]
  },
  {
   "cell_type": "code",
   "execution_count": 29,
   "metadata": {
    "vscode": {
     "languageId": "racket"
    }
   },
   "outputs": [],
   "source": [
    "(clear-vc!)"
   ]
  },
  {
   "cell_type": "markdown",
   "metadata": {},
   "source": [
    "\n",
    "Synthesis\n",
    "----"
   ]
  },
  {
   "cell_type": "markdown",
   "metadata": {},
   "source": [
    "The solver can not only find failure-inducing inputs and localize faults, it can also synthesize repairs for buggy expressions. To repair a program, we first replace each buggy expression with a syntactic \"hole.\" A program with holes is called a sketch. The solver completes a sketch by filling its holes with expressions, in such a way that all assertions in the resulting program pass on all inputs.\n",
    "\n",
    "The following code snippet shows the sketch for our buggy factored procedure. We obtained it by replacing the constants in the minimal core with (??) holes, which are filled with numerical constants.4"
   ]
  },
  {
   "cell_type": "code",
   "execution_count": 30,
   "metadata": {
    "vscode": {
     "languageId": "racket"
    }
   },
   "outputs": [],
   "source": [
    "#lang iracket/lang #:require rosette/safe"
   ]
  },
  {
   "cell_type": "code",
   "execution_count": 2,
   "metadata": {
    "vscode": {
     "languageId": "racket"
    }
   },
   "outputs": [],
   "source": [
    "(require rosette/safe)\n",
    "(require rosette/lib/synthax)\n",
    "\n",
    "(define (poly x)\n",
    " (+ (* x x x x) (* 6 x x x) (* 11 x x) (* 6 x)))\n",
    " \n",
    "(define (factored x)\n",
    " (* x (+ x (??)) (+ x (??)) (+ x (??))))\n",
    " \n",
    "(define (same p f x)\n",
    " (assert (= (p x) (f x))))\n"
   ]
  },
  {
   "cell_type": "code",
   "execution_count": 3,
   "metadata": {
    "vscode": {
     "languageId": "racket"
    }
   },
   "outputs": [
    {
     "name": "stdout",
     "output_type": "stream",
     "text": [
      "(model\n",
      " [??:eval:8:12 1]\n",
      " [??:eval:8:23 2]\n",
      " [??:eval:8:34 3])\n"
     ]
    }
   ],
   "source": [
    "(define-symbolic i integer?)\n",
    "(define binding\n",
    "    (synthesize #:forall (list i)\n",
    "                #:guarantee (same poly factored i)))\n",
    ";(print-forms binding)\n",
    "(displayln binding)"
   ]
  },
  {
   "cell_type": "markdown",
   "metadata": {},
   "source": [
    "Note that we can't use `print-forms` within Jupyter Notebook since we can save the program directly to Disc. Instead, we print the model and it will show the solution for three holes (??) that we have created."
   ]
  },
  {
   "cell_type": "code",
   "execution_count": 27,
   "metadata": {
    "vscode": {
     "languageId": "racket"
    }
   },
   "outputs": [
    {
     "name": "stderr",
     "output_type": "stream",
     "text": [
      "open-input-file: contract violation\n",
      "  expected: path-string?\n",
      "  given: 'eval\n",
      "  context...:\n",
      "   /root/.local/share/racket/8.2/pkgs/rosette/rosette/lib/util/syntax.rkt:32:0: read-module\n",
      "   /root/.local/share/racket/8.2/pkgs/rosette/rosette/lib/synthax.rkt:243:0: body of top-level\n",
      "   /root/.local/share/racket/8.2/pkgs/rosette/rosette/lib/synthax.rkt:296:0: print-forms\n"
     ]
    }
   ],
   "source": [
    "(require racket/include)\n",
    "(include \"rosette101/synthesis.rkt\")\n",
    "\n",
    "\n",
    "binding"
   ]
  },
  {
   "cell_type": "markdown",
   "metadata": {},
   "source": []
  },
  {
   "cell_type": "code",
   "execution_count": 4,
   "metadata": {
    "vscode": {
     "languageId": "racket"
    }
   },
   "outputs": [],
   "source": [
    "(clear-vc!)\n"
   ]
  },
  {
   "cell_type": "markdown",
   "metadata": {},
   "source": [
    "Angelic Execution\n",
    "----"
   ]
  },
  {
   "cell_type": "code",
   "execution_count": 5,
   "metadata": {
    "vscode": {
     "languageId": "racket"
    }
   },
   "outputs": [
    {
     "data": {
      "text/html": [
       "<code>24</code>"
      ],
      "text/plain": [
       "24"
      ]
     },
     "execution_count": 5,
     "metadata": {},
     "output_type": "execute_result"
    }
   ],
   "source": [
    "(define-symbolic x y integer?)\n",
    "(define sol\n",
    "    (solve (begin (assert (not (= x y)))\n",
    "                  (assert (< (abs x) 10))\n",
    "                  (assert (< (abs y) 10))\n",
    "                  (assert (not (= (poly x) 0)))\n",
    "                  (assert (= (poly x) (poly y))))))\n",
    "(evaluate x sol)\n",
    "\n",
    "(evaluate y sol)\n",
    "\n",
    "(evaluate (poly x) sol)\n",
    "\n",
    "(evaluate (poly y) sol)"
   ]
  },
  {
   "cell_type": "code",
   "execution_count": 6,
   "metadata": {
    "vscode": {
     "languageId": "racket"
    }
   },
   "outputs": [],
   "source": [
    "(clear-vc!)"
   ]
  },
  {
   "cell_type": "markdown",
   "metadata": {},
   "source": [
    "#### Lets Do an experiment\n",
    "For this experiment, Let's generate two implementations of 32-bit adders which utilize two different algorithms. Our task is to verify these two implementations. "
   ]
  },
  {
   "cell_type": "code",
   "execution_count": 3,
   "metadata": {
    "vscode": {
     "languageId": "racket"
    }
   },
   "outputs": [],
   "source": [
    "#lang iracket/lang #:require rosette/safe\n",
    "\n",
    "(require rosette)\n",
    "(require rosette/safe)\n",
    "(require racket)\n",
    "(require racket/vector)"
   ]
  },
  {
   "cell_type": "markdown",
   "metadata": {},
   "source": [
    "First adder implementation is as below,"
   ]
  },
  {
   "cell_type": "code",
   "execution_count": 4,
   "metadata": {
    "vscode": {
     "languageId": "racket"
    }
   },
   "outputs": [],
   "source": [
    "(define (add-vectors a b)\n",
    "  (define (full-adder x y c-in)\n",
    "    (let* ((sum (bitwise-xor x y c-in))\n",
    "           (carry (bitwise-ior (bitwise-and x y) (bitwise-and c-in (bitwise-xor x y)))))\n",
    "      (cons sum carry)))\n",
    "  (let* ((result (make-vector 32 0))\n",
    "         (carry 0))\n",
    "    (for ([i (in-range 31 -1 -1)])\n",
    "      (let* ((full-add (full-adder (vector-ref a i) (vector-ref b i) carry))\n",
    "             (sum (car full-add))\n",
    "             (carry (cdr full-add)))\n",
    "        (vector-set! result i sum)))\n",
    "    result))"
   ]
  },
  {
   "cell_type": "markdown",
   "metadata": {},
   "source": [
    "Second implementation"
   ]
  },
  {
   "cell_type": "code",
   "execution_count": 5,
   "metadata": {
    "vscode": {
     "languageId": "racket"
    }
   },
   "outputs": [],
   "source": [
    "(define (add-vectors2 vec1 vec2)\n",
    "  (define result (make-vector 32 0))\n",
    "  (define carry 0)\n",
    "  (let loop ((i 31))\n",
    "    (cond\n",
    "      ((< i 0) result)\n",
    "      (else\n",
    "       (let ((sum (+ (vector-ref vec1 i) (vector-ref vec2 i) carry)))\n",
    "         (vector-set! result i (bitwise-and sum #xffffffff))\n",
    "         (set! carry (if (< sum #x100000000) 0 1))\n",
    "         (loop (- i 1)))))))"
   ]
  },
  {
   "cell_type": "markdown",
   "metadata": {},
   "source": [
    "Test for several test cases"
   ]
  },
  {
   "cell_type": "code",
   "execution_count": 6,
   "metadata": {
    "vscode": {
     "languageId": "racket"
    }
   },
   "outputs": [
    {
     "name": "stdout",
     "output_type": "stream",
     "text": [
      "#(1 1 1 1 1 0 0 1 1 1 1 1 1 1 1 1 1 1 1 1 1 1 1 1 1 1 0 1 1 1 1 0)\n",
      "#(1 1 1 1 1 2 0 1 1 1 1 1 1 1 1 1 1 1 1 1 1 1 1 1 1 1 2 1 1 1 1 2)\n"
     ]
    }
   ],
   "source": [
    "(displayln (add-vectors #(0 1 0 0 1 1 0 1 0 0 0 1 1 1 0 1 1 1 0 1 0 0 0 0 1 1 1 1 0 1 1 1)\n",
    "               #(1 0 1 1 0 1 0 0 1 1 1 0 0 0 1 0 0 0 1 0 1 1 1 1 0 0 1 0 1 0 0 1)))\n",
    "(displayln (add-vectors2 #(0 1 0 0 1 1 0 1 0 0 0 1 1 1 0 1 1 1 0 1 0 0 0 0 1 1 1 1 0 1 1 1)\n",
    "               #(1 0 1 1 0 1 0 0 1 1 1 0 0 0 1 0 0 0 1 0 1 1 1 1 0 0 1 0 1 0 0 1)))"
   ]
  },
  {
   "cell_type": "markdown",
   "metadata": {},
   "source": [
    "Apperently from the test case, two functions are not equal. Let's check for the equivelence of the two methods using formal methods."
   ]
  },
  {
   "cell_type": "markdown",
   "metadata": {},
   "source": [
    "Test with several test cases"
   ]
  },
  {
   "cell_type": "code",
   "execution_count": 7,
   "metadata": {
    "vscode": {
     "languageId": "racket"
    }
   },
   "outputs": [
    {
     "data": {
      "text/html": [
       "<code>#&lt;procedure:check&gt;</code>"
      ],
      "text/plain": [
       "#<procedure:check>"
      ]
     },
     "execution_count": 7,
     "metadata": {},
     "output_type": "execute_result"
    }
   ],
   "source": [
    "(define a (make-vector 32 'symbolic-value))\n",
    "(define b (make-vector 32 'symbolic-value))\n",
    "\n",
    "; Using Rosette verify query\n",
    "(define (check) \n",
    "   (set! output1 (add-vectors a b))\n",
    "   (set! output2 (add-vectors2 a b))\n",
    "   (verify\n",
    "      (assert(equal?  output1 output2 ))))\n",
    "\n",
    "check\n",
    "\n",
    "; (check a b)\n",
    "; (evaluate check (list a b))"
   ]
  },
  {
   "cell_type": "code",
   "execution_count": 8,
   "metadata": {
    "vscode": {
     "languageId": "racket"
    }
   },
   "outputs": [
    {
     "data": {
      "text/html": [
       "<code>(model)</code>"
      ],
      "text/plain": [
       "(model)"
      ]
     },
     "execution_count": 8,
     "metadata": {},
     "output_type": "execute_result"
    }
   ],
   "source": [
    "(verify\n",
    "   (assert(equal? (add-vectors a b) (add-vectors2 a b))))"
   ]
  },
  {
   "cell_type": "code",
   "execution_count": 28,
   "metadata": {
    "vscode": {
     "languageId": "racket"
    }
   },
   "outputs": [],
   "source": [
    "#lang iracket/lang #:require rosette/safe"
   ]
  },
  {
   "cell_type": "code",
   "execution_count": null,
   "metadata": {
    "vscode": {
     "languageId": "racket"
    }
   },
   "outputs": [],
   "source": []
  },
  {
   "cell_type": "code",
   "execution_count": 29,
   "metadata": {
    "vscode": {
     "languageId": "racket"
    }
   },
   "outputs": [],
   "source": [
    "\n",
    "\n",
    "(define (quadratic-roots a b c)\n",
    "  (define delta (- (* b b) (* 4 a c)))\n",
    "  (if (< delta 0)\n",
    "      #f\n",
    "      (let* ([sqrt-delta (sqrt delta)]\n",
    "             [denominator (* 2 a)])\n",
    "        (list (/ (- (- b) sqrt-delta) denominator)\n",
    "              (/ (- (- b) (- sqrt-delta)) denominator)))))"
   ]
  },
  {
   "cell_type": "code",
   "execution_count": 30,
   "metadata": {
    "vscode": {
     "languageId": "racket"
    }
   },
   "outputs": [
    {
     "name": "stderr",
     "output_type": "stream",
     "text": [
      "sqrt: undefined;\n",
      " cannot reference an identifier before its definition\n",
      "  in module: top-level\n",
      "  context...:\n",
      "   body of top-level\n",
      "   /root/.local/share/racket/8.2/pkgs/rosette/rosette/base/form/control.rkt:16:25\n",
      "   /usr/share/racket/pkgs/sandbox-lib/racket/sandbox.rkt:703:9: loop\n"
     ]
    }
   ],
   "source": [
    "\n",
    "(define-syntax-rule (check-equal actual expected)\n",
    "  (if (equal? actual expected)\n",
    "      (void)\n",
    "      (error 'check-equal \"expected: ~s, got: ~s\" expected actual)))\n",
    "\n",
    "(check-equal (quadratic-roots 1 -5 6) '(2 3))\n",
    "(check-equal (quadratic-roots 1 2 1) '(-1 -1))\n",
    "(check-equal (quadratic-roots 1 -2 1) '(1 1))\n",
    "(check-equal (quadratic-roots 1 1 1) #f)"
   ]
  },
  {
   "cell_type": "markdown",
   "metadata": {},
   "source": [
    "### Some Problems from Internet\n",
    "\n",
    "\n",
    "Finding an integer whose absolute value is X with Racket"
   ]
  },
  {
   "cell_type": "code",
   "execution_count": 1,
   "metadata": {
    "vscode": {
     "languageId": "racket"
    }
   },
   "outputs": [],
   "source": [
    "#lang iracket/lang #:require rosette/safe \n",
    "\n",
    "(define (abs x)\n",
    "    (if (< x 0) (- x) x))"
   ]
  },
  {
   "cell_type": "code",
   "execution_count": 2,
   "metadata": {
    "vscode": {
     "languageId": "racket"
    }
   },
   "outputs": [],
   "source": [
    "; define a symbolic variable y\n",
    "\n",
    "(define-symbolic y integer?)"
   ]
  },
  {
   "cell_type": "code",
   "execution_count": 3,
   "metadata": {
    "vscode": {
     "languageId": "racket"
    }
   },
   "outputs": [
    {
     "data": {
      "text/html": [
       "<code>(model\n",
       " [y -5])</code>"
      ],
      "text/plain": [
       "(model\n",
       " [y -5])"
      ]
     },
     "execution_count": 3,
     "metadata": {},
     "output_type": "execute_result"
    }
   ],
   "source": [
    "; Solve a constraint saying |y| = 5.\n",
    "(solve\n",
    "  (assert (= (abs y) 5)))"
   ]
  },
  {
   "cell_type": "code",
   "execution_count": 31,
   "metadata": {
    "vscode": {
     "languageId": "racket"
    }
   },
   "outputs": [],
   "source": [
    "(clear-vc!)\n"
   ]
  },
  {
   "cell_type": "markdown",
   "metadata": {},
   "source": [
    "Now let us look at some sample questions from CAV 2019 which was developed by [Emina](https://github.com/emina)\n",
    "\n",
    "\n"
   ]
  },
  {
   "cell_type": "markdown",
   "metadata": {},
   "source": [
    "#### Q1. Warmup\n",
    "\n",
    "Suppose that you are an app developer for a super low-power chip that achieves peak energy efficiency on programs with few or no branches. To build apps faster, you hire Ben Bitdiddle to create a library of efficient primitives for this chip, starting with a branch-free function that computes the absolute value of a 32-bit bitvector. "
   ]
  },
  {
   "cell_type": "code",
   "execution_count": 7,
   "metadata": {
    "vscode": {
     "languageId": "racket"
    }
   },
   "outputs": [],
   "source": [
    "#lang iracket/lang #:require rosette"
   ]
  },
  {
   "cell_type": "code",
   "execution_count": 8,
   "metadata": {
    "vscode": {
     "languageId": "racket"
    }
   },
   "outputs": [],
   "source": [
    "(define (abs-spec x)\n",
    "  (if (bvslt x (bv 0 32))\n",
    "      (bvneg x)\n",
    "      x))"
   ]
  },
  {
   "cell_type": "markdown",
   "metadata": {},
   "source": [
    "Ben comes up with the following implementation that works on his test suite:"
   ]
  },
  {
   "cell_type": "code",
   "execution_count": 9,
   "metadata": {
    "vscode": {
     "languageId": "racket"
    }
   },
   "outputs": [],
   "source": [
    "(define (abs-impl x) \n",
    "  (let* ([o1 (bvashr x (bv 31 32))]\n",
    "         [o2 (bvadd x o1)]\n",
    "         [o3 (bvsub o2 o1)])\n",
    "    o3))\n",
    "\n",
    "; zero, positive, negative ...\n",
    "(assert (equal? (abs-impl (bv #x00000000 32)) \n",
    "                  (abs-spec (bv #x00000000 32))))\n",
    "(assert (equal? (abs-impl (bv #x00000003 32)) \n",
    "                  (abs-spec (bv #x00000003 32))))\n",
    "(assert (equal? (abs-impl (bv #x80000000 32)) \n",
    "                  (abs-spec (bv #x80000000 32))))"
   ]
  },
  {
   "cell_type": "markdown",
   "metadata": {},
   "source": [
    "Help review Ben’s code by answering the following questions. If a question requires you to modify his implementation in any way, do so on a fresh copy with a new name such as abs-impl-N where N is the question number.\n",
    "\n",
    "Does Ben’s implementation work on all 32-bit inputs? Use the verify query to check."
   ]
  },
  {
   "cell_type": "code",
   "execution_count": 11,
   "metadata": {
    "vscode": {
     "languageId": "racket"
    }
   },
   "outputs": [
    {
     "data": {
      "text/html": [
       "<code>(model\n",
       " [x (bv #x8404c7c0 32)])</code>"
      ],
      "text/plain": [
       "(model\n",
       " [x (bv #x8404c7c0 32)])"
      ]
     },
     "execution_count": 11,
     "metadata": {},
     "output_type": "execute_result"
    }
   ],
   "source": [
    "; Let's define a generic 32bit vector\n",
    "(define-symbolic x (bitvector 32))\n",
    "\n",
    "; Using Rosette verify query\n",
    "(define check\n",
    "  (verify\n",
    "   (assert(equal? (abs-spec x) (abs-impl x)))))\n",
    "\n",
    "(evaluate check x)"
   ]
  },
  {
   "cell_type": "markdown",
   "metadata": {},
   "source": [
    "Apparently, we have a counter-example where implementation does not satisfy the specification.\n",
    "\n",
    "The verifier will reveal that Ben’s implementation is buggy. Use debug to localize the fault found by the verifier (and remember to save your work to a file before invoking debug)."
   ]
  },
  {
   "cell_type": "code",
   "execution_count": null,
   "metadata": {
    "vscode": {
     "languageId": "racket"
    }
   },
   "outputs": [],
   "source": []
  },
  {
   "cell_type": "markdown",
   "metadata": {},
   "source": [
    "Use synthesize to fix Ben’s implementation as suggested by the debugger. You can assume that if Ben has made an error, it is always of the same kind: using an arithmetic operator (such as addition or subtraction) instead of a bitwise operator that takes the same arguments. It is easiest to sketch this knowledge using the choose construct."
   ]
  },
  {
   "cell_type": "code",
   "execution_count": 10,
   "metadata": {
    "vscode": {
     "languageId": "racket"
    }
   },
   "outputs": [],
   "source": [
    "(require rosette/lib/synthax)\n",
    "\n",
    "(define (abs-impl-3 x) \n",
    "  (let* ([o1 (bvashr x (bv 31 32))]\n",
    "         [o2 ((choose bvadd bvand bvor bvxor bvshl bvlshr bvashr) x o1)]\n",
    "         [o3 ((choose bvsub bvand bvor bvxor bvshl bvlshr bvashr) o2 o1)])\n",
    "    o3))\n"
   ]
  },
  {
   "cell_type": "code",
   "execution_count": 12,
   "metadata": {
    "vscode": {
     "languageId": "racket"
    }
   },
   "outputs": [
    {
     "data": {
      "text/html": [
       "<code>(model\n",
       " [0$choose:eval:5:15 #t]\n",
       " [1$choose:eval:5:15 #f]\n",
       " [2$choose:eval:5:15 #f]\n",
       " [3$choose:eval:5:15 #f]\n",
       " [4$choose:eval:5:15 #f]\n",
       " [5$choose:eval:5:15 #f]\n",
       " [0$choose:eval:6:15 #f]\n",
       " [1$choose:eval:6:15 #f]\n",
       " [2$choose:eval:6:15 #f]\n",
       " [3$choose:eval:6:15 #t])</code>"
      ],
      "text/plain": [
       "(model\n",
       " [0$choose:eval:5:15 #t]\n",
       " [1$choose:eval:5:15 #f]\n",
       " [2$choose:eval:5:15 #f]\n",
       " [3$choose:eval:5:15 #f]\n",
       " [4$choose:eval:5:15 #f]\n",
       " [5$choose:eval:5:15 #f]\n",
       " [0$choose:eval:6:15 #f]\n",
       " [1$choose:eval:6:15 #f]\n",
       " [2$choose:eval:6:15 #f]\n",
       " [3$choose:eval:6:15 #t])"
      ]
     },
     "execution_count": 12,
     "metadata": {},
     "output_type": "execute_result"
    }
   ],
   "source": [
    "(synthesize\n",
    "  #:forall x\n",
    "  #:guarantee (assert (equal? (abs-spec x) (abs-impl-3 x))))"
   ]
  },
  {
   "cell_type": "markdown",
   "metadata": {},
   "source": [
    "#### Q2. Majority Voting Algorithm\n",
    "\n",
    "The [Boyer–Moore majority vote algorithm](https://en.wikipedia.org/wiki/Boyer%E2%80%93Moore_majority_vote_algorithm) is a beautiful and tricky procedure for finding a majority element in a list, using linear time and constant space.\n",
    "\n",
    "Complete the following Rosette implementation of Boyer-Moore and verify its correctness for any list of N arbitrary integers."
   ]
  },
  {
   "cell_type": "code",
   "execution_count": 2,
   "metadata": {
    "vscode": {
     "languageId": "racket"
    }
   },
   "outputs": [],
   "source": [
    "#lang iracket/lang #:require rosette"
   ]
  },
  {
   "cell_type": "markdown",
   "metadata": {},
   "source": []
  },
  {
   "cell_type": "code",
   "execution_count": 32,
   "metadata": {
    "vscode": {
     "languageId": "racket"
    }
   },
   "outputs": [],
   "source": [
    "(define (boyer-moore xs)\n",
    "  (define m (car xs))  ; car returns the first element of an array\n",
    "  (define i 0)\n",
    "  (for ([x xs])\n",
    "    (if (= i 0) (and (set! m x) (set! i 1))\n",
    "          (if (= m x) (set! i (+ i 1)) \n",
    "          (set! i (- i 1)))\n",
    "          ))\n",
    "  m)"
   ]
  },
  {
   "cell_type": "markdown",
   "metadata": {},
   "source": [
    "Test for several test cases in traditional way"
   ]
  },
  {
   "cell_type": "code",
   "execution_count": 3,
   "metadata": {
    "vscode": {
     "languageId": "racket"
    }
   },
   "outputs": [
    {
     "name": "stdout",
     "output_type": "stream",
     "text": [
      "case 1 :#t\n",
      "case 2 :#t\n"
     ]
    }
   ],
   "source": [
    "(display \"case 1 :\")(displayln (= 1 (boyer-moore `(1 1 2 4 1 1))))\n",
    "(display \"case 2 :\")(displayln (= 4 (boyer-moore `(8 6 4 1 2 4 1 1 8 4 8 4 4))))"
   ]
  },
  {
   "cell_type": "code",
   "execution_count": 33,
   "metadata": {
    "vscode": {
     "languageId": "racket"
    }
   },
   "outputs": [
    {
     "name": "stderr",
     "output_type": "stream",
     "text": [
      "eval:6:2: verify: use does not match pattern: (verify expr)\n",
      "  in: (verify #:assume (assert (> (count (curry = m) xs) (quotient n 2))) #:guarantee (assert (= m (boyer-moore xs))))\n",
      "  location...:\n",
      "   eval:6:2\n",
      "  context...:\n",
      "   /root/.local/share/racket/8.2/pkgs/rosette/rosette/base/form/module.rkt:33:2: try-next\n",
      "   /usr/share/racket/pkgs/sandbox-lib/racket/sandbox.rkt:703:9: loop\n"
     ]
    }
   ],
   "source": [
    ";Check the algorithm for a list of n arbitrary integers.\n",
    "(define (check n [bw #f])\n",
    "  (current-bitwidth bw)\n",
    "  (define-symbolic* xs integer? [n])\n",
    "  (define-symbolic* m integer?)\n",
    "  (verify \n",
    "  #:assume ; there is a majority value ...\n",
    "   (assert (> (count (curry = m) xs)\n",
    "              (quotient n 2)))\n",
    "   #:guarantee ; algorithm works\n",
    "   (assert (= m (boyer-moore xs)))))\n",
    "\n",
    "(time (check 10)) \n",
    "\n"
   ]
  },
  {
   "cell_type": "code",
   "execution_count": 34,
   "metadata": {
    "vscode": {
     "languageId": "racket"
    }
   },
   "outputs": [
    {
     "name": "stderr",
     "output_type": "stream",
     "text": [
      "application: not a procedure;\n",
      " expected a procedure that can be applied to arguments\n",
      "  given: 1\n",
      "  context...:\n",
      "   body of top-level\n",
      "   eval:2:0: check2\n"
     ]
    }
   ],
   "source": [
    "; Check the algorithm for a list of n arbitrary integers.\n",
    "(define (check2 n [bw #f])\n",
    "  (current-bitwidth bw)\n",
    "  (define-symbolic* xs integer? [n])\n",
    "  (define-symbolic* m integer?)\n",
    "  (verify\n",
    "   (when ; there is a majority value ...\n",
    "       (> (count (curry = m) xs)\n",
    "          (quotient n 2))\n",
    "     (assert (= m (boyer-moore xs)))))) ; algorithm works\n",
    "\n",
    "(time (check2 1)) \n"
   ]
  },
  {
   "cell_type": "code",
   "execution_count": 35,
   "metadata": {
    "vscode": {
     "languageId": "racket"
    }
   },
   "outputs": [],
   "source": [
    "(clear-vc!)\n"
   ]
  },
  {
   "cell_type": "code",
   "execution_count": null,
   "metadata": {
    "vscode": {
     "languageId": "racket"
    }
   },
   "outputs": [],
   "source": []
  },
  {
   "cell_type": "markdown",
   "metadata": {},
   "source": [
    "#### 3. Sudoku"
   ]
  },
  {
   "cell_type": "markdown",
   "metadata": {},
   "source": []
  },
  {
   "cell_type": "code",
   "execution_count": 57,
   "metadata": {
    "vscode": {
     "languageId": "racket"
    }
   },
   "outputs": [],
   "source": [
    "#lang iracket/lang #:require rosette"
   ]
  },
  {
   "cell_type": "code",
   "execution_count": 59,
   "metadata": {
    "vscode": {
     "languageId": "racket"
    }
   },
   "outputs": [
    {
     "data": {
      "text/html": [
       "<code>(model\n",
       " [a #t]\n",
       " [b #t]\n",
       " [c$6 #t])</code>"
      ],
      "text/plain": [
       "(model\n",
       " [a #t]\n",
       " [b #t]\n",
       " [c$6 #t])"
      ]
     },
     "execution_count": 59,
     "metadata": {},
     "output_type": "execute_result"
    }
   ],
   "source": [
    "(define (choice type) \n",
    "  (define-symbolic* c type) \n",
    "  c)\n",
    "\n",
    "(define (more-or-less-1 x)\n",
    "  (if (choice boolean?)\n",
    "      (+ x 1)\n",
    "      (- x 1)))\n",
    "\n",
    "(solve (assert (= 0 (more-or-less-1 1)))) ; #f\n",
    "(solve (assert (= 2 (more-or-less-1 1)))) ; #t"
   ]
  },
  {
   "cell_type": "code",
   "execution_count": 60,
   "metadata": {
    "vscode": {
     "languageId": "racket"
    }
   },
   "outputs": [
    {
     "name": "stderr",
     "output_type": "stream",
     "text": [
      "[assert] failed\n",
      "  context...:\n",
      "   /root/.local/share/racket/8.2/pkgs/rosette/rosette/base/core/exn.rkt:59:11: body of top-level\n"
     ]
    }
   ],
   "source": [
    "(assert #f)"
   ]
  },
  {
   "cell_type": "code",
   "execution_count": 61,
   "metadata": {
    "vscode": {
     "languageId": "racket"
    }
   },
   "outputs": [],
   "source": [
    "(define (poly x)\n",
    " (+ (* x x x x) (* 6 x x x) (* 11 x x) (* 6 x)))\n",
    " \n",
    "(define (factored x)\n",
    " (* x (+ x 1) (+ x 2) (+ x 2)))\n",
    " \n",
    "(define (same p f x)\n",
    " (assert (= (p x) (f x))))"
   ]
  },
  {
   "cell_type": "code",
   "execution_count": 66,
   "metadata": {
    "vscode": {
     "languageId": "racket"
    }
   },
   "outputs": [],
   "source": [
    "(same poly factored 0)"
   ]
  },
  {
   "cell_type": "code",
   "execution_count": 63,
   "metadata": {
    "vscode": {
     "languageId": "racket"
    }
   },
   "outputs": [],
   "source": [
    "(same poly factored -1)"
   ]
  },
  {
   "cell_type": "code",
   "execution_count": 64,
   "metadata": {
    "vscode": {
     "languageId": "racket"
    }
   },
   "outputs": [],
   "source": [
    "(same poly factored -2)"
   ]
  },
  {
   "cell_type": "code",
   "execution_count": 2,
   "metadata": {
    "vscode": {
     "languageId": "racket"
    }
   },
   "outputs": [
    {
     "name": "stderr",
     "output_type": "stream",
     "text": [
      "int32?: undefined;\n",
      " cannot reference an identifier before its definition\n",
      "  in module: top-level\n",
      "  context...:\n",
      "   /usr/share/racket/pkgs/sandbox-lib/racket/sandbox.rkt:703:9: loop\n"
     ]
    }
   ],
   "source": [
    "#lang iracket/lang #:require rosette/safe \n",
    "\n",
    "(define-symbolic l h int32?)\n",
    "\n",
    "(define cex (verify (check-mid bvmid l h)))\n"
   ]
  },
  {
   "cell_type": "code",
   "execution_count": 6,
   "metadata": {
    "vscode": {
     "languageId": "racket"
    }
   },
   "outputs": [
    {
     "name": "stderr",
     "output_type": "stream",
     "text": [
      "#%top-interaction: unbound identifier;\n",
      " also, no #%app syntax transformer is bound\n",
      "  at: #%top-interaction\n",
      "  in: (#%top-interaction declare-datatype adder_s ((adder_mk (adder_is Bool) (adder#0 (_ BitVec 32)) (adder#1 (_ BitVec 32)))))\n",
      "  context...:\n",
      "   /usr/share/racket/pkgs/sandbox-lib/racket/sandbox.rkt:703:9: loop\n"
     ]
    }
   ],
   "source": [
    "#lang iracket/lang #:require yosys\n",
    "; SMT-LIBv2 description generated by Yosys 0.23+25 (git sha1 13e4f343b, clang 10.0.0-4ubuntu1 -fPIC -Os)\n",
    "; yosys-smt2-stdt\n",
    "; yosys-smt2-module adder\n",
    "(declare-datatype |adder_s| ((|adder_mk|\n",
    "  (|adder_is| Bool)\n",
    "  (|adder#0| (_ BitVec 32)) ; \\a\n",
    "  (|adder#1| (_ BitVec 32)) ; \\b\n",
    ")))\n",
    "; yosys-smt2-input a 32\n",
    "; yosys-smt2-witness {\"offset\": 0, \"path\": [\"\\\\a\"], \"smtname\": \"a\", \"smtoffset\": 0, \"type\": \"input\", \"width\": 32}\n",
    "(define-fun |adder_n a| ((state |adder_s|)) (_ BitVec 32) (|adder#0| state))\n",
    "; yosys-smt2-input b 32\n",
    "; yosys-smt2-witness {\"offset\": 0, \"path\": [\"\\\\b\"], \"smtname\": \"b\", \"smtoffset\": 0, \"type\": \"input\", \"width\": 32}\n",
    "(define-fun |adder_n b| ((state |adder_s|)) (_ BitVec 32) (|adder#1| state))\n",
    "(define-fun |adder#2| ((state |adder_s|)) (_ BitVec 32) (bvadd (|adder#0| state) (|adder#1| state))) ; \\c\n",
    "; yosys-smt2-output c 32\n",
    "(define-fun |adder_n c| ((state |adder_s|)) (_ BitVec 32) (|adder#2| state))\n",
    "(define-fun |adder_a| ((state |adder_s|)) Bool true)\n",
    "(define-fun |adder_u| ((state |adder_s|)) Bool true)\n",
    "(define-fun |adder_i| ((state |adder_s|)) Bool true)\n",
    "(define-fun |adder_h| ((state |adder_s|)) Bool true)\n",
    "(define-fun |adder_t| ((state |adder_s|) (next_state |adder_s|)) Bool true) ; end of module adder\n",
    "; yosys-smt2-topmod adder\n",
    "; end of yosys output\n"
   ]
  },
  {
   "cell_type": "code",
   "execution_count": 63,
   "metadata": {
    "vscode": {
     "languageId": "racket"
    }
   },
   "outputs": [
    {
     "name": "stderr",
     "output_type": "stream",
     "text": [
      "#%top-interaction: unbound identifier;\n",
      " also, no #%app syntax transformer is bound\n",
      "  at: #%top-interaction\n",
      "  in: (#%top-interaction add_n 1)\n"
     ]
    }
   ],
   "source": [
    "(add_n 1)"
   ]
  },
  {
   "cell_type": "code",
   "execution_count": 21,
   "metadata": {
    "vscode": {
     "languageId": "racket"
    }
   },
   "outputs": [],
   "source": [
    "(clear-vc!)"
   ]
  },
  {
   "cell_type": "code",
   "execution_count": 4,
   "metadata": {
    "vscode": {
     "languageId": "racket"
    }
   },
   "outputs": [],
   "source": [
    "(define (adder_spec a b)\n",
    "  (+ a b))"
   ]
  },
  {
   "cell_type": "code",
   "execution_count": 1,
   "metadata": {
    "vscode": {
     "languageId": "racket"
    }
   },
   "outputs": [
    {
     "name": "stderr",
     "output_type": "stream",
     "text": [
      "adder_spec: undefined;\n",
      " cannot reference an identifier before its definition\n",
      "  in module: top-level\n",
      "  context...:\n",
      "   body of top-level\n"
     ]
    }
   ],
   "source": [
    "(adder_spec 10 15)"
   ]
  },
  {
   "cell_type": "code",
   "execution_count": 7,
   "metadata": {
    "vscode": {
     "languageId": "racket"
    }
   },
   "outputs": [
    {
     "name": "stdout",
     "output_type": "stream",
     "text": [
      "Hello4\n"
     ]
    }
   ],
   "source": [
    "(require \"a.rkt\")\n",
    "(f 3)"
   ]
  },
  {
   "cell_type": "code",
   "execution_count": null,
   "metadata": {
    "vscode": {
     "languageId": "racket"
    }
   },
   "outputs": [],
   "source": []
  }
 ],
 "metadata": {
  "kernelspec": {
   "display_name": "Racket",
   "language": "racket",
   "name": "racket"
  },
  "language_info": {
   "codemirror_mode": "scheme",
   "file_extension": ".rkt",
   "mimetype": "text/x-racket",
   "name": "Racket",
   "pygments_lexer": "racket",
   "version": "8.2"
  }
 },
 "nbformat": 4,
 "nbformat_minor": 2
}
