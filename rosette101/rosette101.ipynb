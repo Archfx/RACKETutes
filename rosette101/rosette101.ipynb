{
 "cells": [
  {
   "cell_type": "markdown",
   "metadata": {},
   "source": [
    "  <picture>\n",
    "  <source srcset=\"https://raw.githubusercontent.com/Archfx/RACKETutes/main/images/racketutes-w.svg\" media=\"(prefers-color-scheme: dark)\">\n",
    "    <img src=\"https://raw.githubusercontent.com/Archfx/RACKETutes/main/images/racketutes.svg\">\n",
    "  </picture>\n",
    "\n",
    "Rosette101\n",
    "==="
   ]
  },
  {
   "attachments": {},
   "cell_type": "markdown",
   "metadata": {},
   "source": [
    "The previous post was about getting familiar with Racket. To make things more interesting we have used Jupyter Notebook interactive environment. This time was are going to use Rosette in the same environment.\n",
    "\n",
    "Rosette is a solver-aided programming language that leverages the powerful [Z3](https://github.com/Z3Prover/z3) solver, alongside techniques from formal verification and symbolic execution. It provides a unique approach to programming by integrating a solver into the programming process, allowing for the exploration of program behaviors, automatic bug finding, and even program synthesis. With Rosette, developers can write programs that include symbolic values and assertions, enabling the solver to reason about program properties and detect potential issues. The solver can analyze concrete and symbolic values, identify failure-inducing inputs, and even generate repairs for faulty expressions. Additionally, Rosette supports angelic execution, where the solver searches for inputs that satisfy program requirements. By leveraging the power of solvers, Rosette empowers developers to write more reliable and robust software while automating tasks traditionally requiring manual effort and expertise in formal methods. Lets go through example use cases provided in the [Rosette documentation](https://docs.racket-lang.org/rosette-guide/index.html)."
   ]
  },
  {
   "cell_type": "markdown",
   "metadata": {},
   "source": [
    "> Note: Rosette's symbolic evaluation engine operates on the program states. Instead of operating on one path at a time, it keeps track of all assumptions and assertions in the path at the beginning.  This is done through the `verification` condition (VC)`.  During the tutorial, we will be switching contexts between different examples and problems. Since we are using the same kernel to run different examples, we need to clean the VC when we switch the context."
   ]
  },
  {
   "cell_type": "markdown",
   "metadata": {},
   "source": [
    "First we start with the language definition,"
   ]
  },
  {
   "cell_type": "code",
   "execution_count": 1,
   "metadata": {
    "vscode": {
     "languageId": "racket"
    }
   },
   "outputs": [],
   "source": [
    "#lang iracket/lang #:require rosette/safe "
   ]
  },
  {
   "attachments": {},
   "cell_type": "markdown",
   "metadata": {},
   "source": [
    "Symbolic Values\n",
    "---\n",
    "\n",
    "When it comes to validating designs and implementations, one thing is we can't visualize all the internal variables. These variables are sometimes constrained by different conditions. With Rosette, we can keep these variables as unknown variable variables which refers to the technical term of ```symbolic variables```. These variables are symbolically evaluated on the constraints that act on them. \n",
    "\n",
    "In the context of the Rosette programming language, a symbolic constant serves as a placeholder for a specific constant of the same type. When we invoke the solver, it identifies the actual value associated with a symbolic constant. Depending on the inquiries we make about a program or procedure applied to that constant, the solver informs us whether the constant \"b\" represents #t (true) or #f (false).\n",
    "\n",
    "Symbolic values, including constants, can be utilized in the same manner as concrete values of the corresponding type. They can be stored in data structures or passed as arguments to procedures, enabling us to obtain other values, either concrete or symbolic, as a result."
   ]
  },
  {
   "cell_type": "code",
   "execution_count": 2,
   "metadata": {
    "vscode": {
     "languageId": "racket"
    }
   },
   "outputs": [
    {
     "name": "stdout",
     "output_type": "stream",
     "text": [
      "b\n"
     ]
    }
   ],
   "source": [
    "(define-symbolic b boolean?)\n",
    "(displayln b)"
   ]
  },
  {
   "cell_type": "code",
   "execution_count": 3,
   "metadata": {
    "vscode": {
     "languageId": "racket"
    }
   },
   "outputs": [
    {
     "name": "stdout",
     "output_type": "stream",
     "text": [
      "#t\n"
     ]
    }
   ],
   "source": [
    "(displayln (boolean? b))"
   ]
  },
  {
   "cell_type": "code",
   "execution_count": 4,
   "metadata": {
    "vscode": {
     "languageId": "racket"
    }
   },
   "outputs": [
    {
     "name": "stdout",
     "output_type": "stream",
     "text": [
      "#f\n"
     ]
    }
   ],
   "source": [
    "(displayln (integer? b))"
   ]
  },
  {
   "cell_type": "code",
   "execution_count": 5,
   "metadata": {
    "vscode": {
     "languageId": "racket"
    }
   },
   "outputs": [
    {
     "name": "stdout",
     "output_type": "stream",
     "text": [
      "#(b 1)\n"
     ]
    }
   ],
   "source": [
    "(displayln (vector b 1))"
   ]
  },
  {
   "cell_type": "code",
   "execution_count": 6,
   "metadata": {
    "vscode": {
     "languageId": "racket"
    }
   },
   "outputs": [
    {
     "name": "stdout",
     "output_type": "stream",
     "text": [
      "(! b)\n"
     ]
    }
   ],
   "source": [
    "(displayln (not b))"
   ]
  },
  {
   "cell_type": "code",
   "execution_count": 7,
   "metadata": {
    "vscode": {
     "languageId": "racket"
    }
   },
   "outputs": [
    {
     "name": "stdout",
     "output_type": "stream",
     "text": [
      "#t\n"
     ]
    }
   ],
   "source": [
    "(displayln (boolean? (not b)))"
   ]
  },
  {
   "attachments": {},
   "cell_type": "markdown",
   "metadata": {},
   "source": [
    "Assertions and Assumptions\n",
    "---\n",
    "\n",
    "Similar to other programming languages, Rosette incorporates a feature for articulating assertions, which are vital program properties that undergo verification during each execution. In Rosette, assertions function in a manner comparable to assertions in languages like Java or Racket when applied to a specific, tangible value. If the value turns out to be false, the execution abruptly halts with a runtime exception. Conversely, if the value is true, the execution continues without interruption."
   ]
  },
  {
   "cell_type": "code",
   "execution_count": 8,
   "metadata": {
    "vscode": {
     "languageId": "racket"
    }
   },
   "outputs": [
    {
     "name": "stderr",
     "output_type": "stream",
     "text": [
      "[assert] failed\n",
      "  context...:\n",
      "   /root/.local/share/racket/8.2/pkgs/rosette/rosette/base/core/exn.rkt:59:11: body of top-level\n"
     ]
    }
   ],
   "source": [
    "(assert #t)\n",
    "(assert #f)"
   ]
  },
  {
   "attachments": {},
   "cell_type": "markdown",
   "metadata": {},
   "source": [
    "Since `(assert #f)` failed, this will be available within the verification context. Therefore, we need to clear the verification conditions if they are no longer valid for the verification scenario under consideration."
   ]
  },
  {
   "cell_type": "code",
   "execution_count": 9,
   "metadata": {
    "vscode": {
     "languageId": "racket"
    }
   },
   "outputs": [],
   "source": [
    "(clear-vc!)"
   ]
  },
  {
   "attachments": {},
   "cell_type": "markdown",
   "metadata": {},
   "source": [
    "In the case of a symbolic boolean value, a Rosette assertion operates differently. It does not have an immediate impact. Instead, the value is added to the ongoing verification condition (VC), and the final outcome of the assertion (pass or fail) is determined by the solver at a later stage.\n",
    "\n",
    "Assertions serve to define properties that a program must fulfill for all valid inputs. In Rosette, as well as in other solver-aided frameworks, assumptions are employed to specify which inputs are considered valid. If a program violates an assertion when provided with valid input, the program itself is deemed at fault. However, if an assertion is violated when an invalid input is provided, the blame falls on the caller. Put simply, a program is deemed incorrect only when it violates an assertion with valid input.\n",
    "\n",
    "Assumptions exhibit analogous behavior to assertions when applied to both concrete and symbolic values. In the case of concrete values, assuming #f results in the execution being aborted with a runtime exception, while assuming a true value is equivalent to calling (void). With symbolic values, the assumed value is accumulated within the current verification condition (VC).\n",
    "\n",
    "Now let's see the actions of assertions with some example expressions."
   ]
  },
  {
   "cell_type": "code",
   "execution_count": 10,
   "metadata": {
    "vscode": {
     "languageId": "racket"
    }
   },
   "outputs": [
    {
     "data": {
      "text/html": [
       "<code>(&lt; 0 j)</code>"
      ],
      "text/plain": [
       "(< 0 j)"
      ]
     },
     "execution_count": 10,
     "metadata": {},
     "output_type": "execute_result"
    }
   ],
   "source": [
    "(define-symbolic i j integer?)\n",
    "(assume (> j 0))     ; Add the assumption (> j 0) to the VC.\n",
    "(vc-assumes (vc))"
   ]
  },
  {
   "cell_type": "code",
   "execution_count": 11,
   "metadata": {
    "vscode": {
     "languageId": "racket"
    }
   },
   "outputs": [
    {
     "name": "stdout",
     "output_type": "stream",
     "text": [
      "#(struct:vc (< 0 j) (|| (! (< 0 j)) (< (+ i (- j)) i)))"
     ]
    }
   ],
   "source": [
    "(assert (< (- i j) i))\n",
    "(vc-asserts (vc))    ; The assertions must hold when the assumptions hold.\n",
    "\n",
    "(display (vc))"
   ]
  },
  {
   "attachments": {},
   "cell_type": "markdown",
   "metadata": {},
   "source": [
    "As you can see, Rosette will generate the verification condition by combining the assumption and the assertion. `#(struct:vc (< 0 j) (|| (! (< 0 j)) (< (+ i (- j)) i)))`. Here the assumption is `(< 0 j)` and the assertion is `(|| (! (< 0 j)) (< (+ i (- j)) i))`."
   ]
  },
  {
   "cell_type": "code",
   "execution_count": 19,
   "metadata": {
    "vscode": {
     "languageId": "racket"
    }
   },
   "outputs": [],
   "source": [
    "(clear-vc!)"
   ]
  },
  {
   "cell_type": "markdown",
   "metadata": {},
   "source": [
    "Solver-Aided Queries\n",
    "---"
   ]
  },
  {
   "attachments": {},
   "cell_type": "markdown",
   "metadata": {},
   "source": [
    "The solver focuses on reasoning about asserted properties only when we inquire about them, such as asking, \"Does my program contain an execution that violates an assertion?\" To facilitate these solver-aided queries, we utilize specific constructs.\n",
    "\n",
    "Assertions can be executed on solver queries (z3). As an example, we define the function below utilizing two different methods. The first one defines the polynomial and the second one defines the factorized polynomial. We can assert the function for equivalence using Rosette in the following manner."
   ]
  },
  {
   "cell_type": "code",
   "execution_count": 12,
   "metadata": {
    "vscode": {
     "languageId": "racket"
    }
   },
   "outputs": [],
   "source": [
    "(define (poly x)\n",
    " (+ (* x x x x) (* 6 x x x) (* 11 x x) (* 6 x)))\n",
    " \n",
    "(define (factored x)\n",
    " (* x (+ x 1) (+ x 2) (+ x 2)))\n",
    " \n",
    "(define (same p f x)\n",
    " (assert (= (p x) (f x))))"
   ]
  },
  {
   "cell_type": "code",
   "execution_count": 7,
   "metadata": {
    "vscode": {
     "languageId": "racket"
    }
   },
   "outputs": [],
   "source": [
    "(same poly factored 0)\n",
    "(same poly factored -1)\n",
    "(same poly factored -2)"
   ]
  },
  {
   "attachments": {},
   "cell_type": "markdown",
   "metadata": {},
   "source": [
    "Now let's try this with another different function, to check whether the assertion will fail."
   ]
  },
  {
   "cell_type": "code",
   "execution_count": 8,
   "metadata": {
    "vscode": {
     "languageId": "racket"
    }
   },
   "outputs": [],
   "source": [
    "(define (factored-2 x)\n",
    " (* x (+ x 3) (+ x 2) (+ x 2)))"
   ]
  },
  {
   "cell_type": "code",
   "execution_count": 9,
   "metadata": {
    "vscode": {
     "languageId": "racket"
    }
   },
   "outputs": [
    {
     "name": "stderr",
     "output_type": "stream",
     "text": [
      "[assert] failed\n",
      "  context...:\n",
      "   /root/.local/share/racket/8.2/pkgs/rosette/rosette/base/core/exn.rkt:59:11: body of top-level\n",
      "   eval:7:0: same\n",
      "   /usr/share/racket/pkgs/sandbox-lib/racket/sandbox.rkt:703:9: loop\n"
     ]
    }
   ],
   "source": [
    "(same poly factored-2 0)\n",
    "(same poly factored-2 -1)\n",
    "(same poly factored-2 -2)"
   ]
  },
  {
   "cell_type": "markdown",
   "metadata": {},
   "source": [
    "As expected assertion fails. Remember we need to clear the `vc` to avoid confusion later."
   ]
  },
  {
   "cell_type": "code",
   "execution_count": 16,
   "metadata": {
    "vscode": {
     "languageId": "racket"
    }
   },
   "outputs": [],
   "source": [
    "(clear-vc!)"
   ]
  },
  {
   "attachments": {},
   "cell_type": "markdown",
   "metadata": {},
   "source": [
    "Verification\n",
    "---\n",
    "\n",
    "Program verification solves the problem of verifying the program for all the legal inputs. The brute-force approach would be to iterate through all the values one by one. Although this sounds promising at capturing any bug if exists, in the case of a 32-bit adder circuit, input space would be $2^{64}$ which is a large number.\n",
    "Instead of going through the brute-force path, Rosette delegates this task to `Z3 constraint solver` with the help of `verify` query. If some input violates the behavior solver will return it as a counterexample.\n"
   ]
  },
  {
   "cell_type": "code",
   "execution_count": 17,
   "metadata": {
    "vscode": {
     "languageId": "racket"
    }
   },
   "outputs": [],
   "source": [
    "(define-symbolic i integer?)\n",
    "(define cex (verify (same poly factored i)))"
   ]
  },
  {
   "attachments": {},
   "cell_type": "markdown",
   "metadata": {},
   "source": [
    "This will create a solver query for the Z3 solver with relevant expressions. Rosette will direct the output from Z3 back into the Jupyter environemt. Now let's see this in action."
   ]
  },
  {
   "cell_type": "code",
   "execution_count": 18,
   "metadata": {
    "vscode": {
     "languageId": "racket"
    }
   },
   "outputs": [
    {
     "data": {
      "text/html": [
       "<code>14</code>"
      ],
      "text/plain": [
       "14"
      ]
     },
     "execution_count": 18,
     "metadata": {},
     "output_type": "execute_result"
    }
   ],
   "source": [
    "(evaluate i cex)"
   ]
  },
  {
   "attachments": {},
   "cell_type": "markdown",
   "metadata": {},
   "source": [
    "As the result suggest, we have a counterexample for the `cex` function. We can substitute the counterexample value to see the results of two functions."
   ]
  },
  {
   "cell_type": "code",
   "execution_count": 22,
   "metadata": {
    "vscode": {
     "languageId": "racket"
    }
   },
   "outputs": [
    {
     "data": {
      "text/html": [
       "<code>57120</code>"
      ],
      "text/plain": [
       "57120"
      ]
     },
     "execution_count": 22,
     "metadata": {},
     "output_type": "execute_result"
    }
   ],
   "source": [
    "(poly 14)"
   ]
  },
  {
   "cell_type": "code",
   "execution_count": 23,
   "metadata": {
    "vscode": {
     "languageId": "racket"
    }
   },
   "outputs": [
    {
     "data": {
      "text/html": [
       "<code>53760</code>"
      ],
      "text/plain": [
       "53760"
      ]
     },
     "execution_count": 23,
     "metadata": {},
     "output_type": "execute_result"
    }
   ],
   "source": [
    "(factored 14)"
   ]
  },
  {
   "cell_type": "code",
   "execution_count": 24,
   "metadata": {
    "vscode": {
     "languageId": "racket"
    }
   },
   "outputs": [
    {
     "name": "stderr",
     "output_type": "stream",
     "text": [
      "[assert] failed\n",
      "  context...:\n",
      "   /root/.local/share/racket/8.2/pkgs/rosette/rosette/base/core/exn.rkt:59:11: body of top-level\n",
      "   eval:7:0: same\n"
     ]
    }
   ],
   "source": [
    "(same poly factored 14)"
   ]
  },
  {
   "cell_type": "code",
   "execution_count": 14,
   "metadata": {
    "vscode": {
     "languageId": "racket"
    }
   },
   "outputs": [],
   "source": [
    "(clear-vc!)"
   ]
  },
  {
   "cell_type": "markdown",
   "metadata": {},
   "source": [
    "\n",
    "Synthesis\n",
    "----"
   ]
  },
  {
   "attachments": {},
   "cell_type": "markdown",
   "metadata": {},
   "source": [
    "The solver possesses the capability to not only identify inputs that cause failures and pinpoint faults but also synthesize repairs for faulty expressions. To initiate the repair process, we begin by substituting each faulty expression with a syntactic placeholder called a \"hole.\" A program containing these holes is referred to as a sketch. The solver then completes the sketch by filling the holes with expressions in a manner that ensures all assertions in the resulting program pass for all inputs.\n",
    "\n",
    "The following code snippet demonstrates the sketch for our flawed factored procedure. We created this sketch by replacing the constants in the minimal core with (??) holes, which are subsequently filled with numerical constants."
   ]
  },
  {
   "cell_type": "code",
   "execution_count": 10,
   "metadata": {
    "vscode": {
     "languageId": "racket"
    }
   },
   "outputs": [],
   "source": [
    "#lang iracket/lang #:require rosette/safe"
   ]
  },
  {
   "cell_type": "code",
   "execution_count": 11,
   "metadata": {
    "vscode": {
     "languageId": "racket"
    }
   },
   "outputs": [],
   "source": [
    "(require rosette/safe)\n",
    "(require rosette/lib/synthax)\n",
    "\n",
    "(define (poly x)\n",
    " (+ (* x x x x) (* 6 x x x) (* 11 x x) (* 6 x)))\n",
    " \n",
    "(define (factored x)\n",
    " (* x (+ x (??)) (+ x (??)) (+ x (??))))\n",
    " \n",
    "(define (same p f x)\n",
    " (assert (= (p x) (f x))))\n"
   ]
  },
  {
   "attachments": {},
   "cell_type": "markdown",
   "metadata": {},
   "source": [
    "The (??) construct is imported from the rosette/lib/synthax library, which not only offers the (??) construct for specifying simple holes but also provides additional constructs for defining more intricate holes. For instance, you have the ability to specify a hole that is filled with an expression randomly chosen from a grammar that you define.\n",
    "\n",
    "Following query will complete the sketch by filling (??) with appropriate values."
   ]
  },
  {
   "cell_type": "code",
   "execution_count": 12,
   "metadata": {
    "vscode": {
     "languageId": "racket"
    }
   },
   "outputs": [
    {
     "name": "stdout",
     "output_type": "stream",
     "text": [
      "(model\n",
      " [??:eval:8:12 1]\n",
      " [??:eval:8:23 2]\n",
      " [??:eval:8:34 3])\n"
     ]
    }
   ],
   "source": [
    "(define-symbolic i integer?)\n",
    "(define binding\n",
    "    (synthesize #:forall (list i)\n",
    "                #:guarantee (same poly factored i)))\n",
    ";(print-forms binding)\n",
    "(displayln binding)"
   ]
  },
  {
   "cell_type": "code",
   "execution_count": 13,
   "metadata": {
    "vscode": {
     "languageId": "racket"
    }
   },
   "outputs": [],
   "source": [
    "(clear-vc!)"
   ]
  },
  {
   "cell_type": "markdown",
   "metadata": {},
   "source": [
    "Note that we can't use `print-forms` within Jupyter Notebook since we can save the program directly to Disc. Instead, we print the model and it will show the solution for three holes (??) that we have created."
   ]
  },
  {
   "cell_type": "markdown",
   "metadata": {},
   "source": [
    "Angelic Execution\n",
    "----"
   ]
  },
  {
   "attachments": {},
   "cell_type": "markdown",
   "metadata": {},
   "source": [
    "In addition to verification and repair, Rosette also supports another solver-aided query known as \"angelic execution.\" This query operates in the opposite direction of verification. When given a program containing symbolic values, angelic execution instructs the solver to discover a binding for those values that enables the program to execute successfully, meaning it does not encounter any assertion failures.\n",
    "\n",
    "Angelic execution can be employed for various purposes such as solving puzzles, running incomplete code, or \"inverting\" a program by searching for inputs that produce a desired output. For instance, we can utilize the solver to find two distinct input values, which are not zeros of the poly function, yet result in the same output when processed by poly."
   ]
  },
  {
   "cell_type": "code",
   "execution_count": 14,
   "metadata": {
    "vscode": {
     "languageId": "racket"
    }
   },
   "outputs": [],
   "source": [
    "(define-symbolic x y integer?)\n",
    "(define sol\n",
    "    (solve (begin (assert (not (= x y)))\n",
    "                  (assert (< (abs x) 10))\n",
    "                  (assert (< (abs y) 10))\n",
    "                  (assert (not (= (poly x) 0)))\n",
    "                  (assert (= (poly x) (poly y))))))"
   ]
  },
  {
   "cell_type": "code",
   "execution_count": 15,
   "metadata": {
    "vscode": {
     "languageId": "racket"
    }
   },
   "outputs": [
    {
     "data": {
      "text/html": [
       "<code>(model\n",
       " [x -4]\n",
       " [y 1])</code>"
      ],
      "text/plain": [
       "(model\n",
       " [x -4]\n",
       " [y 1])"
      ]
     },
     "execution_count": 15,
     "metadata": {},
     "output_type": "execute_result"
    }
   ],
   "source": [
    "evaluate x sol"
   ]
  },
  {
   "cell_type": "code",
   "execution_count": 16,
   "metadata": {
    "vscode": {
     "languageId": "racket"
    }
   },
   "outputs": [
    {
     "data": {
      "text/html": [
       "<code>1</code>"
      ],
      "text/plain": [
       "1"
      ]
     },
     "execution_count": 16,
     "metadata": {},
     "output_type": "execute_result"
    }
   ],
   "source": [
    "(evaluate y sol)"
   ]
  },
  {
   "cell_type": "code",
   "execution_count": 17,
   "metadata": {
    "vscode": {
     "languageId": "racket"
    }
   },
   "outputs": [
    {
     "data": {
      "text/html": [
       "<code>24</code>"
      ],
      "text/plain": [
       "24"
      ]
     },
     "execution_count": 17,
     "metadata": {},
     "output_type": "execute_result"
    }
   ],
   "source": [
    "(evaluate (poly x) sol)"
   ]
  },
  {
   "cell_type": "code",
   "execution_count": 18,
   "metadata": {
    "vscode": {
     "languageId": "racket"
    }
   },
   "outputs": [
    {
     "data": {
      "text/html": [
       "<code>24</code>"
      ],
      "text/plain": [
       "24"
      ]
     },
     "execution_count": 18,
     "metadata": {},
     "output_type": "execute_result"
    }
   ],
   "source": [
    "(evaluate (poly y) sol)"
   ]
  },
  {
   "cell_type": "code",
   "execution_count": 19,
   "metadata": {
    "vscode": {
     "languageId": "racket"
    }
   },
   "outputs": [],
   "source": [
    "(clear-vc!)"
   ]
  },
  {
   "attachments": {},
   "cell_type": "markdown",
   "metadata": {},
   "source": [
    "### Examples\n",
    "\n",
    "\n",
    "Finding an integer whose absolute value is X with Racket"
   ]
  },
  {
   "cell_type": "code",
   "execution_count": 1,
   "metadata": {
    "vscode": {
     "languageId": "racket"
    }
   },
   "outputs": [],
   "source": [
    "#lang iracket/lang #:require rosette/safe \n",
    "\n",
    "(define (abs x)\n",
    "    (if (< x 0) (- x) x))"
   ]
  },
  {
   "cell_type": "code",
   "execution_count": 3,
   "metadata": {
    "vscode": {
     "languageId": "racket"
    }
   },
   "outputs": [
    {
     "data": {
      "text/html": [
       "<code>(model\n",
       " [y -5])</code>"
      ],
      "text/plain": [
       "(model\n",
       " [y -5])"
      ]
     },
     "execution_count": 3,
     "metadata": {},
     "output_type": "execute_result"
    }
   ],
   "source": [
    "; define a symbolic variable y\n",
    "(define-symbolic y integer?)\n",
    "; Solve a constraint saying |y| = 5.\n",
    "(solve\n",
    "  (assert (= (abs y) 5)))"
   ]
  },
  {
   "cell_type": "code",
   "execution_count": 31,
   "metadata": {
    "vscode": {
     "languageId": "racket"
    }
   },
   "outputs": [],
   "source": [
    "(clear-vc!)\n"
   ]
  },
  {
   "attachments": {},
   "cell_type": "markdown",
   "metadata": {},
   "source": [
    "### Absolute Value Find Implementation\n",
    "\n",
    "This problem is from CAV 2019 tutorial session which was conducted by [Emina](https://github.com/emina).\n",
    "Suppose that you are an app developer for a super low-power chip that achieves peak energy efficiency on programs with few or no branches. To build apps faster, you hire Ben Bitdiddle to create a library of efficient primitives for this chip, starting with a branch-free function that computes the absolute value of a 32-bit bitvector. "
   ]
  },
  {
   "cell_type": "code",
   "execution_count": 6,
   "metadata": {
    "vscode": {
     "languageId": "racket"
    }
   },
   "outputs": [],
   "source": [
    "#lang iracket/lang #:require rosette"
   ]
  },
  {
   "cell_type": "code",
   "execution_count": 7,
   "metadata": {
    "vscode": {
     "languageId": "racket"
    }
   },
   "outputs": [],
   "source": [
    "(define (abs-spec x)\n",
    "  (if (bvslt x (bv 0 32))\n",
    "      (bvneg x)\n",
    "      x))"
   ]
  },
  {
   "cell_type": "markdown",
   "metadata": {},
   "source": [
    "Ben comes up with the following implementation that works on his test suite:"
   ]
  },
  {
   "cell_type": "code",
   "execution_count": 8,
   "metadata": {
    "vscode": {
     "languageId": "racket"
    }
   },
   "outputs": [],
   "source": [
    "(define (abs-impl x) \n",
    "  (let* ([o1 (bvashr x (bv 31 32))]\n",
    "         [o2 (bvadd x o1)]\n",
    "         [o3 (bvsub o2 o1)])\n",
    "    o3))\n",
    "\n",
    "; zero, positive, negative ...\n",
    "(assert (equal? (abs-impl (bv #x00000000 32)) \n",
    "                  (abs-spec (bv #x00000000 32))))\n",
    "(assert (equal? (abs-impl (bv #x00000003 32)) \n",
    "                  (abs-spec (bv #x00000003 32))))\n",
    "(assert (equal? (abs-impl (bv #x80000000 32)) \n",
    "                  (abs-spec (bv #x80000000 32))))"
   ]
  },
  {
   "cell_type": "markdown",
   "metadata": {},
   "source": [
    "Help review Ben’s code by answering the following questions. If a question requires you to modify his implementation in any way, do so on a fresh copy with a new name such as abs-impl-N where N is the question number.\n",
    "\n",
    "Does Ben’s implementation work on all 32-bit inputs? Use the verify query to check."
   ]
  },
  {
   "cell_type": "code",
   "execution_count": 9,
   "metadata": {
    "vscode": {
     "languageId": "racket"
    }
   },
   "outputs": [
    {
     "data": {
      "text/html": [
       "<code>(model\n",
       " [x (bv #x8404c7c0 32)])</code>"
      ],
      "text/plain": [
       "(model\n",
       " [x (bv #x8404c7c0 32)])"
      ]
     },
     "execution_count": 9,
     "metadata": {},
     "output_type": "execute_result"
    }
   ],
   "source": [
    "; Let's define a generic 32bit vector\n",
    "(define-symbolic x (bitvector 32))\n",
    "\n",
    "; Using Rosette verify query\n",
    "(define check\n",
    "  (verify\n",
    "   (assert(equal? (abs-spec x) (abs-impl x)))))\n",
    "\n",
    "(evaluate check x)"
   ]
  },
  {
   "cell_type": "markdown",
   "metadata": {},
   "source": [
    "Apparently, we have a counter-example where implementation does not satisfy the specification.\n",
    "\n",
    "The verifier will reveal that Ben’s implementation is buggy. Use debug to localize the fault found by the verifier (and remember to save your work to a file before invoking debug)."
   ]
  },
  {
   "cell_type": "markdown",
   "metadata": {},
   "source": [
    "Use synthesize to fix Ben’s implementation as suggested by the debugger. You can assume that if Ben has made an error, it is always of the same kind: using an arithmetic operator (such as addition or subtraction) instead of a bitwise operator that takes the same arguments. It is easiest to sketch this knowledge using the choose construct."
   ]
  },
  {
   "cell_type": "code",
   "execution_count": 10,
   "metadata": {
    "vscode": {
     "languageId": "racket"
    }
   },
   "outputs": [],
   "source": [
    "(require rosette/lib/synthax)\n",
    "\n",
    "(define (abs-impl-3 x) \n",
    "  (let* ([o1 (bvashr x (bv 31 32))]\n",
    "         [o2 ((choose bvadd bvand bvor bvxor bvshl bvlshr bvashr) x o1)]\n",
    "         [o3 ((choose bvsub bvand bvor bvxor bvshl bvlshr bvashr) o2 o1)])\n",
    "    o3))\n"
   ]
  },
  {
   "cell_type": "code",
   "execution_count": 11,
   "metadata": {
    "vscode": {
     "languageId": "racket"
    }
   },
   "outputs": [
    {
     "data": {
      "text/html": [
       "<code>(model\n",
       " [0$choose:eval:5:15 #t]\n",
       " [1$choose:eval:5:15 #f]\n",
       " [2$choose:eval:5:15 #f]\n",
       " [3$choose:eval:5:15 #f]\n",
       " [4$choose:eval:5:15 #f]\n",
       " [5$choose:eval:5:15 #f]\n",
       " [0$choose:eval:6:15 #f]\n",
       " [1$choose:eval:6:15 #f]\n",
       " [2$choose:eval:6:15 #f]\n",
       " [3$choose:eval:6:15 #t])</code>"
      ],
      "text/plain": [
       "(model\n",
       " [0$choose:eval:5:15 #t]\n",
       " [1$choose:eval:5:15 #f]\n",
       " [2$choose:eval:5:15 #f]\n",
       " [3$choose:eval:5:15 #f]\n",
       " [4$choose:eval:5:15 #f]\n",
       " [5$choose:eval:5:15 #f]\n",
       " [0$choose:eval:6:15 #f]\n",
       " [1$choose:eval:6:15 #f]\n",
       " [2$choose:eval:6:15 #f]\n",
       " [3$choose:eval:6:15 #t])"
      ]
     },
     "execution_count": 11,
     "metadata": {},
     "output_type": "execute_result"
    }
   ],
   "source": [
    "(synthesize\n",
    "  #:forall x\n",
    "  #:guarantee (assert (equal? (abs-spec x) (abs-impl-3 x))))"
   ]
  },
  {
   "attachments": {},
   "cell_type": "markdown",
   "metadata": {},
   "source": [
    "In conclusion, the Rosette tutorial has provided a comprehensive introduction to the powerful features and capabilities of this solver-aided programming language. Through its integration with the Z3 solver and the utilization of formal verification and symbolic execution techniques, Rosette empowers developers to write more reliable and robust software. By incorporating symbolic values, assertions, and the ability to reason about program properties, Rosette enables the automatic detection of bugs, generation of program repairs, and even angelic execution to find inputs that meet specific requirements. The tutorial has equipped programmers with the knowledge and tools to leverage Rosette's unique approach, unlocking new possibilities for software development and verification. With Rosette, developers can enhance their programming workflows, improve code quality, and tackle complex problems more effectively. As they continue to explore and apply the concepts and techniques covered in the tutorial, developers can confidently embrace the potential of Rosette to build innovative and dependable software solutions."
   ]
  }
 ],
 "metadata": {
  "kernelspec": {
   "display_name": "Racket",
   "language": "racket",
   "name": "racket"
  },
  "language_info": {
   "codemirror_mode": "scheme",
   "file_extension": ".rkt",
   "mimetype": "text/x-racket",
   "name": "Racket",
   "pygments_lexer": "racket",
   "version": "8.2"
  }
 },
 "nbformat": 4,
 "nbformat_minor": 2
}
