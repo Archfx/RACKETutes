{
 "cells": [
  {
   "attachments": {},
   "cell_type": "markdown",
   "metadata": {},
   "source": [
    "  <picture>\n",
    "  <source srcset=\"https://raw.githubusercontent.com/Archfx/RACKETutes/main/images/racketutes-w.svg\" media=\"(prefers-color-scheme: dark)\">\n",
    "    <img src=\"https://raw.githubusercontent.com/Archfx/RACKETutes/main/images/racketutes.svg\">\n",
    "  </picture>\n",
    "\n",
    "Rosette101\n",
    "==="
   ]
  },
  {
   "attachments": {},
   "cell_type": "markdown",
   "metadata": {},
   "source": [
    "The previous post was about getting familiar with Racket. To make things more interesting we have used Jupyter notebook interactive environment. This time was are going to use Rosette in the same environment.\n",
    "\n",
    "Rosette is a solver-aided programming language. To be specific popular [Z3](https://github.com/Z3Prover/z3) is behind the curtains of Rosette. With the power of Z3, Rosette programs can understand and handle symbolic values, assertions, assumptions, and queries. Which is a vital part of verifying firmware and hardware designs."
   ]
  },
  {
   "attachments": {},
   "cell_type": "markdown",
   "metadata": {},
   "source": [
    "Note: Rosette's symbolic evaluation engine operates on the program states. Instead of operating on one path at a time, it keeps track of all assumptions and assertions in the path at the beginning.  This is done through the `verification` condition (VC)`.  During the tutorial, we will be switching contexts between different examples and problems. Since we are using the same kernel to run different examples, we need to clean the VC when we switch the context."
   ]
  },
  {
   "cell_type": "code",
   "execution_count": 1,
   "metadata": {
    "vscode": {
     "languageId": "racket"
    }
   },
   "outputs": [],
   "source": [
    "#lang iracket/lang #:require rosette/safe "
   ]
  },
  {
   "attachments": {},
   "cell_type": "markdown",
   "metadata": {},
   "source": [
    "Symbolic Values\n",
    "---\n",
    "\n",
    "When it comes to validating designs and implementations, one thing is we can't visualize all the internal variables. These variables are sometimes constrained by different conditions. With Rosette, we can keep these variables as unknown variable variables which refers to the technical term of ```symbolic variables```. These variables are symbolically evaluated on the constraints that act on them. "
   ]
  },
  {
   "cell_type": "code",
   "execution_count": 2,
   "metadata": {
    "vscode": {
     "languageId": "racket"
    }
   },
   "outputs": [
    {
     "name": "stdout",
     "output_type": "stream",
     "text": [
      "b\n",
      "#t\n",
      "#f\n",
      "#(b 1)\n",
      "(! b)\n",
      "#t\n"
     ]
    }
   ],
   "source": [
    "(define-symbolic b boolean?)\n",
    "(displayln b)\n",
    "\n",
    "(displayln (boolean? b))\n",
    "(displayln (integer? b))\n",
    "(displayln (vector b 1))\n",
    "(displayln (not b))\n",
    "(displayln (boolean? (not b)))"
   ]
  },
  {
   "cell_type": "code",
   "execution_count": null,
   "metadata": {
    "vscode": {
     "languageId": "racket"
    }
   },
   "outputs": [],
   "source": []
  },
  {
   "attachments": {},
   "cell_type": "markdown",
   "metadata": {},
   "source": [
    "Assertions and Assumptions\n",
    "---\n",
    "\n",
    "As the name suggests, Rosette's assertions work exactly similarly to assertions used in other languages. If the assertion is failed, it will terminate the exection with an exception."
   ]
  },
  {
   "cell_type": "code",
   "execution_count": 21,
   "metadata": {
    "vscode": {
     "languageId": "racket"
    }
   },
   "outputs": [
    {
     "name": "stderr",
     "output_type": "stream",
     "text": [
      "[assert] failed\n",
      "  context...:\n",
      "   /root/.local/share/racket/8.2/pkgs/rosette/rosette/base/core/exn.rkt:59:11: body of top-level\n"
     ]
    }
   ],
   "source": [
    "(assert #t)\n",
    "(assert #f)"
   ]
  },
  {
   "cell_type": "code",
   "execution_count": 22,
   "metadata": {
    "vscode": {
     "languageId": "racket"
    }
   },
   "outputs": [],
   "source": [
    "(clear-vc!)"
   ]
  },
  {
   "cell_type": "code",
   "execution_count": 23,
   "metadata": {
    "vscode": {
     "languageId": "racket"
    }
   },
   "outputs": [
    {
     "data": {
      "text/html": [
       "<code>(&lt; 0 j)</code>"
      ],
      "text/plain": [
       "(< 0 j)"
      ]
     },
     "execution_count": 23,
     "metadata": {},
     "output_type": "execute_result"
    }
   ],
   "source": [
    "(define-symbolic i j integer?)\n",
    "(assume (> j 0))     ; Add the assumption (> j 0) to the VC.\n",
    "(vc-assumes (vc))"
   ]
  },
  {
   "cell_type": "code",
   "execution_count": 24,
   "metadata": {
    "vscode": {
     "languageId": "racket"
    }
   },
   "outputs": [
    {
     "name": "stdout",
     "output_type": "stream",
     "text": [
      "#(struct:vc (< 0 j) (|| (! (< 0 j)) (< (+ i (- j)) i)))"
     ]
    }
   ],
   "source": [
    "(assert (< (- i j) i))\n",
    "(vc-asserts (vc))    ; The assertions must hold when the assumptions hold.\n",
    "\n",
    "(display (vc))"
   ]
  },
  {
   "attachments": {},
   "cell_type": "markdown",
   "metadata": {},
   "source": []
  },
  {
   "cell_type": "code",
   "execution_count": 6,
   "metadata": {
    "vscode": {
     "languageId": "racket"
    }
   },
   "outputs": [],
   "source": [
    "; int32? is a shorthand for the type (bitvector 32).\n",
    "(define int32? (bitvector 32))\n",
    "\n",
    "; int32 takes as input an integer literal and returns\n",
    "; the corresponding 32-bit bitvector value.\n",
    "(define (int32 i)\n",
    "  (bv i int32?))\n"
   ]
  },
  {
   "cell_type": "code",
   "execution_count": null,
   "metadata": {
    "vscode": {
     "languageId": "racket"
    }
   },
   "outputs": [],
   "source": [
    "(clear-vc!)"
   ]
  },
  {
   "attachments": {},
   "cell_type": "markdown",
   "metadata": {},
   "source": [
    "Solver-Aided Queries\n",
    "---"
   ]
  },
  {
   "cell_type": "code",
   "execution_count": 7,
   "metadata": {
    "vscode": {
     "languageId": "racket"
    }
   },
   "outputs": [],
   "source": [
    "(define (poly x)\n",
    " (+ (* x x x x) (* 6 x x x) (* 11 x x) (* 6 x)))\n",
    " \n",
    "(define (factored x)\n",
    " (* x (+ x 1) (+ x 2) (+ x 2)))\n",
    " \n",
    "(define (same p f x)\n",
    " (assert (= (p x) (f x))))"
   ]
  },
  {
   "cell_type": "code",
   "execution_count": 10,
   "metadata": {
    "vscode": {
     "languageId": "racket"
    }
   },
   "outputs": [],
   "source": [
    "(same poly factored 0)\n",
    "(same poly factored -1)\n",
    "(same poly factored -2)"
   ]
  },
  {
   "cell_type": "code",
   "execution_count": null,
   "metadata": {
    "vscode": {
     "languageId": "racket"
    }
   },
   "outputs": [],
   "source": [
    "(clear-vc!)"
   ]
  },
  {
   "attachments": {},
   "cell_type": "markdown",
   "metadata": {},
   "source": [
    "Verification\n",
    "---\n",
    "\n",
    "Program verification solves the problem of verifying the program for all the legal inputs. The brute force approach would be to iterate through all the values one by one. Although this sounds promising at capturing any bug if exists, in the case of a 32-bit adder circuit, input space would be $2^{64}$ which is a large number.\n",
    "Instead of going through the brute force path, Rosette delegates this task to `z3 constraint solver` with the help of `verify` query.\n"
   ]
  },
  {
   "cell_type": "markdown",
   "metadata": {},
   "source": []
  },
  {
   "cell_type": "code",
   "execution_count": 11,
   "metadata": {
    "vscode": {
     "languageId": "racket"
    }
   },
   "outputs": [],
   "source": [
    "(define-symbolic i integer?)\n",
    "(define cex (verify (same poly factored i)))\n"
   ]
  },
  {
   "cell_type": "code",
   "execution_count": 15,
   "metadata": {
    "vscode": {
     "languageId": "racket"
    }
   },
   "outputs": [
    {
     "data": {
      "text/html": [
       "<code>480</code>"
      ],
      "text/plain": [
       "480"
      ]
     },
     "execution_count": 15,
     "metadata": {},
     "output_type": "execute_result"
    }
   ],
   "source": [
    "(evaluate i cex)\n",
    "(poly -6)\n",
    "(factored -6)\n",
    "; (same poly factored -6)"
   ]
  },
  {
   "cell_type": "code",
   "execution_count": 51,
   "metadata": {
    "vscode": {
     "languageId": "racket"
    }
   },
   "outputs": [],
   "source": [
    "(clear-vc!)"
   ]
  },
  {
   "attachments": {},
   "cell_type": "markdown",
   "metadata": {},
   "source": [
    "\n",
    "Synthesis\n",
    "----"
   ]
  },
  {
   "attachments": {},
   "cell_type": "markdown",
   "metadata": {},
   "source": [
    "The solver can not only find failure-inducing inputs and localize faults, it can also synthesize repairs for buggy expressions. To repair a program, we first replace each buggy expression with a syntactic \"hole.\" A program with holes is called a sketch. The solver completes a sketch by filling its holes with expressions, in such a way that all assertions in the resulting program pass on all inputs.\n",
    "\n",
    "The following code snippet shows the sketch for our buggy factored procedure. We obtained it by replacing the constants in the minimal core with (??) holes, which are filled with numerical constants.4"
   ]
  },
  {
   "cell_type": "code",
   "execution_count": 52,
   "metadata": {
    "vscode": {
     "languageId": "racket"
    }
   },
   "outputs": [],
   "source": [
    "\n",
    "(require rosette/lib/synthax)\n",
    "\n",
    "(define (poly x)\n",
    " (+ (* x x x x) (* 6 x x x) (* 11 x x) (* 6 x)))\n",
    " \n",
    "(define (factored x)\n",
    " (* (+ x (??)) (+ x 1) (+ x 2) (+ x 3)))\n",
    " \n",
    "(define (same p f x)\n",
    " (assert (= (p x) (f x))))\n"
   ]
  },
  {
   "cell_type": "code",
   "execution_count": 53,
   "metadata": {
    "vscode": {
     "languageId": "racket"
    }
   },
   "outputs": [
    {
     "name": "stderr",
     "output_type": "stream",
     "text": [
      "open-input-file: contract violation\n",
      "  expected: path-string?\n",
      "  given: 'eval\n",
      "  context...:\n",
      "   /root/.local/share/racket/8.2/pkgs/rosette/rosette/lib/util/syntax.rkt:32:0: read-module\n",
      "   /root/.local/share/racket/8.2/pkgs/rosette/rosette/lib/synthax.rkt:243:0: body of top-level\n",
      "   /root/.local/share/racket/8.2/pkgs/rosette/rosette/lib/synthax.rkt:296:0: print-forms\n"
     ]
    }
   ],
   "source": [
    "(define-symbolic i integer?)\n",
    "(define binding\n",
    "    (synthesize #:forall (list i)\n",
    "                #:guarantee (same poly factored i)))\n",
    "(print-forms binding)"
   ]
  },
  {
   "cell_type": "code",
   "execution_count": 45,
   "metadata": {
    "vscode": {
     "languageId": "racket"
    }
   },
   "outputs": [],
   "source": [
    "(clear-vc!)"
   ]
  },
  {
   "attachments": {},
   "cell_type": "markdown",
   "metadata": {},
   "source": [
    "Angelic Execution\n",
    "----"
   ]
  },
  {
   "cell_type": "code",
   "execution_count": 29,
   "metadata": {
    "vscode": {
     "languageId": "racket"
    }
   },
   "outputs": [
    {
     "data": {
      "text/html": [
       "<code>24</code>"
      ],
      "text/plain": [
       "24"
      ]
     },
     "execution_count": 29,
     "metadata": {},
     "output_type": "execute_result"
    }
   ],
   "source": [
    "(define-symbolic x y integer?)\n",
    "(define sol\n",
    "    (solve (begin (assert (not (= x y)))\n",
    "                  (assert (< (abs x) 10))\n",
    "                  (assert (< (abs y) 10))\n",
    "                  (assert (not (= (poly x) 0)))\n",
    "                  (assert (= (poly x) (poly y))))))\n",
    "(evaluate x sol)\n",
    "\n",
    "(evaluate y sol)\n",
    "\n",
    "(evaluate (poly x) sol)\n",
    "\n",
    "(evaluate (poly y) sol)"
   ]
  },
  {
   "cell_type": "code",
   "execution_count": 30,
   "metadata": {
    "vscode": {
     "languageId": "racket"
    }
   },
   "outputs": [],
   "source": [
    "(clear-vc!)"
   ]
  },
  {
   "attachments": {},
   "cell_type": "markdown",
   "metadata": {},
   "source": [
    "#### Lets Do an experiment\n",
    "For this experiment, we generate two implementations for 32-bit adders which utilize Ripple-carry adder and Carry lookahead adder using ChatGPT. Our task is to verify these two implementations. "
   ]
  },
  {
   "attachments": {},
   "cell_type": "markdown",
   "metadata": {},
   "source": [
    "Ripple-carry adder implementation is as below,"
   ]
  },
  {
   "cell_type": "code",
   "execution_count": 12,
   "metadata": {
    "vscode": {
     "languageId": "racket"
    }
   },
   "outputs": [],
   "source": [
    "#lang iracket/lang #:require racket/base"
   ]
  },
  {
   "cell_type": "code",
   "execution_count": 2,
   "metadata": {
    "vscode": {
     "languageId": "racket"
    }
   },
   "outputs": [],
   "source": [
    "; add-32: Number Number -> Number\n",
    "; Purpose: Add two 32-bit numbers and return the result\n",
    "; Pre-conditions: The two input numbers must be 32-bit unsigned integers (0 <= x, y < 2^32)\n",
    ";Post-conditions: Returns the sum of the two input numbers as a 32-bit unsigned integer (0 <= result < 2^32)\n",
    "\n",
    "(define (add-32 x y)\n",
    "  (let ((result 0)\n",
    "        (carry 0))\n",
    "    (for ([i (in-range 32)])\n",
    "      (let ((bit-x (bitwise-and x (expt 2 i)))\n",
    "            (bit-y (bitwise-and y (expt 2 i))))\n",
    "        (let ((sum (bitwise-xor bit-x bit-y carry)))\n",
    "          (set! result (bitwise-ior result sum))\n",
    "          (set! carry (bitwise-and (bitwise-or (bitwise-and bit-x bit-y)\n",
    "                                               (bitwise-and sum carry))\n",
    "                                   (expt 2 (add1 i)))))))\n",
    "    result))\n"
   ]
  },
  {
   "attachments": {},
   "cell_type": "markdown",
   "metadata": {},
   "source": [
    "Test for several test cases"
   ]
  },
  {
   "cell_type": "code",
   "execution_count": 3,
   "metadata": {
    "vscode": {
     "languageId": "racket"
    }
   },
   "outputs": [
    {
     "name": "stderr",
     "output_type": "stream",
     "text": [
      "bitwise-or: undefined;\n",
      " cannot reference an identifier before its definition\n",
      "  in module: top-level\n",
      "  context...:\n",
      "   body of top-level\n",
      "   eval:6:0: add-32\n"
     ]
    }
   ],
   "source": [
    "(add-32 10 15)"
   ]
  },
  {
   "attachments": {},
   "cell_type": "markdown",
   "metadata": {},
   "source": [
    "Carry lookahead adder Implementation is as below,"
   ]
  },
  {
   "cell_type": "code",
   "execution_count": 4,
   "metadata": {
    "vscode": {
     "languageId": "racket"
    }
   },
   "outputs": [],
   "source": [
    ";; add-32-cla: Number Number -> Number\n",
    ";; Purpose: Add two 32-bit numbers using a carry lookahead adder and return the result\n",
    ";; Pre-conditions: The two input numbers must be 32-bit unsigned integers (0 <= x, y < 2^32)\n",
    ";; Post-conditions: Returns the sum of the two input numbers as a 32-bit unsigned integer (0 <= result < 2^32)\n",
    "\n",
    "\n",
    "(define (add-32-cla x y)\n",
    "  (let* ((g (make-vector 32 0))\n",
    "         (p (make-vector 32 0))\n",
    "         (c (make-vector 32 0))\n",
    "         (cin 0)\n",
    "         (cout (vector-ref c 31)))\n",
    "    ;; Generate and propagate bits for all positions\n",
    "    (for ([i (in-range 32)])\n",
    "      (vector-set! g i (bitwise-and (vector-ref x i) (vector-ref y i)))\n",
    "      (vector-set! p i (bitwise-xor (vector-ref x i) (vector-ref y i))))\n",
    "    ;; Compute carry bits for each position\n",
    "    (for ([i (in-range 32)])\n",
    "      (vector-set! c i (vector-ref p i)))\n",
    "    (for ([i (in-range 1 32)])\n",
    "      (let ((g-and-c (bitwise-and (vector-ref g i) (vector-ref c (- i 1)))))\n",
    "        (vector-set! c i (bitwise-or (vector-ref c i) g-and-c))))\n",
    "    ;; Compute sum bits for each position\n",
    "    (let ((result (make-vector 32 0)))\n",
    "      (for ([i (in-range 32)])\n",
    "        (let ((s (bitwise-xor (vector-ref p i) cin)))\n",
    "          (vector-set! result i s)\n",
    "          (set! cin (if (vector-ref c i) 1 0))))\n",
    "      (bitwise-bignum-to-number result))))\n",
    "\n",
    "\n"
   ]
  },
  {
   "attachments": {},
   "cell_type": "markdown",
   "metadata": {},
   "source": [
    "Test with several test cases"
   ]
  },
  {
   "cell_type": "code",
   "execution_count": 11,
   "metadata": {
    "vscode": {
     "languageId": "racket"
    }
   },
   "outputs": [
    {
     "name": "stderr",
     "output_type": "stream",
     "text": [
      "bitwise-or: undefined;\n",
      " cannot reference an identifier before its definition\n",
      "  in module: top-level\n",
      "  context...:\n",
      "   body of top-level\n",
      "   eval:7:0: add-32-cla\n"
     ]
    }
   ],
   "source": [
    " (add-32-cla (vector 0 1 0 1 0 1 0 1\n",
    "                                 0 1 0 1 0 1 0 1\n",
    "                                 0 1 0 1 0 1 0 1\n",
    "                                 0 1 0 1 0 1 0 1)\n",
    "                              (vector 1 0 1 0 1 0 1 0\n",
    "                                 1 0 1 0 1 0 1 0\n",
    "                                 1 0 1 0 1 0 1 0\n",
    "                                 1 0 1 0 1 0 1 0))"
   ]
  },
  {
   "cell_type": "code",
   "execution_count": 28,
   "metadata": {
    "vscode": {
     "languageId": "racket"
    }
   },
   "outputs": [],
   "source": [
    "#lang iracket/lang #:require rosette/safe"
   ]
  },
  {
   "cell_type": "code",
   "execution_count": 29,
   "metadata": {
    "vscode": {
     "languageId": "racket"
    }
   },
   "outputs": [],
   "source": [
    "\n",
    "\n",
    "(define (quadratic-roots a b c)\n",
    "  (define delta (- (* b b) (* 4 a c)))\n",
    "  (if (< delta 0)\n",
    "      #f\n",
    "      (let* ([sqrt-delta (sqrt delta)]\n",
    "             [denominator (* 2 a)])\n",
    "        (list (/ (- (- b) sqrt-delta) denominator)\n",
    "              (/ (- (- b) (- sqrt-delta)) denominator)))))"
   ]
  },
  {
   "cell_type": "code",
   "execution_count": 30,
   "metadata": {
    "vscode": {
     "languageId": "racket"
    }
   },
   "outputs": [
    {
     "name": "stderr",
     "output_type": "stream",
     "text": [
      "sqrt: undefined;\n",
      " cannot reference an identifier before its definition\n",
      "  in module: top-level\n",
      "  context...:\n",
      "   body of top-level\n",
      "   /root/.local/share/racket/8.2/pkgs/rosette/rosette/base/form/control.rkt:16:25\n",
      "   /usr/share/racket/pkgs/sandbox-lib/racket/sandbox.rkt:703:9: loop\n"
     ]
    }
   ],
   "source": [
    "\n",
    "(define-syntax-rule (check-equal actual expected)\n",
    "  (if (equal? actual expected)\n",
    "      (void)\n",
    "      (error 'check-equal \"expected: ~s, got: ~s\" expected actual)))\n",
    "\n",
    "(check-equal (quadratic-roots 1 -5 6) '(2 3))\n",
    "(check-equal (quadratic-roots 1 2 1) '(-1 -1))\n",
    "(check-equal (quadratic-roots 1 -2 1) '(1 1))\n",
    "(check-equal (quadratic-roots 1 1 1) #f)"
   ]
  },
  {
   "attachments": {},
   "cell_type": "markdown",
   "metadata": {},
   "source": [
    "### Some Problems from Internet\n",
    "\n",
    "\n",
    "Finding an integer whose absolute value is X with Racket"
   ]
  },
  {
   "cell_type": "code",
   "execution_count": 1,
   "metadata": {
    "vscode": {
     "languageId": "racket"
    }
   },
   "outputs": [],
   "source": [
    "#lang iracket/lang #:require rosette/safe \n",
    "\n",
    "(define (abs x)\n",
    "    (if (< x 0) (- x) x))"
   ]
  },
  {
   "cell_type": "code",
   "execution_count": 2,
   "metadata": {
    "vscode": {
     "languageId": "racket"
    }
   },
   "outputs": [],
   "source": [
    "; define a symbolic variable y\n",
    "\n",
    "(define-symbolic y integer?)"
   ]
  },
  {
   "cell_type": "code",
   "execution_count": 3,
   "metadata": {
    "vscode": {
     "languageId": "racket"
    }
   },
   "outputs": [
    {
     "data": {
      "text/html": [
       "<code>(model\n",
       " [y -5])</code>"
      ],
      "text/plain": [
       "(model\n",
       " [y -5])"
      ]
     },
     "execution_count": 3,
     "metadata": {},
     "output_type": "execute_result"
    }
   ],
   "source": [
    "; Solve a constraint saying |y| = 5.\n",
    "(solve\n",
    "  (assert (= (abs y) 5)))"
   ]
  },
  {
   "cell_type": "code",
   "execution_count": 31,
   "metadata": {
    "vscode": {
     "languageId": "racket"
    }
   },
   "outputs": [],
   "source": [
    "(clear-vc!)\n"
   ]
  },
  {
   "attachments": {},
   "cell_type": "markdown",
   "metadata": {},
   "source": [
    "Now let us look at some sample questions from CAV 2019 which was developed by [Emina](https://github.com/emina)\n",
    "\n",
    "\n"
   ]
  },
  {
   "attachments": {},
   "cell_type": "markdown",
   "metadata": {},
   "source": [
    "#### Q1. Warmup\n",
    "\n",
    "Suppose that you are an app developer for a super low-power chip that achieves peak energy efficiency on programs with few or no branches. To build apps faster, you hire Ben Bitdiddle to create a library of efficient primitives for this chip, starting with a branch-free function that computes the absolute value of a 32-bit bitvector. "
   ]
  },
  {
   "cell_type": "code",
   "execution_count": 1,
   "metadata": {
    "vscode": {
     "languageId": "racket"
    }
   },
   "outputs": [],
   "source": [
    "#lang iracket/lang #:require rosette"
   ]
  },
  {
   "cell_type": "code",
   "execution_count": 2,
   "metadata": {
    "vscode": {
     "languageId": "racket"
    }
   },
   "outputs": [],
   "source": [
    "(define (abs-spec x)\n",
    "  (if (bvslt x (bv 0 32))\n",
    "      (bvneg x)\n",
    "      x))"
   ]
  },
  {
   "attachments": {},
   "cell_type": "markdown",
   "metadata": {},
   "source": [
    "Ben comes up with the following implementation that works on his test suite:"
   ]
  },
  {
   "cell_type": "code",
   "execution_count": 3,
   "metadata": {
    "vscode": {
     "languageId": "racket"
    }
   },
   "outputs": [],
   "source": [
    "(define (abs-impl x) \n",
    "  (let* ([o1 (bvashr x (bv 31 32))]\n",
    "         [o2 (bvadd x o1)]\n",
    "         [o3 (bvsub o2 o1)])\n",
    "    o3))\n",
    "\n",
    "; zero, positive, negative ...\n",
    "(assert (equal? (abs-impl (bv #x00000000 32)) \n",
    "                  (abs-spec (bv #x00000000 32))))\n",
    "(assert (equal? (abs-impl (bv #x00000003 32)) \n",
    "                  (abs-spec (bv #x00000003 32))))\n",
    "(assert (equal? (abs-impl (bv #x80000000 32)) \n",
    "                  (abs-spec (bv #x80000000 32))))"
   ]
  },
  {
   "attachments": {},
   "cell_type": "markdown",
   "metadata": {},
   "source": [
    "Help review Ben’s code by answering the following questions. If a question requires you to modify his implementation in any way, do so on a fresh copy with a new name such as abs-impl-N where N is the question number.\n",
    "\n",
    "Does Ben’s implementation work on all 32-bit inputs? Use the verify query to check."
   ]
  },
  {
   "cell_type": "code",
   "execution_count": 5,
   "metadata": {
    "vscode": {
     "languageId": "racket"
    }
   },
   "outputs": [
    {
     "data": {
      "text/html": [
       "<code>(model\n",
       " [x (bv #x8404c7c0 32)])</code>"
      ],
      "text/plain": [
       "(model\n",
       " [x (bv #x8404c7c0 32)])"
      ]
     },
     "execution_count": 5,
     "metadata": {},
     "output_type": "execute_result"
    }
   ],
   "source": [
    "; Let's define a generic 32bit vector\n",
    "(define-symbolic x (bitvector 32))\n",
    "\n",
    "; Using Rosette verify query\n",
    "(define check\n",
    "  (verify\n",
    "   (assert(equal? (abs-spec x) (abs-impl x)))))\n",
    "\n",
    "(evaluate check x)"
   ]
  },
  {
   "attachments": {},
   "cell_type": "markdown",
   "metadata": {},
   "source": [
    "Apparently, we have a counter-example where implementation does not satisfy the specification.\n",
    "\n",
    "The verifier will reveal that Ben’s implementation is buggy. Use debug to localize the fault found by the verifier (and remember to save your work to a file before invoking debug)."
   ]
  },
  {
   "cell_type": "code",
   "execution_count": null,
   "metadata": {
    "vscode": {
     "languageId": "racket"
    }
   },
   "outputs": [],
   "source": []
  },
  {
   "attachments": {},
   "cell_type": "markdown",
   "metadata": {},
   "source": [
    "Use synthesize to fix Ben’s implementation as suggested by the debugger. You can assume that if Ben has made an error, it is always of the same kind: using an arithmetic operator (such as addition or subtraction) instead of a bitwise operator that takes the same arguments. It is easiest to sketch this knowledge using the choose construct."
   ]
  },
  {
   "cell_type": "code",
   "execution_count": 10,
   "metadata": {
    "vscode": {
     "languageId": "racket"
    }
   },
   "outputs": [],
   "source": [
    "(require rosette/lib/synthax)\n",
    "\n",
    "(define (abs-impl-3 x) \n",
    "  (let* ([o1 (bvashr x (bv 31 32))]\n",
    "         [o2 ((choose bvadd bvand bvor bvxor bvshl bvlshr bvashr) x o1)]\n",
    "         [o3 ((choose bvsub bvand bvor bvxor bvshl bvlshr bvashr) o2 o1)])\n",
    "    o3))\n"
   ]
  },
  {
   "cell_type": "code",
   "execution_count": 12,
   "metadata": {
    "vscode": {
     "languageId": "racket"
    }
   },
   "outputs": [
    {
     "data": {
      "text/html": [
       "<code>(model\n",
       " [0$choose:eval:5:15 #t]\n",
       " [1$choose:eval:5:15 #f]\n",
       " [2$choose:eval:5:15 #f]\n",
       " [3$choose:eval:5:15 #f]\n",
       " [4$choose:eval:5:15 #f]\n",
       " [5$choose:eval:5:15 #f]\n",
       " [0$choose:eval:6:15 #f]\n",
       " [1$choose:eval:6:15 #f]\n",
       " [2$choose:eval:6:15 #f]\n",
       " [3$choose:eval:6:15 #t])</code>"
      ],
      "text/plain": [
       "(model\n",
       " [0$choose:eval:5:15 #t]\n",
       " [1$choose:eval:5:15 #f]\n",
       " [2$choose:eval:5:15 #f]\n",
       " [3$choose:eval:5:15 #f]\n",
       " [4$choose:eval:5:15 #f]\n",
       " [5$choose:eval:5:15 #f]\n",
       " [0$choose:eval:6:15 #f]\n",
       " [1$choose:eval:6:15 #f]\n",
       " [2$choose:eval:6:15 #f]\n",
       " [3$choose:eval:6:15 #t])"
      ]
     },
     "execution_count": 12,
     "metadata": {},
     "output_type": "execute_result"
    }
   ],
   "source": [
    "(synthesize\n",
    "  #:forall x\n",
    "  #:guarantee (assert (equal? (abs-spec x) (abs-impl-3 x))))"
   ]
  },
  {
   "attachments": {},
   "cell_type": "markdown",
   "metadata": {},
   "source": [
    "#### Q2. Majority Voting Algorithm\n",
    "\n",
    "The [Boyer–Moore majority vote algorithm](https://en.wikipedia.org/wiki/Boyer%E2%80%93Moore_majority_vote_algorithm) is a beautiful and tricky procedure for finding a majority element in a list, using linear time and constant space.\n",
    "\n",
    "Complete the following Rosette implementation of Boyer-Moore and verify its correctness for any list of N arbitrary integers."
   ]
  },
  {
   "cell_type": "code",
   "execution_count": 2,
   "metadata": {
    "vscode": {
     "languageId": "racket"
    }
   },
   "outputs": [],
   "source": [
    "#lang iracket/lang #:require rosette"
   ]
  },
  {
   "cell_type": "markdown",
   "metadata": {},
   "source": []
  },
  {
   "cell_type": "code",
   "execution_count": 32,
   "metadata": {
    "vscode": {
     "languageId": "racket"
    }
   },
   "outputs": [],
   "source": [
    "(define (boyer-moore xs)\n",
    "  (define m (car xs))  ; car returns the first element of an array\n",
    "  (define i 0)\n",
    "  (for ([x xs])\n",
    "    (if (= i 0) (and (set! m x) (set! i 1))\n",
    "          (if (= m x) (set! i (+ i 1)) \n",
    "          (set! i (- i 1)))\n",
    "          ))\n",
    "  m)"
   ]
  },
  {
   "attachments": {},
   "cell_type": "markdown",
   "metadata": {},
   "source": [
    "Test for several test cases in traditional way"
   ]
  },
  {
   "cell_type": "code",
   "execution_count": 3,
   "metadata": {
    "vscode": {
     "languageId": "racket"
    }
   },
   "outputs": [
    {
     "name": "stdout",
     "output_type": "stream",
     "text": [
      "case 1 :#t\n",
      "case 2 :#t\n"
     ]
    }
   ],
   "source": [
    "(display \"case 1 :\")(displayln (= 1 (boyer-moore `(1 1 2 4 1 1))))\n",
    "(display \"case 2 :\")(displayln (= 4 (boyer-moore `(8 6 4 1 2 4 1 1 8 4 8 4 4))))"
   ]
  },
  {
   "cell_type": "code",
   "execution_count": 33,
   "metadata": {
    "vscode": {
     "languageId": "racket"
    }
   },
   "outputs": [
    {
     "name": "stderr",
     "output_type": "stream",
     "text": [
      "eval:6:2: verify: use does not match pattern: (verify expr)\n",
      "  in: (verify #:assume (assert (> (count (curry = m) xs) (quotient n 2))) #:guarantee (assert (= m (boyer-moore xs))))\n",
      "  location...:\n",
      "   eval:6:2\n",
      "  context...:\n",
      "   /root/.local/share/racket/8.2/pkgs/rosette/rosette/base/form/module.rkt:33:2: try-next\n",
      "   /usr/share/racket/pkgs/sandbox-lib/racket/sandbox.rkt:703:9: loop\n"
     ]
    }
   ],
   "source": [
    ";Check the algorithm for a list of n arbitrary integers.\n",
    "(define (check n [bw #f])\n",
    "  (current-bitwidth bw)\n",
    "  (define-symbolic* xs integer? [n])\n",
    "  (define-symbolic* m integer?)\n",
    "  (verify \n",
    "  #:assume ; there is a majority value ...\n",
    "   (assert (> (count (curry = m) xs)\n",
    "              (quotient n 2)))\n",
    "   #:guarantee ; algorithm works\n",
    "   (assert (= m (boyer-moore xs)))))\n",
    "\n",
    "(time (check 10)) \n",
    "\n"
   ]
  },
  {
   "cell_type": "code",
   "execution_count": 34,
   "metadata": {
    "vscode": {
     "languageId": "racket"
    }
   },
   "outputs": [
    {
     "name": "stderr",
     "output_type": "stream",
     "text": [
      "application: not a procedure;\n",
      " expected a procedure that can be applied to arguments\n",
      "  given: 1\n",
      "  context...:\n",
      "   body of top-level\n",
      "   eval:2:0: check2\n"
     ]
    }
   ],
   "source": [
    "; Check the algorithm for a list of n arbitrary integers.\n",
    "(define (check2 n [bw #f])\n",
    "  (current-bitwidth bw)\n",
    "  (define-symbolic* xs integer? [n])\n",
    "  (define-symbolic* m integer?)\n",
    "  (verify\n",
    "   (when ; there is a majority value ...\n",
    "       (> (count (curry = m) xs)\n",
    "          (quotient n 2))\n",
    "     (assert (= m (boyer-moore xs)))))) ; algorithm works\n",
    "\n",
    "(time (check2 1)) \n"
   ]
  },
  {
   "cell_type": "code",
   "execution_count": 35,
   "metadata": {
    "vscode": {
     "languageId": "racket"
    }
   },
   "outputs": [],
   "source": [
    "(clear-vc!)\n"
   ]
  },
  {
   "cell_type": "code",
   "execution_count": null,
   "metadata": {
    "vscode": {
     "languageId": "racket"
    }
   },
   "outputs": [],
   "source": []
  },
  {
   "attachments": {},
   "cell_type": "markdown",
   "metadata": {},
   "source": [
    "#### 3. Sudoku"
   ]
  },
  {
   "cell_type": "markdown",
   "metadata": {},
   "source": []
  },
  {
   "cell_type": "code",
   "execution_count": 57,
   "metadata": {
    "vscode": {
     "languageId": "racket"
    }
   },
   "outputs": [],
   "source": [
    "#lang iracket/lang #:require rosette"
   ]
  },
  {
   "cell_type": "code",
   "execution_count": 59,
   "metadata": {
    "vscode": {
     "languageId": "racket"
    }
   },
   "outputs": [
    {
     "data": {
      "text/html": [
       "<code>(model\n",
       " [a #t]\n",
       " [b #t]\n",
       " [c$6 #t])</code>"
      ],
      "text/plain": [
       "(model\n",
       " [a #t]\n",
       " [b #t]\n",
       " [c$6 #t])"
      ]
     },
     "execution_count": 59,
     "metadata": {},
     "output_type": "execute_result"
    }
   ],
   "source": [
    "(define (choice type) \n",
    "  (define-symbolic* c type) \n",
    "  c)\n",
    "\n",
    "(define (more-or-less-1 x)\n",
    "  (if (choice boolean?)\n",
    "      (+ x 1)\n",
    "      (- x 1)))\n",
    "\n",
    "(solve (assert (= 0 (more-or-less-1 1)))) ; #f\n",
    "(solve (assert (= 2 (more-or-less-1 1)))) ; #t"
   ]
  },
  {
   "cell_type": "code",
   "execution_count": 60,
   "metadata": {
    "vscode": {
     "languageId": "racket"
    }
   },
   "outputs": [
    {
     "name": "stderr",
     "output_type": "stream",
     "text": [
      "[assert] failed\n",
      "  context...:\n",
      "   /root/.local/share/racket/8.2/pkgs/rosette/rosette/base/core/exn.rkt:59:11: body of top-level\n"
     ]
    }
   ],
   "source": [
    "(assert #f)"
   ]
  },
  {
   "cell_type": "code",
   "execution_count": 61,
   "metadata": {
    "vscode": {
     "languageId": "racket"
    }
   },
   "outputs": [],
   "source": [
    "(define (poly x)\n",
    " (+ (* x x x x) (* 6 x x x) (* 11 x x) (* 6 x)))\n",
    " \n",
    "(define (factored x)\n",
    " (* x (+ x 1) (+ x 2) (+ x 2)))\n",
    " \n",
    "(define (same p f x)\n",
    " (assert (= (p x) (f x))))"
   ]
  },
  {
   "cell_type": "code",
   "execution_count": 66,
   "metadata": {
    "vscode": {
     "languageId": "racket"
    }
   },
   "outputs": [],
   "source": [
    "(same poly factored 0)"
   ]
  },
  {
   "cell_type": "code",
   "execution_count": 63,
   "metadata": {
    "vscode": {
     "languageId": "racket"
    }
   },
   "outputs": [],
   "source": [
    "(same poly factored -1)"
   ]
  },
  {
   "cell_type": "code",
   "execution_count": 64,
   "metadata": {
    "vscode": {
     "languageId": "racket"
    }
   },
   "outputs": [],
   "source": [
    "(same poly factored -2)"
   ]
  },
  {
   "cell_type": "code",
   "execution_count": 2,
   "metadata": {
    "vscode": {
     "languageId": "racket"
    }
   },
   "outputs": [
    {
     "name": "stderr",
     "output_type": "stream",
     "text": [
      "int32?: undefined;\n",
      " cannot reference an identifier before its definition\n",
      "  in module: top-level\n",
      "  context...:\n",
      "   /usr/share/racket/pkgs/sandbox-lib/racket/sandbox.rkt:703:9: loop\n"
     ]
    }
   ],
   "source": [
    "#lang iracket/lang #:require rosette/safe \n",
    "\n",
    "(define-symbolic l h int32?)\n",
    "\n",
    "(define cex (verify (check-mid bvmid l h)))\n"
   ]
  },
  {
   "cell_type": "code",
   "execution_count": 6,
   "metadata": {
    "vscode": {
     "languageId": "racket"
    }
   },
   "outputs": [
    {
     "name": "stderr",
     "output_type": "stream",
     "text": [
      "#%top-interaction: unbound identifier;\n",
      " also, no #%app syntax transformer is bound\n",
      "  at: #%top-interaction\n",
      "  in: (#%top-interaction declare-datatype adder_s ((adder_mk (adder_is Bool) (adder#0 (_ BitVec 32)) (adder#1 (_ BitVec 32)))))\n",
      "  context...:\n",
      "   /usr/share/racket/pkgs/sandbox-lib/racket/sandbox.rkt:703:9: loop\n"
     ]
    }
   ],
   "source": [
    "#lang iracket/lang #:require yosys\n",
    "; SMT-LIBv2 description generated by Yosys 0.23+25 (git sha1 13e4f343b, clang 10.0.0-4ubuntu1 -fPIC -Os)\n",
    "; yosys-smt2-stdt\n",
    "; yosys-smt2-module adder\n",
    "(declare-datatype |adder_s| ((|adder_mk|\n",
    "  (|adder_is| Bool)\n",
    "  (|adder#0| (_ BitVec 32)) ; \\a\n",
    "  (|adder#1| (_ BitVec 32)) ; \\b\n",
    ")))\n",
    "; yosys-smt2-input a 32\n",
    "; yosys-smt2-witness {\"offset\": 0, \"path\": [\"\\\\a\"], \"smtname\": \"a\", \"smtoffset\": 0, \"type\": \"input\", \"width\": 32}\n",
    "(define-fun |adder_n a| ((state |adder_s|)) (_ BitVec 32) (|adder#0| state))\n",
    "; yosys-smt2-input b 32\n",
    "; yosys-smt2-witness {\"offset\": 0, \"path\": [\"\\\\b\"], \"smtname\": \"b\", \"smtoffset\": 0, \"type\": \"input\", \"width\": 32}\n",
    "(define-fun |adder_n b| ((state |adder_s|)) (_ BitVec 32) (|adder#1| state))\n",
    "(define-fun |adder#2| ((state |adder_s|)) (_ BitVec 32) (bvadd (|adder#0| state) (|adder#1| state))) ; \\c\n",
    "; yosys-smt2-output c 32\n",
    "(define-fun |adder_n c| ((state |adder_s|)) (_ BitVec 32) (|adder#2| state))\n",
    "(define-fun |adder_a| ((state |adder_s|)) Bool true)\n",
    "(define-fun |adder_u| ((state |adder_s|)) Bool true)\n",
    "(define-fun |adder_i| ((state |adder_s|)) Bool true)\n",
    "(define-fun |adder_h| ((state |adder_s|)) Bool true)\n",
    "(define-fun |adder_t| ((state |adder_s|) (next_state |adder_s|)) Bool true) ; end of module adder\n",
    "; yosys-smt2-topmod adder\n",
    "; end of yosys output\n"
   ]
  },
  {
   "cell_type": "code",
   "execution_count": 63,
   "metadata": {
    "vscode": {
     "languageId": "racket"
    }
   },
   "outputs": [
    {
     "name": "stderr",
     "output_type": "stream",
     "text": [
      "#%top-interaction: unbound identifier;\n",
      " also, no #%app syntax transformer is bound\n",
      "  at: #%top-interaction\n",
      "  in: (#%top-interaction add_n 1)\n"
     ]
    }
   ],
   "source": [
    "(add_n 1)"
   ]
  },
  {
   "cell_type": "code",
   "execution_count": 21,
   "metadata": {
    "vscode": {
     "languageId": "racket"
    }
   },
   "outputs": [],
   "source": [
    "(clear-vc!)"
   ]
  },
  {
   "cell_type": "code",
   "execution_count": 4,
   "metadata": {
    "vscode": {
     "languageId": "racket"
    }
   },
   "outputs": [],
   "source": [
    "(define (adder_spec a b)\n",
    "  (+ a b))"
   ]
  },
  {
   "cell_type": "code",
   "execution_count": 1,
   "metadata": {
    "vscode": {
     "languageId": "racket"
    }
   },
   "outputs": [
    {
     "name": "stderr",
     "output_type": "stream",
     "text": [
      "adder_spec: undefined;\n",
      " cannot reference an identifier before its definition\n",
      "  in module: top-level\n",
      "  context...:\n",
      "   body of top-level\n"
     ]
    }
   ],
   "source": [
    "(adder_spec 10 15)"
   ]
  },
  {
   "cell_type": "code",
   "execution_count": null,
   "metadata": {
    "vscode": {
     "languageId": "racket"
    }
   },
   "outputs": [],
   "source": []
  },
  {
   "attachments": {},
   "cell_type": "markdown",
   "metadata": {},
   "source": [
    "> Hello this is a test message"
   ]
  },
  {
   "attachments": {},
   "cell_type": "markdown",
   "metadata": {},
   "source": [
    "### Some codes from chatGPT"
   ]
  },
  {
   "cell_type": "markdown",
   "metadata": {},
   "source": []
  },
  {
   "cell_type": "code",
   "execution_count": 3,
   "metadata": {
    "vscode": {
     "languageId": "racket"
    }
   },
   "outputs": [
    {
     "name": "stdout",
     "output_type": "stream",
     "text": [
      "(1 2 4 5 7)\n"
     ]
    }
   ],
   "source": [
    "(define arr '(4 2 7 1 5))\n",
    "(define sorted-arr (sort arr <))\n",
    "(displayln sorted-arr)"
   ]
  },
  {
   "cell_type": "code",
   "execution_count": 4,
   "metadata": {
    "vscode": {
     "languageId": "racket"
    }
   },
   "outputs": [
    {
     "name": "stderr",
     "output_type": "stream",
     "text": [
      "application: not a procedure;\n",
      " expected a procedure that can be applied to arguments\n",
      "  given: 50\n",
      "  context...:\n",
      "   body of top-level\n",
      "   eval:3:0: make-chessboard\n",
      "   /usr/share/racket/pkgs/sandbox-lib/racket/sandbox.rkt:703:9: loop\n"
     ]
    }
   ],
   "source": [
    "(require 2htdp/image)\n",
    "\n",
    "(define (make-chessboard size)\n",
    "  (let* ((square-size (/ size 8))\n",
    "         (odd-square (square-size 255 204 153))\n",
    "         (even-square (square-size 204 153 102)))\n",
    "    (beside\n",
    "     (above-map (lambda (row)\n",
    "                  (below-map (lambda (col)\n",
    "                               (if (even? (+ row col))\n",
    "                                   even-square\n",
    "                                   odd-square))\n",
    "                             (range 8)))\n",
    "                (range 8)))))\n",
    "\n",
    "(define chessboard (make-chessboard 400))\n",
    "\n",
    "(draw chessboard)"
   ]
  },
  {
   "cell_type": "code",
   "execution_count": 13,
   "metadata": {
    "vscode": {
     "languageId": "racket"
    }
   },
   "outputs": [],
   "source": [
    "\n",
    " (require 2htdp/image)"
   ]
  },
  {
   "cell_type": "code",
   "execution_count": 6,
   "metadata": {
    "vscode": {
     "languageId": "racket"
    }
   },
   "outputs": [
    {
     "data": {
      "text/html": [
       "<code><img style=\"display: inline; vertical-align: baseline; padding: 0pt; margin: 0pt; border: 0pt\" src=\"data:image/png;base64,iVBORw0KGgoAAAANSUhEUgAAADwAAAA8CAYAAAA6/NlyAAAE2ElEQVRogeXbX6wdVRUG8N+e\r\n",
       "3lZiaemfGAitIq1tKcJDY2xpiKAvEoUCSSWGByAE/EMixNLGJgrxQaORBEwwEQj4QMRIgjE1\r\n",
       "UYygIBhBiFL+hNKmLShoKcWgtSg+CJ8PM1doL+Xee86cM3j4kslJZubs/X17rZnZe621SxID\r\n",
       "QSkz8WGsxnJ8AMdhLt7d/P4DL2M/dmEHtuE3kl0DodWq4FIW4jysxxq1iAewHTvxjFrcvyQH\r\n",
       "lDIXszFPPSjLcTI+huAX+AHul7zWCsck/R+cFraEv4cfhnPDUX22uSxsCI+EZ8NVYX6/XPsV\r\n",
       "+vHwQNgRPhuObGUAJ/ZzUvhe+Gu4ph/hvRJY0lh0R1gfqoEIndjv4nBDeD5c0ku/vXT6+fBi\r\n",
       "2BxmDUXoRA6rGs/6dVg0GMHMCz8Ovw/LOhF6MJ8qfLmx9lntCq5d6YlwfWdWPTy3teG5cEU7\r\n",
       "glkZ/hSu7Fzc4Tm+LzzZvNBK74I5vvkkXNC5qMlFzw8PhW/2Jpijw85wWedipi56QfPofWl6\r\n",
       "gpkR7glf61zE9EUfG/4Y1k1H8NfDr8KMzgX0Jnp12BuWTC6YNeEv4T2dE+9P9BXhwUMnJ9Uh\r\n",
       "k/8ZuAGbJC+2MlnvDt/BK/jcQWcPGZUvhLs6t057Vj4x7AvHjJ97fXlYyrvUy7mzJVuHbI3B\r\n",
       "oZTrUEm+iIMEX4ZPSM7ujt0AUMoxeBInS/a88Rm+HNd0w2qASPbi+2p9jYVLWY3bsML/TD5C\r\n",
       "KGUZ7sd7xy18AW4dSbGQ7MTTOGPcwruxTrKtY2qDQ/2OWlvC+9WBtkUja2Eo5Xj8tsLpuHek\r\n",
       "xULyDF6p8EE83jGdYeG+Cieo48bvBDxVYal6hvVOwPZKHfV/qWsmQ8LuSp3jOdA1kyFhfwmv\r\n",
       "Yqa2cjdvZ5Qyp4TXJNXkd48AShmrMPqWfR2za8uWUjomMizMqdT52gVdMxkSFlbYg2O7ZjIk\r\n",
       "rKjwZyzumsmQsLLCE1jVNZMhYVWFh9WFJ6ONUsZw+rjgU5Qy6t/iNXi6kjyLfTilY0KDxnr8\r\n",
       "bDzE81XMlWzsmtVAUMosPIdTx934DpzX+PkoYh22SXbVguvg3W612UcL9SxyszrXdFAy7dvY\r\n",
       "1AWnAeMsHIEt8MbEUxW2hU92ngRrL5k2Fh4L50xMl9br4U24tikMHQVswPOSn4yfmFhcWsrP\r\n",
       "8UvJtcPl1jJKWYKHsLoJ0dZ4EzdY2uRUT+rcJXt35SOaArrLD7325uXDpVyEjc3o/HtINmkP\r\n",
       "pdyEeZJPT7h02IRDKbdhDOf/X2UlStmIi7FWMjE4+RZuMaspXfpG5y46dVe+sKkaPO5w90zW\r\n",
       "wMLwVPhK52ImF3tpU330loWvU2no6PBo+NZkdYwdit0cdoflk907tT0PpSzAneo9C5+RvNzu\r\n",
       "g9cjSjkKN6s3j6yT7JvsL1NbAycv4aP4J36nlJW9s2wJpazBI9iL06YiFj1VxF/afKevCjM7\r\n",
       "cN/54bthTzh3uv+ffpQjuQUfUoeFtirlnKHEtUuZrZQN6n1N/8GJki3TbqfP0T4z/KE5PjWQ\r\n",
       "ankWhavDC+H2fmeAbRAqqfcp3dOQui6cGsb6aHNxuDjcnXrrzo1hRRsD2PbOtKW4CGdiCe7D\r\n",
       "1sYNt+NvOCDZ37xhj8Qc9Ta9E5rjI+qc9b34EX6qxentfwGeYLF3HKscIAAAAABJRU5ErkJg\r\n",
       "gg==\r\n",
       "\"/></code>"
      ],
      "text/plain": [
       "(object:image% #f #f #f #f 1 0 (object:image-snipclass% #f \"((lib \\\"image-core.ss\\\" \\\"mrlib\\\") (lib \\\"image-core-wxme.rkt\\\" \\\"mrlib\\\"))\" 1) #0=(object:style% (object:color% 0 0 0 1.0 #f) (object:color% 255 255 255 1.0 #f) (object:font% #f 'aligned '#(12.0 default normal normal #f default #f aligned) #f #f #f 'default 12.0 #f 'default 'normal 'normal 1 '#(1 12.0 normal normal #f default #f aligned)) 'bottom 0.0 0.0 0.0 0.0 (object:style-list% '#<hash> #0# '(#0#) 1 #<procedure:add-member>) \"Basic\" #f #f (object:style-delta% 'default #f 0 12 'normal 'base 'normal 'base 'default 'base #f #t #f #t #f #f 'bottom 'base (object:mult-color% 0 0 0) (object:mult-color% 0 0 0) (object:add-color% 0 0 0) (object:add-color% 255 255 255)) #t (object:pen% '#(0 0 0 1.0 0 solid round round) #t 0 #f (object:color% 0 0 0 1.0 #t) 'round 'round 'solid 0) (object:brush% '#(255 255 255 1.0 solid) (object:color% 255 255 255 1.0 #t) 'solid #t 0 #f #f #f #f) 0 '()) (translate 30 30 (ellipse 60 60 0 'outline \"red\" #f)) (bb 60 60 60) #f #f #f #f #t)"
      ]
     },
     "execution_count": 6,
     "metadata": {},
     "output_type": "execute_result"
    }
   ],
   "source": [
    "(circle 30 \"outline\" \"red\")"
   ]
  },
  {
   "cell_type": "code",
   "execution_count": 11,
   "metadata": {
    "vscode": {
     "languageId": "racket"
    }
   },
   "outputs": [
    {
     "data": {
      "text/html": [
       "<code><img style=\"display: inline; vertical-align: baseline; padding: 0pt; margin: 0pt; border: 0pt\" src=\"data:image/png;base64,iVBORw0KGgoAAAANSUhEUgAAAGQAAABkCAYAAABw4pVUAAAEi0lEQVR4nO2dQW8bRRiGn7W9\r\n",
       "sZO4kMYXJxWouMJBTRHHBOXIsUpv0FbwD/hftFwpvSIhUSk5k7aqUUMlaOqL01Q4ie21vRxC\r\n",
       "IG0SMrue3Z3Z+Z57vO/42flmZq1863357WchgjEUsg4gvI0IMQwRYhgixDBEiGGIEMMQIYYh\r\n",
       "QgxDhBhGSeeHFT24NhfQnBtypTpmvjKiUjx6ENAbeez2irzsFmjtlXi+5zOSZwSn0CKkXIS1\r\n",
       "xR4r9QFV/+xvuVoIqfpDPrwEny8M6AYem+0pHu1U6I90pMgHEwu5URuy3jg4V8R5VP2QLz7o\r\n",
       "s1If8GB7hq2O1slqLbHXkIIXcqvR4+7SfmQZJ6n6IXeX9rnV6FHwpIbFElLwQm43D1ip97UF\r\n",
       "Wan3udM8pOhp+0griSXk5tU+N2pD3VlYrgXcWTpwWkpkIcu1gNUFfTPjXa7PB3zzyQElRzfk\r\n",
       "kYZdLsL6R4dJZfmX5uWAr5fclBJpyGuLPS5NpbPwNi8H3G66V76UhRQ9WKkPksxyChfLl/JQ\r\n",
       "r80FE21v4+LaTFEW0pzTv6tS5fq8O7svZSFXquMkc1yIK+VLeXjzlewfOLlQvpSFHD+1zZq8\r\n",
       "zxQrh5Xnc4rykHojs+pEXsuXspDdXjHJHLHIY/lSHsrLrpmjzttMUf6WW3vm/oCUp3OKspDn\r\n",
       "ez7dwNwR56V8KccfhbDZnkoyy8TkoXxFup9+2anw18Ds0do+UyLFHozgwe/TSWXRhs3nlMiR\r\n",
       "H3d8Nl6Vk8iiFVvLV6x76OGLMo87vu4s2rFx9xVLyDj0uN+a4emuHVJsWlNixxyH8N0zO6TY\r\n",
       "tKZMFFGk6GfieCJFL1qiiRR9aIslUvSgNZJImRztcUTKZCQSRaTEJ7EYIiUeiUYQKdFJ/PIi\r\n",
       "JRqpXFqkqJPaZUWKGqleUqRcTOr3gEj5fzKplCLlfDLbT4iUs8l01y1STpP52VSkvE3mQkCk\r\n",
       "nMQIISBSjjFGCIgUMEwIiBTjhIDbUowUAu5KMVYIuCnFaCHgnhTjhcCRlHvPZnhiiZSvPj6I\r\n",
       "3a7QCiFw9B9c9y2RslwLuHk1XpM3a4TAkZR7lpSv1YU+n9aCyH9nlRCwa01ZbxxSjtiSxDoh\r\n",
       "YM+aMuuHrC1GK11WCgF7ytdqfRBp12WtELBjpsz6IY331dcSq4WAHbuvKN34rBcC5pevxVn1\r\n",
       "5m+5EAJml6/atHp7xNwIAXNnSpRufLkSAnadU84id0LAvPIVpRtfLoWAWeWrc6j+NedWCJgz\r\n",
       "U3b21dsj5loImHFOidKNL/dCINvytR94bL9Rv64TQiC78rXRnmIYoUu7M0Ig/ZnSDTwe7UTr\r\n",
       "LeaUEEj3nPLj9jT9iA2onRMC6ZSvjVdlfo3R5M1JIfDf7iuJznhbnRIPX8Rrg+isEPhHSmua\r\n",
       "zba+HpKb7TLft2YYh/H6CprbrjolxqHHD9sVtt+UYr1C9phu4Gl5hazzQo7Z6pT4be+9C1+y\r\n",
       "/C66X7IsQk7QH8FPf1T4+c9KZq8hFyFnMAqh9dqn9Tr9k73Ti7qJiBDDECGGIUIMQ4QYhggx\r\n",
       "DBFiGCLEMESIYfwN+JFttSFHVkAAAAAASUVORK5CYII=\r\n",
       "\"/></code>"
      ],
      "text/plain": [
       "(object:image% #f #f #f #f 1 0 (object:image-snipclass% #f \"((lib \\\"image-core.ss\\\" \\\"mrlib\\\") (lib \\\"image-core-wxme.rkt\\\" \\\"mrlib\\\"))\" 1) #0=(object:style% (object:color% 0 0 0 1.0 #f) (object:color% 255 255 255 1.0 #f) (object:font% #f 'aligned '#(12.0 default normal normal #f default #f aligned) #f #f #f 'default 12.0 #f 'default 'normal 'normal 1 '#(1 12.0 normal normal #f default #f aligned)) 'bottom 0.0 0.0 0.0 0.0 (object:style-list% '#<hash> #0# '(#0#) 1 #<procedure:add-member>) \"Basic\" #f #f (object:style-delta% 'default #f 0 12 'normal 'base 'normal 'base 'default 'base #f #t #f #t #f #f 'bottom 'base (object:mult-color% 0 0 0) (object:mult-color% 0 0 0) (object:add-color% 0 0 0) (object:add-color% 255 255 255)) #t (object:pen% '#(0 0 0 1.0 0 solid round round) #t 0 #f (object:color% 0 0 0 1.0 #t) 'round 'round 'solid 0) (object:brush% '#(255 255 255 1.0 solid) (object:color% 255 255 255 1.0 #t) 'solid #t 0 #f #f #f #f) 0 '()) (translate 0 0 (overlay (line-segment (point 25 25) (point 75 75) (pen \"goldenrod\" 30 'solid 'round 'round)) (translate 0 0 (polygon (list (pulled-point 0 0 0 0 0 0) (pulled-point 0 0 100 0 0 0) (pulled-point 0 0 100 100 0 0) (pulled-point 0 0 0 100 0 0)) 255 \"darkolivegreen\")))) (bb 100 100 100) #f #f #f #f #t)"
      ]
     },
     "execution_count": 11,
     "metadata": {},
     "output_type": "execute_result"
    }
   ],
   "source": [
    "(add-line\n",
    "    (rectangle 100 100 \"solid\" \"darkolivegreen\")\n",
    "    25 25 75 75\n",
    "    (make-pen \"goldenrod\" 30 \"solid\" \"round\" \"round\"))"
   ]
  },
  {
   "cell_type": "code",
   "execution_count": 16,
   "metadata": {
    "vscode": {
     "languageId": "racket"
    }
   },
   "outputs": [
    {
     "data": {
      "text/html": [
       "<code><img style=\"display: inline; vertical-align: baseline; padding: 0pt; margin: 0pt; border: 0pt\" src=\"data:image/png;base64,iVBORw0KGgoAAAANSUhEUgAAAFAAAABQCAYAAACOEfKtAAADNElEQVR4nO3cQWvbMBQH8L/T\r\n",
       "1A45NKHptlPuhayQQ+kK25faZ9tnGJSyQyEb5B7ooSyjySGJnaTeIfFWBit6epKenL7/ucbS\r\n",
       "D7uWnqQkn758LqGxTkO6AXWPAjKjgMwoIDMKyIwCMqOAzCggMwrITJN6wWayQDGa4elhhXJz\r\n",
       "GJOYpJmg8baF9KKDZr9NupYEWHz7hfzukXSDOqTclNjeL7G8XyIbdpFenhpfa/wKbyaLg8T7\r\n",
       "N/ndIzaThfHfGwMWo5lVg+oYSl+NAZ8eVlaNqWMofTX/CieJTVtqmbJh3ldjwMabzKoxdczR\r\n",
       "mXlfjQHTi45VY+oYSl+NAZv99qtApI4FSTOR7KqH9P3hIh6fnyC76pGuoc1EEiD7sLtB8Z0+\r\n",
       "rDk+P0Hr4xng63tUAvnNFMWPcG2jz4X3iDZP4no8x+rrT8DHDFAAD7AtJsSGKIQHcKoxsSAK\r\n",
       "4gHccpY0ojAe4KIeKIUYAR7gqqAaGjESPMBlRToUYkR4gOuSvm/EyPAAH2sivhAjxAN8LSq5\r\n",
       "RowUD7BYVDIOY9q3Hs8BYNdxxIsH+AQE/iKWIAOsx3MkR7ue2+Clgw6y655XPMA3ILBD3HeE\r\n",
       "+iTawAH7qkoAPCDUwjrjfyI1IV7b5wm3MyEAYmg8IPTWDo+IEniAxN4YD4hSeIDU5iKHiJJ4\r\n",
       "QIiv8P/CGOJUCTVUeSm13t5WbuV3h8kBMqZnVbyusRhGBtABXhVpxPCADvGqSCKGBfSAV0UK\r\n",
       "MRygR7wqEohhAAPgVQmN6B+QgZcOOkgHdkXZ/GYaBNHvQJpZSc6u9xt9LEth5bascUHVYRne\r\n",
       "SWXbE6KfV9j1Gob0DogX4h7Q1wJQpIhuAX2vnkWI6A4w1NJjZIhuAEOv20aEyAeUWvSOBJEH\r\n",
       "KL1jIAJEe0BpvCrCiHaAseBVEUSkA8aGV0UIkTaVY1ZV1uP5n+lVbLGd9pGewPw2TElKKuvx\r\n",
       "HPntlHQN6cT6azh0XYxmemKdGz2xzoyeWGdGT6wzoyfWmfF2Yj0bdq0aVKdkwy7pxDppIJ1e\r\n",
       "nqLxrqU//fQs5EWlZr9Nvskhp9bb22KIAjKjgMwoIDMKyIwCMqOAzCggMwrIzG/PDzkTTq4j\r\n",
       "2wAAAABJRU5ErkJggg==\r\n",
       "\"/></code>"
      ],
      "text/plain": [
       "(object:image% #f #f #f #f 1 0 (object:image-snipclass% #f \"((lib \\\"image-core.ss\\\" \\\"mrlib\\\") (lib \\\"image-core-wxme.rkt\\\" \\\"mrlib\\\"))\" 1) #0=(object:style% (object:color% 0 0 0 1.0 #f) (object:color% 255 255 255 1.0 #f) (object:font% #f 'aligned '#(12.0 default normal normal #f default #f aligned) #f #f #f 'default 12.0 #f 'default 'normal 'normal 1 '#(1 12.0 normal normal #f default #f aligned)) 'bottom 0.0 0.0 0.0 0.0 (object:style-list% '#<hash> #0# '(#0#) 1 #<procedure:add-member>) \"Basic\" #f #f (object:style-delta% 'default #f 0 12 'normal 'base 'normal 'base 'default 'base #f #t #f #t #f #f 'bottom 'base (object:mult-color% 0 0 0) (object:mult-color% 0 0 0) (object:add-color% 0 0 0) (object:add-color% 255 255 255)) #t (object:pen% '#(0 0 0 1.0 0 solid round round) #t 0 #f (object:color% 0 0 0 1.0 #t) 'round 'round 'solid 0) (object:brush% '#(255 255 255 1.0 solid) (object:color% 255 255 255 1.0 #t) 'solid #t 0 #f #f #f #f) 0 '()) (overlay (translate 15 15 (translate 0 0 (polygon (list (pulled-point 0 0 0 0 0 0) (pulled-point 0 0 50 0 0 0) (pulled-point 0 0 0 50 0 0) (pulled-point 0 0 50 50 0 0)) 'outline (pen \"darkslategray\" 10 'solid 'round 'round)))) (translate 0 0 (translate 0 0 (polygon (list (pulled-point 0 0 0 0 0 0) (pulled-point 0 0 80 0 0 0) (pulled-point 0 0 80 80 0 0) (pulled-point 0 0 0 80 0 0)) 255 \"mediumseagreen\")))) (bb 80 80 80) #f #f #f #f #t)"
      ]
     },
     "execution_count": 16,
     "metadata": {},
     "output_type": "execute_result"
    }
   ],
   "source": [
    "\n",
    " (require lang/posn)\n",
    "\n",
    "(underlay\n",
    "   (rectangle 80 80 \"solid\" \"mediumseagreen\")\n",
    "   (polygon\n",
    "    (list (make-posn 0 0)\n",
    "          (make-posn 50 0)\n",
    "          (make-posn 0 50)\n",
    "          (make-posn 50 50))\n",
    "    \"outline\"\n",
    "    (make-pen \"darkslategray\" 10 \"solid\" \"round\" \"round\")))\n"
   ]
  },
  {
   "cell_type": "code",
   "execution_count": 1,
   "metadata": {
    "vscode": {
     "languageId": "racket"
    }
   },
   "outputs": [],
   "source": [
    "#lang iracket/lang #:require racket/base "
   ]
  },
  {
   "cell_type": "code",
   "execution_count": 8,
   "metadata": {
    "vscode": {
     "languageId": "racket"
    }
   },
   "outputs": [
    {
     "name": "stderr",
     "output_type": "stream",
     "text": [
      "instantiate-linklet: mismatch;\n",
      " reference to a variable that is uninitialized;\n",
      " possibly, bytecode file needs re-compile because dependencies changed\n",
      "  name: get-double-click-time\n",
      "  exporting instance: \"/usr/share/racket/pkgs/gui-lib/mred/private/wx/platform.rkt\"\n",
      "  importing instance: \"/usr/share/racket/pkgs/gui-lib/mred/private/wxme/wx.rkt\"\n",
      "  context...:\n",
      "   body of \"/usr/share/racket/pkgs/gui-lib/mred/private/wxme/wx.rkt\"\n",
      "   body of top-level\n",
      "   /usr/share/racket/pkgs/sandbox-lib/racket/sandbox.rkt:703:9: loop\n"
     ]
    }
   ],
   "source": [
    "\n",
    "(require 2htdp/image)\n",
    "(require 2htdp/universe)\n",
    "\n",
    "(define padding 0.1)\n",
    "(define size 400)\n",
    "(define width (- size (* size padding)))\n",
    "(define height (- size (* size padding)))\n",
    "(define lambda-width (/ width 2))\n",
    "(define lambda-height (/ height 2))\n",
    "\n",
    "; (define black-square (rectangle lambda-width lambda-height \"solid\" \"black\"))\n",
    "; (define rotated-black-square (rotate 45 black-square))\n",
    "; (define white-background (rectangle width height \"solid\" \"white\"))\n",
    "\n",
    "(rectangle lambda-width lambda-height \"solid\" \"black\")\n",
    "; (define racket-logo\n",
    "  ; (overlay/align \"center\"\n",
    "  ;   white-background\n",
    "  ;   (overlay (scale (* 0.9) (* 0.1) black-square)\n",
    "  ;            (scale (* 0.9) (* 0.1) rotated-black-square)));)\n",
    "\n",
    "\n",
    "; (big-bang 0 (on-draw (lambda (_) racket-logo)))\n"
   ]
  },
  {
   "cell_type": "code",
   "execution_count": 8,
   "metadata": {
    "vscode": {
     "languageId": "racket"
    }
   },
   "outputs": [
    {
     "data": {
      "text/html": [
       "<code><img style=\"display: inline; vertical-align: baseline; padding: 0pt; margin: 0pt; border: 0pt\" src=\"data:image/png;base64,iVBORw0KGgoAAAANSUhEUgAAAGQAAABXCAYAAADyDOBXAAAIgklEQVR4nO2de4wdZRnGf29P\r\n",
       "L9tdVq5ysaWlFrSKYEUDLC2CEIOxrbZ/SIqopDGQYFS0CjE1ViOiQrI03hLRlmgjxhgirVrT\r\n",
       "SLRawIVC5CJKqbF2AbuA9OL2ttDdffzjmxNmT2fOmTOXMzMn50m+7Nk57/fO887z3eb7vplj\r\n",
       "kig7zDAAidIHMylvAimhQpvE0hZB4OJoi1jaIgjaqIZMzptASmgLMaB9BKmA69jLjnYRpFND\r\n",
       "CoZK3gTSQjsJ0mmyCoQuYCxvEmmgI0jB0C6CTKMjSKHQEaRg6DRZBUOnhhQMXcB43iTSQLsI\r\n",
       "0kOnhhQKvXQEKRR6gdG8SaSBUgpixhuARcAHgNnA/YCZsQUYBDYDmyQO5McyHkoliBkzga8D\r\n",
       "H8WNrKr4HW7G93Lv/+uAETPuAVZL7G4lzyQozbS1GcuAvwErmCgGwAHgYM2xLuCTwNNmLMme\r\n",
       "YToohSBmXAvcC5wQYnLAS0E4EbjPjKuz4JY2Ci+IGecD66jPdb+XwlABfmrGuWlyywKFFwT4\r\n",
       "Psc2UbXY46V66AK+mwqjDFFoQcy4ELg0gmkUQQCuMGN+MlbZotCCAEsj2kUVpBmfuaDow94L\r\n",
       "I9iM4/oPA0TjpdwoPnND0WvIrAg2+yXGJEaB4Qj2sxNyyhRFF2RqBJs9IZ/DMCUml5ag6IIc\r\n",
       "jmDzYsjnJD5zQ9EFGYxg458WGYpgvyseldag6II8GcFmd8jnMDwVk0tLUHRBtkaw8TdTUWrI\r\n",
       "AzG5tARFF+SPNB45NdNkDdMRJD4kRoCNDcyGQj4H4T7PZ2FRaEE83NXg++dCPsfxlTusDA99\r\n",
       "mjEAXBzw1TjQLfGqZzcdOETw3fqDUqR5sVxRhhoCcFvI8aGqGAASR4CXmvRRKJRCEInfAn8I\r\n",
       "+OrfAceC7l22SGxOl1U2KIUgHm7h2K0+QRe/VqRRYGUmjDJAaQSR+CvwnZrDQTWk9tidEk9k\r\n",
       "wyp9lEYQD6uBnb7/nw2w8R/7J/C1LAmljVIJInEIuAY46h16JsBsu/d3FLjO6+hLg1IJAiCx\r\n",
       "DVfqRXANqYq0SmKgVbzSQtFXDMPwbWCOdMxeLCSGzVgL9LeeVnKU4sYwCGb0AXulibXEjLcB\r\n",
       "x0s8nA+zZChdk+XDJcBGs9c3z5lxEm7u66LcWCVEmQWZD7wVuNeMaWZ0Ab8CzgHelSuzBChr\r\n",
       "HwKvX/QrgfW4tfLLar4rHUrZh3iTiMOEF6hRoLfoU+1BKGuTdR71a/dk4B0t4pIqyipIXwSb\r\n",
       "oOn6wqOsgiyIYBNFtMKhdIKYMQk35G2EBdW3lZYJpRLEjAqwFpgRwXw2sN6s2DsVa1GaUZY3\r\n",
       "svolsLjJrBuB5WUZcZVCEDNOATYQre8IwgPAMinyIwu5ofCCmDEX2IS7K0+CfwGLaue+ioZC\r\n",
       "9yFmXAIMkFwMgLnAX8x4bwq+MkOmNcSMybgHZObjbuZmAmfgnoytYgS3I/0V3Ea354Dncevl\r\n",
       "PwNOS5nWEPAxYA7u+ZNZwOnAG4FuJj7PuNezfwF4GngceNR7FiUbSEo1gQz0PtDPQftAajId\r\n",
       "Bd3k8zcDtAT0DdDhGP4OgG4FLQa9yef3C6DRGP72gu4BXZb2tZM7Rapi9IG2xQiymv4LuiLE\r\n",
       "90zQeAyfY6DTQny+H7QnAd+HQRcVThCvVnw1ZomrpsdBc+qc4zMh+V4CrQWtA70cYnNDHb9z\r\n",
       "QU8l4D0K+jLIiiTI9xIEJNCPQdMbnGPAZ/8C6E7QAtAkn00FtBC0BvQfn/2fG/juBt2dMIY1\r\n",
       "hRAEdH2CIA6CPh7hHPNAr4B+CLrcL0KdPJNwfdmPvLxvjpBnBehQgnhW5CoI6CTQ/pjk/wF6\r\n",
       "ewP/FdAi0FLQlAQ8p4KWgT4IqjSwPQ+0PWZMe0En5inIl2ISXwfqqeP3bNBtuGbnVdAZiUse\r\n",
       "OhM3gnseN2KbW8e2F/STmLHdnKcgj8UoQR+pUxs+DPo9E0dT65OK4TvHL3x+x0GbcUPqwCYQ\r\n",
       "tDxGCzCQiyBeM/BaE0S3gmYF+DnFq2m7QvJdkKIgfSHn2Am6GXRyQJ6zQA82EecIaHIegsyI\r\n",
       "SPAo6CvUtN2gc3FN15E6eTenJYbvvFvqnO8IbhAwryZPBTesPxox5lPzEGRmBGJ/B72nJt9C\r\n",
       "0G+IdpOX6k2Xd/4FEc47DroftKQm7ztBTxRVkKle9QwiNAq6A9TlK2HLaa7P2ZC2GD7um5rg\r\n",
       "sQ10dbWGg7pA/bgZgCD7w+TRZHnkBgII7cSb5wFNAX2C5oeRI6C3ZCjI2dRvKoPSTtBNoGme\r\n",
       "jz7QjgC7rYm4JQys30dkDHfH3gOaDvo0aLDJoKtpdVZi+LjfGpPbLtCnvJpyHOgHTGx+b89T\r\n",
       "kHkemWdwbXMP6IugoZjBCtesTW2BINNw82dxee4GrcRNu1wKetYrlIlqdtKgpoBWgU4AfQ70\r\n",
       "YoIAhZsqz6ypCilQBxNyHgJ91rsGq0jQf0iKv2JoxruBh3Crjo8Ca0i2mDQGXCOxI4GPpiCx\r\n",
       "HbiWZO+NPx337OMjuLefPmSWYG9xjFLVA/oWbqJvtnfsxoSlbAx0fatqRkBMNxJvrcWfbvB8\r\n",
       "nQW6Czf1051pk4WbZugPalZw0+FxAnmNCDO+LRBlBdFv/GrTHSHNYT9oceqCgGaBPk+DGzXQ\r\n",
       "LYSPz4PSIKgvbzF8/BfiJh+bqdkrG/i82Lt2ZyYWBNdpX0UT68deUI2Wcf8H+ibouLxFCODf\r\n",
       "C7odNNwghoFmChNuHecqGnT6obtOzJiDe9f6k1LzPyfkPQP4IeAC4GTczpIdwJ+ADQp4YLNI\r\n",
       "8H4SYynuIaBzcDtS9gCPAb+WeCSGzwpwPrBPCn7V4DGCmHE8brvOYNEvWllhRjduG9JuiX0T\r\n",
       "vqsK4u2hOhU4UmvUQTbwCn8P8LK8vV4mCTN6gIoU6UXEHaQMM3qBcYlDBqpI7fGDWmWHGZX/\r\n",
       "A58yfDoLUVrzAAAAAElFTkSuQmCC\r\n",
       "\"/></code>"
      ],
      "text/plain": [
       "(object:image% #f #f #f #f 1 0 (object:image-snipclass% #f \"((lib \\\"image-core.ss\\\" \\\"mrlib\\\") (lib \\\"image-core-wxme.rkt\\\" \\\"mrlib\\\"))\" 1) #0=(object:style% (object:color% 0 0 0 1.0 #f) (object:color% 255 255 255 1.0 #f) (object:font% #f 'aligned '#(12.0 default normal normal #f default #f aligned) #f #f #f 'default 12.0 #f 'default 'normal 'normal 1 '#(1 12.0 normal normal #f default #f aligned)) 'bottom 0.0 0.0 0.0 0.0 (object:style-list% '#<hash> #0# '(#0#) 1 #<procedure:add-member>) \"Basic\" #f #f (object:style-delta% 'default #f 0 12 'normal 'base 'normal 'base 'default 'base #f #t #f #t #f #f 'bottom 'base (object:mult-color% 0 0 0) (object:mult-color% 0 0 0) (object:add-color% 0 0 0) (object:add-color% 255 255 255)) #t (object:pen% '#(0 0 0 1.0 0 solid round round) #t 0 #f (object:color% 0 0 0 1.0 #t) 'round 'round 'solid 0) (object:brush% '#(255 255 255 1.0 solid) (object:color% 255 255 255 1.0 #t) 'solid #t 0 #f #f #f #f) 0 '()) (translate -0.0 86.60254037844388 (polygon (list (pulled-point 1.8 30 0 0 1.8 -30) (pulled-point 1.8 30 100 0 1.8 -30) (pulled-point 1.8 30 50.00000000000002 -86.60254037844388 1.8 -30)) 255 \"blue\")) (bb 100.0 86.60254037844388 86.60254037844388) #f #f #f #f #t)"
      ]
     },
     "execution_count": 8,
     "metadata": {},
     "output_type": "execute_result"
    }
   ],
   "source": [
    "(pulled-regular-polygon 100 3 1.8 30 \"solid\" \"blue\")\n",
    "\n",
    "\n",
    "\n",
    "    "
   ]
  },
  {
   "cell_type": "code",
   "execution_count": null,
   "metadata": {
    "vscode": {
     "languageId": "racket"
    }
   },
   "outputs": [],
   "source": []
  }
 ],
 "metadata": {
  "kernelspec": {
   "display_name": "Racket",
   "language": "racket",
   "name": "racket"
  },
  "language_info": {
   "codemirror_mode": "scheme",
   "file_extension": ".rkt",
   "mimetype": "text/x-racket",
   "name": "Racket",
   "pygments_lexer": "racket",
   "version": "8.2"
  }
 },
 "nbformat": 4,
 "nbformat_minor": 2
}
