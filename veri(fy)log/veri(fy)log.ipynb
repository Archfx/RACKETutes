{
 "cells": [
  {
   "attachments": {},
   "cell_type": "markdown",
   "metadata": {},
   "source": [
    "  <picture>\n",
    "  <source srcset=\"https://raw.githubusercontent.com/Archfx/RACKETutes/main/images/racketutes-w.svg\" media=\"(prefers-color-scheme: dark)\">\n",
    "    <img src=\"https://raw.githubusercontent.com/Archfx/RACKETutes/main/images/racketutes.svg\">\n",
    "  </picture>\n",
    "\n",
    "Veri(fy)log\n",
    "==="
   ]
  },
  {
   "attachments": {},
   "cell_type": "markdown",
   "metadata": {},
   "source": [
    "In previous posts, we discussed Racket and Rosette. This is the post where we are going to verify our hardware designs using the infrastructure we have developed so far. We will be looking at verifying Verilog hardware designs with Rosette. Later in this tutorial, we will be validating a simple design based on Verilog implemented picoRV processor that works with a simple firmware that we implemented in one of my previous blog posts."
   ]
  },
  {
   "attachments": {},
   "cell_type": "markdown",
   "metadata": {},
   "source": [
    "We need to follow several steps to convert Verilog designs to Racket (.rkt) native formats. For this purpose, we need [Yosys]() and [rtlv]().\n",
    "\n"
   ]
  },
  {
   "cell_type": "code",
   "execution_count": 1,
   "metadata": {
    "vscode": {
     "languageId": "racket"
    }
   },
   "outputs": [],
   "source": [
    "#lang iracket/lang\n",
    "\n",
    "(require rosette/safe)\n",
    "(require racket)\n",
    "(require racket/vector)"
   ]
  },
  {
   "attachments": {},
   "cell_type": "markdown",
   "metadata": {},
   "source": [
    "```shell\n",
    "hello\n",
    "```"
   ]
  },
  {
   "cell_type": "code",
   "execution_count": 2,
   "metadata": {
    "vscode": {
     "languageId": "racket"
    }
   },
   "outputs": [],
   "source": [
    "(define (add-vectors a b)\n",
    "  (define (full-adder x y c-in)\n",
    "    (let* ((sum (bitwise-xor x y c-in))\n",
    "           (carry (bitwise-ior (bitwise-and x y) (bitwise-and c-in (bitwise-xor x y)))))\n",
    "      (cons sum carry)))\n",
    "  (let* ((result (make-vector 32 0))\n",
    "         (carry 0))\n",
    "    (for ([i (in-range 31 -1 -1)])\n",
    "      (let* ((full-add (full-adder (vector-ref a i) (vector-ref b i) carry))\n",
    "             (sum (car full-add))\n",
    "             (carry (cdr full-add)))\n",
    "        (vector-set! result i sum)))\n",
    "    result))"
   ]
  },
  {
   "cell_type": "code",
   "execution_count": 3,
   "metadata": {
    "vscode": {
     "languageId": "racket"
    }
   },
   "outputs": [
    {
     "data": {
      "text/html": [
       "<code>'#(1 1 1 1 1 0 0 1 1 1 1 1 1 1 1 1 1 1 1 1 1 1 1 1 1 1 0 1 1 1 1 0)</code>"
      ],
      "text/plain": [
       "'#(1 1 1 1 1 0 0 1 1 1 1 1 1 1 1 1 1 1 1 1 1 1 1 1 1 1 0 1 1 1 1 0)"
      ]
     },
     "execution_count": 3,
     "metadata": {},
     "output_type": "execute_result"
    }
   ],
   "source": [
    "(add-vectors #(0 1 0 0 1 1 0 1 0 0 0 1 1 1 0 1 1 1 0 1 0 0 0 0 1 1 1 1 0 1 1 1)\n",
    "               #(1 0 1 1 0 1 0 0 1 1 1 0 0 0 1 0 0 0 1 0 1 1 1 1 0 0 1 0 1 0 0 1))"
   ]
  },
  {
   "cell_type": "code",
   "execution_count": 12,
   "metadata": {
    "vscode": {
     "languageId": "racket"
    }
   },
   "outputs": [],
   "source": [
    "(define (add-vectors2 vec1 vec2)\n",
    "  (let loop ((carry 0)\n",
    "             (result '())\n",
    "             (vec1 (reverse vec1))\n",
    "             (vec2 (reverse vec2)))\n",
    "    (cond ((and (null? vec1) (null? vec2))\n",
    "           (if (= carry 1)\n",
    "               (cons 1 result)\n",
    "               result))\n",
    "          ((null? vec1)\n",
    "           (loop carry (cons (+ carry (car vec2) 0) result) '() (cdr vec2)))\n",
    "          ((null? vec2)\n",
    "           (loop carry (cons (+ carry (car vec1) 0) result) (cdr vec1) '()))\n",
    "          (else\n",
    "           (let ((sum (+ (car vec1) (car vec2) carry)))\n",
    "             (loop (if (> sum 1) 1 0)\n",
    "                   (cons (modulo sum 2) result)\n",
    "                   (cdr vec1)\n",
    "                   (cdr vec2)))))))"
   ]
  },
  {
   "cell_type": "code",
   "execution_count": 14,
   "metadata": {
    "vscode": {
     "languageId": "racket"
    }
   },
   "outputs": [
    {
     "data": {
      "text/html": [
       "<code>'#(0 0 0 1 1 1 1 0 0 0 0 0 0 0 0 0 0 0 0 0 0 0 0 0 0 0 0 0 0 0 0 0)</code>"
      ],
      "text/plain": [
       "'#(0 0 0 1 1 1 1 0 0 0 0 0 0 0 0 0 0 0 0 0 0 0 0 0 0 0 0 0 0 0 0 0)"
      ]
     },
     "execution_count": 14,
     "metadata": {},
     "output_type": "execute_result"
    }
   ],
   "source": [
    "(define vec1 (vector 1 1 1 0 0 0 0 0 0 0 0 0 0 0 0 0 0 0 0 0 0 0 0 0 0 0 0 0 0 0 0 0))\n",
    "(define vec2 (vector 1 1 1 1 1 1 1 0 0 0 0 0 0 0 0 0 0 0 0 0 0 0 0 0 0 0 0 0 0 0 0 0))\n",
    "\n",
    "(add-vectors vec1 vec2)\n"
   ]
  },
  {
   "cell_type": "code",
   "execution_count": null,
   "metadata": {
    "vscode": {
     "languageId": "racket"
    }
   },
   "outputs": [],
   "source": []
  }
 ],
 "metadata": {
  "kernelspec": {
   "display_name": "Racket",
   "language": "racket",
   "name": "racket"
  },
  "language_info": {
   "codemirror_mode": "scheme",
   "file_extension": ".rkt",
   "mimetype": "text/x-racket",
   "name": "Racket",
   "pygments_lexer": "racket",
   "version": "8.2"
  },
  "orig_nbformat": 4
 },
 "nbformat": 4,
 "nbformat_minor": 2
}
